{
  "nbformat": 4,
  "nbformat_minor": 0,
  "metadata": {
    "colab": {
      "name": "bellabeat.ipynb",
      "provenance": [],
      "collapsed_sections": [],
      "toc_visible": true,
      "mount_file_id": "1hfcLwSmTPybkPSyLObolHBLSycq7f36k",
      "authorship_tag": "ABX9TyPfFVKeaQu/IuBWt2Ft/oXG",
      "include_colab_link": true
    },
    "kernelspec": {
      "name": "python3",
      "display_name": "Python 3"
    },
    "language_info": {
      "name": "python"
    }
  },
  "cells": [
    {
      "cell_type": "markdown",
      "metadata": {
        "id": "view-in-github",
        "colab_type": "text"
      },
      "source": [
        "<a href=\"https://colab.research.google.com/github/dooinn/bellabeat-pyton/blob/main/bellabeat.ipynb\" target=\"_parent\"><img src=\"https://colab.research.google.com/assets/colab-badge.svg\" alt=\"Open In Colab\"/></a>"
      ]
    },
    {
      "cell_type": "markdown",
      "metadata": {
        "id": "BgEpczPhVXAa"
      },
      "source": [
        "# Smart Wellness products User Habits\n"
      ]
    },
    {
      "cell_type": "markdown",
      "metadata": {
        "id": "cFXaEtRCzJVG"
      },
      "source": [
        "## Introduction\n",
        "\n",
        "This data analysis project is a part of Google Analytics Certificate Project. The project is designed to give business insights to the marketing team in the Bellbeat, the fictional company which is a high-tech manufactuere of health-focused products for women.\n",
        "\n",
        "The main goal of this project is to investigate the customer's habit who are using the wellness products.\n",
        "\n",
        "Bellabeat already have their own smart wellness and health products. The prominent product is Wellness-habit-tracker mobile app which allows users to track their stres level, sleep hours, caolories etc.\n",
        "\n",
        "However, the company is attempting to expand users of their smart products, and the company belives that they are able to obtain some insights to understand the market trend of the smart devices users by investigating the data from external sources.\n",
        "\n",
        "**Data Sources**:\n",
        "The provided dataset is the part of real world data that contains personal fitness tracker from thirty fitbit users (Available at: https://www.kaggle.com/arashnic/fitbit)\n",
        "\n",
        "\n"
      ]
    },
    {
      "cell_type": "markdown",
      "metadata": {
        "id": "PhTVLNWu5mIk"
      },
      "source": [
        "### Scenario\n",
        "You are a junior data analyst working on the marketing analyst team at Bellabeat, a high-tech manufacturer of health-focused products for women. Bellabeat is a successful small company, but they have the potential to become a larger player in the global smart device market. Urška Sršen, cofounder and Chief Creative Officer of Bellabeat, believes that analyzing smart device fitness data could help unlock new growth opportunities for the company. You have been asked to focus on one of Bellabeat’s products and analyze smart device data to gain insight into how consumers are using their smart devices. The insights you discover will then help guide marketing strategy for the company. You will present your analysis to the Bellabeat executive team along with your high-level recommendations for Bellabeat’s marketing strategy."
      ]
    },
    {
      "cell_type": "markdown",
      "metadata": {
        "id": "D5xItdDv5p4P"
      },
      "source": [
        "\n",
        "### Project Goals\n",
        "*   What is the distribution of daily calories burnt?\n",
        "*   What is the distribution of daily sleep length?\n",
        "*   Are there correlations between weights and activity intensities/calories and activity, steps and intensities/calories and sleep length?\n",
        "\n",
        "\n"
      ]
    },
    {
      "cell_type": "markdown",
      "metadata": {
        "id": "dDVtwVZM50ac"
      },
      "source": [
        "## Import Python modules"
      ]
    },
    {
      "cell_type": "code",
      "metadata": {
        "colab": {
          "base_uri": "https://localhost:8080/"
        },
        "id": "5E-ScEWYrM1q",
        "outputId": "0db18c5b-eb0e-4c3c-b8ca-42b08cd162f6"
      },
      "source": [
        "from google.colab import drive\n",
        "drive.mount('/content/drive')"
      ],
      "execution_count": null,
      "outputs": [
        {
          "output_type": "stream",
          "text": [
            "Drive already mounted at /content/drive; to attempt to forcibly remount, call drive.mount(\"/content/drive\", force_remount=True).\n"
          ],
          "name": "stdout"
        }
      ]
    },
    {
      "cell_type": "code",
      "metadata": {
        "id": "ULfgK5cWr_7F"
      },
      "source": [
        "import numpy as np\n",
        "import pandas as pd\n",
        "import seaborn as sns\n",
        "import matplotlib.pyplot as plt"
      ],
      "execution_count": null,
      "outputs": []
    },
    {
      "cell_type": "code",
      "metadata": {
        "id": "BeSJjue3sblM"
      },
      "source": [
        "sns.set_style('whitegrid');"
      ],
      "execution_count": null,
      "outputs": []
    },
    {
      "cell_type": "markdown",
      "metadata": {
        "id": "G84680tr6BU-"
      },
      "source": [
        "##Loading the data"
      ]
    },
    {
      "cell_type": "code",
      "metadata": {
        "id": "moyQ51mosc5c"
      },
      "source": [
        "# Activity\n",
        "dailyActivity = pd.read_csv(\"/content/drive/MyDrive/Data analysis/Bellabeat/dailyActivity_merged.csv\")\n",
        "\n",
        "# Calories\n",
        "dailyCalories = pd.read_csv(\"/content/drive/MyDrive/Data analysis/Bellabeat/dailyCalories_merged.csv\")\n",
        "hourlyCalories = pd.read_csv(\"/content/drive/MyDrive/Data analysis/Bellabeat/hourlyCalories_merged.csv\")\n",
        "minuteCaloriesNarrow = pd.read_csv(\"/content/drive/MyDrive/Data analysis/Bellabeat/minuteCaloriesNarrow_merged.csv\")\n",
        "minuteCaloriesWide = pd.read_csv(\"/content/drive/MyDrive/Data analysis/Bellabeat/minuteCaloriesWide_merged.csv\")\n",
        "\n",
        "# Intensities\n",
        "dailyIntensities = pd.read_csv(\"/content/drive/MyDrive/Data analysis/Bellabeat/dailyIntensities_merged.csv\")\n",
        "hourlyIntensities = pd.read_csv(\"/content/drive/MyDrive/Data analysis/Bellabeat/hourlyIntensities_merged.csv\")\n",
        "minuteIntensitiesNarrow = pd.read_csv(\"/content/drive/MyDrive/Data analysis/Bellabeat/minuteIntensitiesNarrow_merged.csv\")\n",
        "minuteIntensitiesWide = pd.read_csv(\"/content/drive/MyDrive/Data analysis/Bellabeat/minuteIntensitiesWide_merged.csv\")\n",
        "\n",
        "# Steps\n",
        "dailySteps = pd.read_csv(\"/content/drive/MyDrive/Data analysis/Bellabeat/dailySteps_merged.csv\")\n",
        "hourlySteps = pd.read_csv(\"/content/drive/MyDrive/Data analysis/Bellabeat/hourlySteps_merged.csv\")\n",
        "minuteStepsNarrow = pd.read_csv(\"/content/drive/MyDrive/Data analysis/Bellabeat/minuteStepsNarrow_merged.csv\")\n",
        "minuteStepsWide = pd.read_csv(\"/content/drive/MyDrive/Data analysis/Bellabeat/minuteStepsWide_merged.csv\")\n",
        "\n",
        "# Sleep\n",
        "sleepDay = pd.read_csv(\"/content/drive/MyDrive/Data analysis/Bellabeat/sleepDay_merged.csv\")\n",
        "minuteSleep = pd.read_csv(\"/content/drive/MyDrive/Data analysis/Bellabeat/minuteSleep_merged.csv\")\n",
        "\n",
        "# HeartRate\n",
        "heartrateSeconds = pd.read_csv(\"/content/drive/MyDrive/Data analysis/Bellabeat/heartrate_seconds_merged.csv\")\n",
        "\n",
        "# Weight\n",
        "weightLogInfo = pd.read_csv(\"/content/drive/MyDrive/Data analysis/Bellabeat/weightLogInfo_merged.csv\")\n"
      ],
      "execution_count": null,
      "outputs": []
    },
    {
      "cell_type": "markdown",
      "metadata": {
        "id": "K0eF0hSe6zF3"
      },
      "source": [
        "## Data Exploration"
      ]
    },
    {
      "cell_type": "markdown",
      "metadata": {
        "id": "nN3g_6D2zlZJ"
      },
      "source": [
        "### Activity\n",
        "Let's first have a look dailyActivity data.\n",
        "The rows are logged with the several activities distance and length with the intensitiy of the acitvities."
      ]
    },
    {
      "cell_type": "code",
      "metadata": {
        "id": "1qIzN6Y2zdY6",
        "colab": {
          "base_uri": "https://localhost:8080/",
          "height": 222
        },
        "outputId": "ad6fcb8b-dde7-4529-d449-f7cfa7a4523b"
      },
      "source": [
        "dailyActivity.head()"
      ],
      "execution_count": null,
      "outputs": [
        {
          "output_type": "execute_result",
          "data": {
            "text/html": [
              "<div>\n",
              "<style scoped>\n",
              "    .dataframe tbody tr th:only-of-type {\n",
              "        vertical-align: middle;\n",
              "    }\n",
              "\n",
              "    .dataframe tbody tr th {\n",
              "        vertical-align: top;\n",
              "    }\n",
              "\n",
              "    .dataframe thead th {\n",
              "        text-align: right;\n",
              "    }\n",
              "</style>\n",
              "<table border=\"1\" class=\"dataframe\">\n",
              "  <thead>\n",
              "    <tr style=\"text-align: right;\">\n",
              "      <th></th>\n",
              "      <th>Id</th>\n",
              "      <th>ActivityDate</th>\n",
              "      <th>TotalSteps</th>\n",
              "      <th>TotalDistance</th>\n",
              "      <th>TrackerDistance</th>\n",
              "      <th>LoggedActivitiesDistance</th>\n",
              "      <th>VeryActiveDistance</th>\n",
              "      <th>ModeratelyActiveDistance</th>\n",
              "      <th>LightActiveDistance</th>\n",
              "      <th>SedentaryActiveDistance</th>\n",
              "      <th>VeryActiveMinutes</th>\n",
              "      <th>FairlyActiveMinutes</th>\n",
              "      <th>LightlyActiveMinutes</th>\n",
              "      <th>SedentaryMinutes</th>\n",
              "      <th>Calories</th>\n",
              "    </tr>\n",
              "  </thead>\n",
              "  <tbody>\n",
              "    <tr>\n",
              "      <th>0</th>\n",
              "      <td>1503960366</td>\n",
              "      <td>4/12/2016</td>\n",
              "      <td>13162</td>\n",
              "      <td>8.50</td>\n",
              "      <td>8.50</td>\n",
              "      <td>0.0</td>\n",
              "      <td>1.88</td>\n",
              "      <td>0.55</td>\n",
              "      <td>6.06</td>\n",
              "      <td>0.0</td>\n",
              "      <td>25</td>\n",
              "      <td>13</td>\n",
              "      <td>328</td>\n",
              "      <td>728</td>\n",
              "      <td>1985</td>\n",
              "    </tr>\n",
              "    <tr>\n",
              "      <th>1</th>\n",
              "      <td>1503960366</td>\n",
              "      <td>4/13/2016</td>\n",
              "      <td>10735</td>\n",
              "      <td>6.97</td>\n",
              "      <td>6.97</td>\n",
              "      <td>0.0</td>\n",
              "      <td>1.57</td>\n",
              "      <td>0.69</td>\n",
              "      <td>4.71</td>\n",
              "      <td>0.0</td>\n",
              "      <td>21</td>\n",
              "      <td>19</td>\n",
              "      <td>217</td>\n",
              "      <td>776</td>\n",
              "      <td>1797</td>\n",
              "    </tr>\n",
              "    <tr>\n",
              "      <th>2</th>\n",
              "      <td>1503960366</td>\n",
              "      <td>4/14/2016</td>\n",
              "      <td>10460</td>\n",
              "      <td>6.74</td>\n",
              "      <td>6.74</td>\n",
              "      <td>0.0</td>\n",
              "      <td>2.44</td>\n",
              "      <td>0.40</td>\n",
              "      <td>3.91</td>\n",
              "      <td>0.0</td>\n",
              "      <td>30</td>\n",
              "      <td>11</td>\n",
              "      <td>181</td>\n",
              "      <td>1218</td>\n",
              "      <td>1776</td>\n",
              "    </tr>\n",
              "    <tr>\n",
              "      <th>3</th>\n",
              "      <td>1503960366</td>\n",
              "      <td>4/15/2016</td>\n",
              "      <td>9762</td>\n",
              "      <td>6.28</td>\n",
              "      <td>6.28</td>\n",
              "      <td>0.0</td>\n",
              "      <td>2.14</td>\n",
              "      <td>1.26</td>\n",
              "      <td>2.83</td>\n",
              "      <td>0.0</td>\n",
              "      <td>29</td>\n",
              "      <td>34</td>\n",
              "      <td>209</td>\n",
              "      <td>726</td>\n",
              "      <td>1745</td>\n",
              "    </tr>\n",
              "    <tr>\n",
              "      <th>4</th>\n",
              "      <td>1503960366</td>\n",
              "      <td>4/16/2016</td>\n",
              "      <td>12669</td>\n",
              "      <td>8.16</td>\n",
              "      <td>8.16</td>\n",
              "      <td>0.0</td>\n",
              "      <td>2.71</td>\n",
              "      <td>0.41</td>\n",
              "      <td>5.04</td>\n",
              "      <td>0.0</td>\n",
              "      <td>36</td>\n",
              "      <td>10</td>\n",
              "      <td>221</td>\n",
              "      <td>773</td>\n",
              "      <td>1863</td>\n",
              "    </tr>\n",
              "  </tbody>\n",
              "</table>\n",
              "</div>"
            ],
            "text/plain": [
              "           Id ActivityDate  ...  SedentaryMinutes  Calories\n",
              "0  1503960366    4/12/2016  ...               728      1985\n",
              "1  1503960366    4/13/2016  ...               776      1797\n",
              "2  1503960366    4/14/2016  ...              1218      1776\n",
              "3  1503960366    4/15/2016  ...               726      1745\n",
              "4  1503960366    4/16/2016  ...               773      1863\n",
              "\n",
              "[5 rows x 15 columns]"
            ]
          },
          "metadata": {
            "tags": []
          },
          "execution_count": 187
        }
      ]
    },
    {
      "cell_type": "markdown",
      "metadata": {
        "id": "6bpJatPSzzT8"
      },
      "source": [
        "Other data are more specifically (daily, hourly, minitues) present the data that describes in the dailyActivity data. Let's play with data to see by throwing some questions if there is some interesiting information to more depply dig in. "
      ]
    },
    {
      "cell_type": "markdown",
      "metadata": {
        "id": "HH3ovRT-ZeAs"
      },
      "source": [
        "### Calories\n",
        "What is the average daily calories burnt by the users?"
      ]
    },
    {
      "cell_type": "code",
      "metadata": {
        "colab": {
          "base_uri": "https://localhost:8080/"
        },
        "id": "IsXI5NOf0PpO",
        "outputId": "9b44d389-9f75-449f-d7c9-e91043a845e3"
      },
      "source": [
        "dailyCalories.groupby('Id').mean('calories').mean()\n",
        "# the mean of customers' daily calories are 2282.44366 Calories per day"
      ],
      "execution_count": null,
      "outputs": [
        {
          "output_type": "execute_result",
          "data": {
            "text/plain": [
              "Calories    2282.44366\n",
              "dtype: float64"
            ]
          },
          "metadata": {
            "tags": []
          },
          "execution_count": 188
        }
      ]
    },
    {
      "cell_type": "markdown",
      "metadata": {
        "id": "tZu8yGBYxVvD"
      },
      "source": [
        "How different daily calories burnt reveal indeividually?"
      ]
    },
    {
      "cell_type": "code",
      "metadata": {
        "id": "iMGXLkLaq0IT",
        "colab": {
          "base_uri": "https://localhost:8080/",
          "height": 232
        },
        "outputId": "75b8f227-74d6-40c0-80ff-8998b7e7ec15"
      },
      "source": [
        "mean_daily_calories=dailyCalories.groupby('Id').mean('Calories')\n",
        "mean_daily_calories.head()"
      ],
      "execution_count": null,
      "outputs": [
        {
          "output_type": "execute_result",
          "data": {
            "text/html": [
              "<div>\n",
              "<style scoped>\n",
              "    .dataframe tbody tr th:only-of-type {\n",
              "        vertical-align: middle;\n",
              "    }\n",
              "\n",
              "    .dataframe tbody tr th {\n",
              "        vertical-align: top;\n",
              "    }\n",
              "\n",
              "    .dataframe thead th {\n",
              "        text-align: right;\n",
              "    }\n",
              "</style>\n",
              "<table border=\"1\" class=\"dataframe\">\n",
              "  <thead>\n",
              "    <tr style=\"text-align: right;\">\n",
              "      <th></th>\n",
              "      <th>Calories</th>\n",
              "    </tr>\n",
              "    <tr>\n",
              "      <th>Id</th>\n",
              "      <th></th>\n",
              "    </tr>\n",
              "  </thead>\n",
              "  <tbody>\n",
              "    <tr>\n",
              "      <th>1503960366</th>\n",
              "      <td>1816.419355</td>\n",
              "    </tr>\n",
              "    <tr>\n",
              "      <th>1624580081</th>\n",
              "      <td>1483.354839</td>\n",
              "    </tr>\n",
              "    <tr>\n",
              "      <th>1644430081</th>\n",
              "      <td>2811.300000</td>\n",
              "    </tr>\n",
              "    <tr>\n",
              "      <th>1844505072</th>\n",
              "      <td>1573.483871</td>\n",
              "    </tr>\n",
              "    <tr>\n",
              "      <th>1927972279</th>\n",
              "      <td>2172.806452</td>\n",
              "    </tr>\n",
              "  </tbody>\n",
              "</table>\n",
              "</div>"
            ],
            "text/plain": [
              "               Calories\n",
              "Id                     \n",
              "1503960366  1816.419355\n",
              "1624580081  1483.354839\n",
              "1644430081  2811.300000\n",
              "1844505072  1573.483871\n",
              "1927972279  2172.806452"
            ]
          },
          "metadata": {
            "tags": []
          },
          "execution_count": 189
        }
      ]
    },
    {
      "cell_type": "markdown",
      "metadata": {
        "id": "QS-eya5KsGtK"
      },
      "source": [
        "See the distribution of the daily calories of the individual users.\n"
      ]
    },
    {
      "cell_type": "code",
      "metadata": {
        "id": "zl_qIFcjbkFK",
        "colab": {
          "base_uri": "https://localhost:8080/",
          "height": 352
        },
        "outputId": "255a59f4-f10b-4a00-9810-f81db6142b95"
      },
      "source": [
        "sns.distplot(mean_daily_calories['Calories'])"
      ],
      "execution_count": null,
      "outputs": [
        {
          "output_type": "stream",
          "text": [
            "/usr/local/lib/python3.7/dist-packages/seaborn/distributions.py:2557: FutureWarning: `distplot` is a deprecated function and will be removed in a future version. Please adapt your code to use either `displot` (a figure-level function with similar flexibility) or `histplot` (an axes-level function for histograms).\n",
            "  warnings.warn(msg, FutureWarning)\n"
          ],
          "name": "stderr"
        },
        {
          "output_type": "execute_result",
          "data": {
            "text/plain": [
              "<matplotlib.axes._subplots.AxesSubplot at 0x7f177d806510>"
            ]
          },
          "metadata": {
            "tags": []
          },
          "execution_count": 190
        },
        {
          "output_type": "display_data",
          "data": {
            "image/png": "[encoded data removed]",
            "text/plain": [
              "<Figure size 432x288 with 1 Axes>"
            ]
          },
          "metadata": {
            "tags": []
          }
        }
      ]
    },
    {
      "cell_type": "markdown",
      "metadata": {
        "id": "qBZ3nlw2xjoK"
      },
      "source": [
        "What about the aveary calory burnt by day-of-week?"
      ]
    },
    {
      "cell_type": "code",
      "metadata": {
        "id": "2LzMYz8sOV21"
      },
      "source": [
        "dailyCalories['ActivityDay'] = pd.to_datetime(dailyCalories['ActivityDay'])"
      ],
      "execution_count": null,
      "outputs": []
    },
    {
      "cell_type": "code",
      "metadata": {
        "id": "RJ8NHYGqQxhk"
      },
      "source": [
        "dailyCalories['day_of_week'] = dailyCalories['ActivityDay'].dt.strftime(\"%A\")\n",
        "dailyCalories1=dailyCalories.drop(columns=['day_of_week'])"
      ],
      "execution_count": null,
      "outputs": []
    },
    {
      "cell_type": "code",
      "metadata": {
        "id": "TGfHhe85RuzH",
        "colab": {
          "base_uri": "https://localhost:8080/",
          "height": 294
        },
        "outputId": "9bd255d6-e977-4fa3-a572-5d2b7d68d97e"
      },
      "source": [
        "dailyCalories.drop(columns=['Id']).groupby('day_of_week').mean('Calories')"
      ],
      "execution_count": null,
      "outputs": [
        {
          "output_type": "execute_result",
          "data": {
            "text/html": [
              "<div>\n",
              "<style scoped>\n",
              "    .dataframe tbody tr th:only-of-type {\n",
              "        vertical-align: middle;\n",
              "    }\n",
              "\n",
              "    .dataframe tbody tr th {\n",
              "        vertical-align: top;\n",
              "    }\n",
              "\n",
              "    .dataframe thead th {\n",
              "        text-align: right;\n",
              "    }\n",
              "</style>\n",
              "<table border=\"1\" class=\"dataframe\">\n",
              "  <thead>\n",
              "    <tr style=\"text-align: right;\">\n",
              "      <th></th>\n",
              "      <th>Calories</th>\n",
              "    </tr>\n",
              "    <tr>\n",
              "      <th>day_of_week</th>\n",
              "      <th></th>\n",
              "    </tr>\n",
              "  </thead>\n",
              "  <tbody>\n",
              "    <tr>\n",
              "      <th>Friday</th>\n",
              "      <td>2331.785714</td>\n",
              "    </tr>\n",
              "    <tr>\n",
              "      <th>Monday</th>\n",
              "      <td>2324.208333</td>\n",
              "    </tr>\n",
              "    <tr>\n",
              "      <th>Saturday</th>\n",
              "      <td>2354.967742</td>\n",
              "    </tr>\n",
              "    <tr>\n",
              "      <th>Sunday</th>\n",
              "      <td>2263.000000</td>\n",
              "    </tr>\n",
              "    <tr>\n",
              "      <th>Thursday</th>\n",
              "      <td>2199.571429</td>\n",
              "    </tr>\n",
              "    <tr>\n",
              "      <th>Tuesday</th>\n",
              "      <td>2356.013158</td>\n",
              "    </tr>\n",
              "    <tr>\n",
              "      <th>Wednesday</th>\n",
              "      <td>2302.620000</td>\n",
              "    </tr>\n",
              "  </tbody>\n",
              "</table>\n",
              "</div>"
            ],
            "text/plain": [
              "                Calories\n",
              "day_of_week             \n",
              "Friday       2331.785714\n",
              "Monday       2324.208333\n",
              "Saturday     2354.967742\n",
              "Sunday       2263.000000\n",
              "Thursday     2199.571429\n",
              "Tuesday      2356.013158\n",
              "Wednesday    2302.620000"
            ]
          },
          "metadata": {
            "tags": []
          },
          "execution_count": 193
        }
      ]
    },
    {
      "cell_type": "code",
      "metadata": {
        "id": "YxpWMuAzVi2Y",
        "colab": {
          "base_uri": "https://localhost:8080/",
          "height": 402
        },
        "outputId": "ba6d5c35-b370-4309-c75a-062fd47537cc"
      },
      "source": [
        "sns.catplot(x=\"day_of_week\", y=\"Calories\", data=dailyCalories, kind='box')"
      ],
      "execution_count": null,
      "outputs": [
        {
          "output_type": "execute_result",
          "data": {
            "text/plain": [
              "<seaborn.axisgrid.FacetGrid at 0x7f177cc4c8d0>"
            ]
          },
          "metadata": {
            "tags": []
          },
          "execution_count": 194
        },
        {
          "output_type": "display_data",
          "data": {
            "image/png": "[encoded data removed]",
            "text/plain": [
              "<Figure size 360x360 with 1 Axes>"
            ]
          },
          "metadata": {
            "tags": []
          }
        }
      ]
    },
    {
      "cell_type": "markdown",
      "metadata": {
        "id": "1ncILsmx-wMU"
      },
      "source": [
        "The average calories by day of week does not reveal the significant differences between days..."
      ]
    },
    {
      "cell_type": "code",
      "metadata": {
        "id": "JFHT2a9iM1_h",
        "colab": {
          "base_uri": "https://localhost:8080/",
          "height": 202
        },
        "outputId": "81792b68-3a22-4868-a0b5-c430835e42b9"
      },
      "source": [
        "hourlyCalories.head()"
      ],
      "execution_count": null,
      "outputs": [
        {
          "output_type": "execute_result",
          "data": {
            "text/html": [
              "<div>\n",
              "<style scoped>\n",
              "    .dataframe tbody tr th:only-of-type {\n",
              "        vertical-align: middle;\n",
              "    }\n",
              "\n",
              "    .dataframe tbody tr th {\n",
              "        vertical-align: top;\n",
              "    }\n",
              "\n",
              "    .dataframe thead th {\n",
              "        text-align: right;\n",
              "    }\n",
              "</style>\n",
              "<table border=\"1\" class=\"dataframe\">\n",
              "  <thead>\n",
              "    <tr style=\"text-align: right;\">\n",
              "      <th></th>\n",
              "      <th>Id</th>\n",
              "      <th>ActivityHour</th>\n",
              "      <th>Calories</th>\n",
              "    </tr>\n",
              "  </thead>\n",
              "  <tbody>\n",
              "    <tr>\n",
              "      <th>0</th>\n",
              "      <td>1503960366</td>\n",
              "      <td>4/12/2016 12:00:00 AM</td>\n",
              "      <td>81</td>\n",
              "    </tr>\n",
              "    <tr>\n",
              "      <th>1</th>\n",
              "      <td>1503960366</td>\n",
              "      <td>4/12/2016 1:00:00 AM</td>\n",
              "      <td>61</td>\n",
              "    </tr>\n",
              "    <tr>\n",
              "      <th>2</th>\n",
              "      <td>1503960366</td>\n",
              "      <td>4/12/2016 2:00:00 AM</td>\n",
              "      <td>59</td>\n",
              "    </tr>\n",
              "    <tr>\n",
              "      <th>3</th>\n",
              "      <td>1503960366</td>\n",
              "      <td>4/12/2016 3:00:00 AM</td>\n",
              "      <td>47</td>\n",
              "    </tr>\n",
              "    <tr>\n",
              "      <th>4</th>\n",
              "      <td>1503960366</td>\n",
              "      <td>4/12/2016 4:00:00 AM</td>\n",
              "      <td>48</td>\n",
              "    </tr>\n",
              "  </tbody>\n",
              "</table>\n",
              "</div>"
            ],
            "text/plain": [
              "           Id           ActivityHour  Calories\n",
              "0  1503960366  4/12/2016 12:00:00 AM        81\n",
              "1  1503960366   4/12/2016 1:00:00 AM        61\n",
              "2  1503960366   4/12/2016 2:00:00 AM        59\n",
              "3  1503960366   4/12/2016 3:00:00 AM        47\n",
              "4  1503960366   4/12/2016 4:00:00 AM        48"
            ]
          },
          "metadata": {
            "tags": []
          },
          "execution_count": 195
        }
      ]
    },
    {
      "cell_type": "code",
      "metadata": {
        "id": "ts43ZQc3-sIG"
      },
      "source": [
        "hourlyCalories['ActivityHour'] = pd.to_datetime(hourlyCalories['ActivityHour'])"
      ],
      "execution_count": null,
      "outputs": []
    },
    {
      "cell_type": "code",
      "metadata": {
        "id": "el53BbfK-a6B"
      },
      "source": [
        "hourlyCalories['hour'] = hourlyCalories['ActivityHour'].dt.hour"
      ],
      "execution_count": null,
      "outputs": []
    },
    {
      "cell_type": "code",
      "metadata": {
        "id": "xrGVEA6Z-rYd",
        "colab": {
          "base_uri": "https://localhost:8080/",
          "height": 202
        },
        "outputId": "adcd329b-265a-4531-db91-b2efa09be3b5"
      },
      "source": [
        "hourlyCalories.head()"
      ],
      "execution_count": null,
      "outputs": [
        {
          "output_type": "execute_result",
          "data": {
            "text/html": [
              "<div>\n",
              "<style scoped>\n",
              "    .dataframe tbody tr th:only-of-type {\n",
              "        vertical-align: middle;\n",
              "    }\n",
              "\n",
              "    .dataframe tbody tr th {\n",
              "        vertical-align: top;\n",
              "    }\n",
              "\n",
              "    .dataframe thead th {\n",
              "        text-align: right;\n",
              "    }\n",
              "</style>\n",
              "<table border=\"1\" class=\"dataframe\">\n",
              "  <thead>\n",
              "    <tr style=\"text-align: right;\">\n",
              "      <th></th>\n",
              "      <th>Id</th>\n",
              "      <th>ActivityHour</th>\n",
              "      <th>Calories</th>\n",
              "      <th>hour</th>\n",
              "    </tr>\n",
              "  </thead>\n",
              "  <tbody>\n",
              "    <tr>\n",
              "      <th>0</th>\n",
              "      <td>1503960366</td>\n",
              "      <td>2016-04-12 00:00:00</td>\n",
              "      <td>81</td>\n",
              "      <td>0</td>\n",
              "    </tr>\n",
              "    <tr>\n",
              "      <th>1</th>\n",
              "      <td>1503960366</td>\n",
              "      <td>2016-04-12 01:00:00</td>\n",
              "      <td>61</td>\n",
              "      <td>1</td>\n",
              "    </tr>\n",
              "    <tr>\n",
              "      <th>2</th>\n",
              "      <td>1503960366</td>\n",
              "      <td>2016-04-12 02:00:00</td>\n",
              "      <td>59</td>\n",
              "      <td>2</td>\n",
              "    </tr>\n",
              "    <tr>\n",
              "      <th>3</th>\n",
              "      <td>1503960366</td>\n",
              "      <td>2016-04-12 03:00:00</td>\n",
              "      <td>47</td>\n",
              "      <td>3</td>\n",
              "    </tr>\n",
              "    <tr>\n",
              "      <th>4</th>\n",
              "      <td>1503960366</td>\n",
              "      <td>2016-04-12 04:00:00</td>\n",
              "      <td>48</td>\n",
              "      <td>4</td>\n",
              "    </tr>\n",
              "  </tbody>\n",
              "</table>\n",
              "</div>"
            ],
            "text/plain": [
              "           Id        ActivityHour  Calories  hour\n",
              "0  1503960366 2016-04-12 00:00:00        81     0\n",
              "1  1503960366 2016-04-12 01:00:00        61     1\n",
              "2  1503960366 2016-04-12 02:00:00        59     2\n",
              "3  1503960366 2016-04-12 03:00:00        47     3\n",
              "4  1503960366 2016-04-12 04:00:00        48     4"
            ]
          },
          "metadata": {
            "tags": []
          },
          "execution_count": 198
        }
      ]
    },
    {
      "cell_type": "code",
      "metadata": {
        "id": "InLlvdAybWwe",
        "colab": {
          "base_uri": "https://localhost:8080/",
          "height": 232
        },
        "outputId": "6725fd7b-d9e1-486a-badf-05aaa150d2bc"
      },
      "source": [
        "hourlyCalories.groupby('hour').mean('Calories').head()"
      ],
      "execution_count": null,
      "outputs": [
        {
          "output_type": "execute_result",
          "data": {
            "text/html": [
              "<div>\n",
              "<style scoped>\n",
              "    .dataframe tbody tr th:only-of-type {\n",
              "        vertical-align: middle;\n",
              "    }\n",
              "\n",
              "    .dataframe tbody tr th {\n",
              "        vertical-align: top;\n",
              "    }\n",
              "\n",
              "    .dataframe thead th {\n",
              "        text-align: right;\n",
              "    }\n",
              "</style>\n",
              "<table border=\"1\" class=\"dataframe\">\n",
              "  <thead>\n",
              "    <tr style=\"text-align: right;\">\n",
              "      <th></th>\n",
              "      <th>Id</th>\n",
              "      <th>Calories</th>\n",
              "    </tr>\n",
              "    <tr>\n",
              "      <th>hour</th>\n",
              "      <th></th>\n",
              "      <th></th>\n",
              "    </tr>\n",
              "  </thead>\n",
              "  <tbody>\n",
              "    <tr>\n",
              "      <th>0</th>\n",
              "      <td>4.846554e+09</td>\n",
              "      <td>71.805139</td>\n",
              "    </tr>\n",
              "    <tr>\n",
              "      <th>1</th>\n",
              "      <td>4.844238e+09</td>\n",
              "      <td>70.165059</td>\n",
              "    </tr>\n",
              "    <tr>\n",
              "      <th>2</th>\n",
              "      <td>4.844238e+09</td>\n",
              "      <td>69.186495</td>\n",
              "    </tr>\n",
              "    <tr>\n",
              "      <th>3</th>\n",
              "      <td>4.844238e+09</td>\n",
              "      <td>67.538049</td>\n",
              "    </tr>\n",
              "    <tr>\n",
              "      <th>4</th>\n",
              "      <td>4.844801e+09</td>\n",
              "      <td>68.261803</td>\n",
              "    </tr>\n",
              "  </tbody>\n",
              "</table>\n",
              "</div>"
            ],
            "text/plain": [
              "                Id   Calories\n",
              "hour                         \n",
              "0     4.846554e+09  71.805139\n",
              "1     4.844238e+09  70.165059\n",
              "2     4.844238e+09  69.186495\n",
              "3     4.844238e+09  67.538049\n",
              "4     4.844801e+09  68.261803"
            ]
          },
          "metadata": {
            "tags": []
          },
          "execution_count": 199
        }
      ]
    },
    {
      "cell_type": "markdown",
      "metadata": {
        "id": "EmNlLd8sAQkX"
      },
      "source": [
        "Around the 12-14 PM and 17-19 PM is the most active time that burnt calories the most in a day."
      ]
    },
    {
      "cell_type": "code",
      "metadata": {
        "id": "1q6nlV1z_KUL",
        "colab": {
          "base_uri": "https://localhost:8080/",
          "height": 278
        },
        "outputId": "0bced51b-f9b2-4a41-e17c-7e3ebe17f2c0"
      },
      "source": [
        "sns.barplot(x=\"hour\", y=\"Calories\", data=hourlyCalories);"
      ],
      "execution_count": null,
      "outputs": [
        {
          "output_type": "display_data",
          "data": {
            "image/png": "[encoded data removed]",
            "text/plain": [
              "<Figure size 432x288 with 1 Axes>"
            ]
          },
          "metadata": {
            "tags": []
          }
        }
      ]
    },
    {
      "cell_type": "markdown",
      "metadata": {
        "id": "LbuFGHgjezKK"
      },
      "source": [
        "### Sleep\n",
        "\n",
        "Next, let's see the sleeping hours by customers.\n",
        "How long do they sleep in a day?\n",
        "\n"
      ]
    },
    {
      "cell_type": "code",
      "metadata": {
        "id": "KsR1vFRLb1Fs",
        "colab": {
          "base_uri": "https://localhost:8080/",
          "height": 202
        },
        "outputId": "74409034-2a35-42dd-cc0f-2968fba4241e"
      },
      "source": [
        "sleepDay.head()"
      ],
      "execution_count": null,
      "outputs": [
        {
          "output_type": "execute_result",
          "data": {
            "text/html": [
              "<div>\n",
              "<style scoped>\n",
              "    .dataframe tbody tr th:only-of-type {\n",
              "        vertical-align: middle;\n",
              "    }\n",
              "\n",
              "    .dataframe tbody tr th {\n",
              "        vertical-align: top;\n",
              "    }\n",
              "\n",
              "    .dataframe thead th {\n",
              "        text-align: right;\n",
              "    }\n",
              "</style>\n",
              "<table border=\"1\" class=\"dataframe\">\n",
              "  <thead>\n",
              "    <tr style=\"text-align: right;\">\n",
              "      <th></th>\n",
              "      <th>Id</th>\n",
              "      <th>SleepDay</th>\n",
              "      <th>TotalSleepRecords</th>\n",
              "      <th>TotalMinutesAsleep</th>\n",
              "      <th>TotalTimeInBed</th>\n",
              "    </tr>\n",
              "  </thead>\n",
              "  <tbody>\n",
              "    <tr>\n",
              "      <th>0</th>\n",
              "      <td>1503960366</td>\n",
              "      <td>4/12/2016 12:00:00 AM</td>\n",
              "      <td>1</td>\n",
              "      <td>327</td>\n",
              "      <td>346</td>\n",
              "    </tr>\n",
              "    <tr>\n",
              "      <th>1</th>\n",
              "      <td>1503960366</td>\n",
              "      <td>4/13/2016 12:00:00 AM</td>\n",
              "      <td>2</td>\n",
              "      <td>384</td>\n",
              "      <td>407</td>\n",
              "    </tr>\n",
              "    <tr>\n",
              "      <th>2</th>\n",
              "      <td>1503960366</td>\n",
              "      <td>4/15/2016 12:00:00 AM</td>\n",
              "      <td>1</td>\n",
              "      <td>412</td>\n",
              "      <td>442</td>\n",
              "    </tr>\n",
              "    <tr>\n",
              "      <th>3</th>\n",
              "      <td>1503960366</td>\n",
              "      <td>4/16/2016 12:00:00 AM</td>\n",
              "      <td>2</td>\n",
              "      <td>340</td>\n",
              "      <td>367</td>\n",
              "    </tr>\n",
              "    <tr>\n",
              "      <th>4</th>\n",
              "      <td>1503960366</td>\n",
              "      <td>4/17/2016 12:00:00 AM</td>\n",
              "      <td>1</td>\n",
              "      <td>700</td>\n",
              "      <td>712</td>\n",
              "    </tr>\n",
              "  </tbody>\n",
              "</table>\n",
              "</div>"
            ],
            "text/plain": [
              "           Id               SleepDay  ...  TotalMinutesAsleep  TotalTimeInBed\n",
              "0  1503960366  4/12/2016 12:00:00 AM  ...                 327             346\n",
              "1  1503960366  4/13/2016 12:00:00 AM  ...                 384             407\n",
              "2  1503960366  4/15/2016 12:00:00 AM  ...                 412             442\n",
              "3  1503960366  4/16/2016 12:00:00 AM  ...                 340             367\n",
              "4  1503960366  4/17/2016 12:00:00 AM  ...                 700             712\n",
              "\n",
              "[5 rows x 5 columns]"
            ]
          },
          "metadata": {
            "tags": []
          },
          "execution_count": 201
        }
      ]
    },
    {
      "cell_type": "code",
      "metadata": {
        "id": "BKvB0CgHBrhT",
        "colab": {
          "base_uri": "https://localhost:8080/",
          "height": 294
        },
        "outputId": "416f6402-6c60-4509-8247-d3b7800b9ab5"
      },
      "source": [
        "sleepDay.groupby(\"Id\").mean(\"TotalMinutesAsleep\").describe()"
      ],
      "execution_count": null,
      "outputs": [
        {
          "output_type": "execute_result",
          "data": {
            "text/html": [
              "<div>\n",
              "<style scoped>\n",
              "    .dataframe tbody tr th:only-of-type {\n",
              "        vertical-align: middle;\n",
              "    }\n",
              "\n",
              "    .dataframe tbody tr th {\n",
              "        vertical-align: top;\n",
              "    }\n",
              "\n",
              "    .dataframe thead th {\n",
              "        text-align: right;\n",
              "    }\n",
              "</style>\n",
              "<table border=\"1\" class=\"dataframe\">\n",
              "  <thead>\n",
              "    <tr style=\"text-align: right;\">\n",
              "      <th></th>\n",
              "      <th>TotalSleepRecords</th>\n",
              "      <th>TotalMinutesAsleep</th>\n",
              "      <th>TotalTimeInBed</th>\n",
              "    </tr>\n",
              "  </thead>\n",
              "  <tbody>\n",
              "    <tr>\n",
              "      <th>count</th>\n",
              "      <td>24.000000</td>\n",
              "      <td>24.000000</td>\n",
              "      <td>24.000000</td>\n",
              "    </tr>\n",
              "    <tr>\n",
              "      <th>mean</th>\n",
              "      <td>1.096897</td>\n",
              "      <td>377.647518</td>\n",
              "      <td>420.095938</td>\n",
              "    </tr>\n",
              "    <tr>\n",
              "      <th>std</th>\n",
              "      <td>0.152415</td>\n",
              "      <td>136.764040</td>\n",
              "      <td>173.901710</td>\n",
              "    </tr>\n",
              "    <tr>\n",
              "      <th>min</th>\n",
              "      <td>1.000000</td>\n",
              "      <td>61.000000</td>\n",
              "      <td>69.000000</td>\n",
              "    </tr>\n",
              "    <tr>\n",
              "      <th>25%</th>\n",
              "      <td>1.000000</td>\n",
              "      <td>336.281250</td>\n",
              "      <td>377.062500</td>\n",
              "    </tr>\n",
              "    <tr>\n",
              "      <th>50%</th>\n",
              "      <td>1.019231</td>\n",
              "      <td>419.071429</td>\n",
              "      <td>447.882143</td>\n",
              "    </tr>\n",
              "    <tr>\n",
              "      <th>75%</th>\n",
              "      <td>1.129464</td>\n",
              "      <td>449.281250</td>\n",
              "      <td>485.317708</td>\n",
              "    </tr>\n",
              "    <tr>\n",
              "      <th>max</th>\n",
              "      <td>1.600000</td>\n",
              "      <td>652.000000</td>\n",
              "      <td>961.000000</td>\n",
              "    </tr>\n",
              "  </tbody>\n",
              "</table>\n",
              "</div>"
            ],
            "text/plain": [
              "       TotalSleepRecords  TotalMinutesAsleep  TotalTimeInBed\n",
              "count          24.000000           24.000000       24.000000\n",
              "mean            1.096897          377.647518      420.095938\n",
              "std             0.152415          136.764040      173.901710\n",
              "min             1.000000           61.000000       69.000000\n",
              "25%             1.000000          336.281250      377.062500\n",
              "50%             1.019231          419.071429      447.882143\n",
              "75%             1.129464          449.281250      485.317708\n",
              "max             1.600000          652.000000      961.000000"
            ]
          },
          "metadata": {
            "tags": []
          },
          "execution_count": 202
        }
      ]
    },
    {
      "cell_type": "code",
      "metadata": {
        "id": "Sf1xsxWqCmEb",
        "colab": {
          "base_uri": "https://localhost:8080/"
        },
        "outputId": "32be54ae-f4a6-4290-da89-90464449ab0a"
      },
      "source": [
        "sleepDay.groupby(\"Id\").mean(\"TotalMinutesAsleep\").median()"
      ],
      "execution_count": null,
      "outputs": [
        {
          "output_type": "execute_result",
          "data": {
            "text/plain": [
              "TotalSleepRecords       1.019231\n",
              "TotalMinutesAsleep    419.071429\n",
              "TotalTimeInBed        447.882143\n",
              "dtype: float64"
            ]
          },
          "metadata": {
            "tags": []
          },
          "execution_count": 203
        }
      ]
    },
    {
      "cell_type": "code",
      "metadata": {
        "id": "UCmZp6ylDRWB",
        "colab": {
          "base_uri": "https://localhost:8080/"
        },
        "outputId": "a6ad7106-a132-43b0-c943-31497bf26a99"
      },
      "source": [
        "mean_sleep=sleepDay.groupby(\"Id\").mean(\"TotalMinutesAsleep\")\n",
        "mean_sleep1=mean_sleep[(mean_sleep['TotalMinutesAsleep']) > 420]\n",
        "mean_sleep1.count()/sleepDay.groupby(\"Id\").mean(\"TotalMinutesAsleep\").count()"
      ],
      "execution_count": null,
      "outputs": [
        {
          "output_type": "execute_result",
          "data": {
            "text/plain": [
              "TotalSleepRecords     0.5\n",
              "TotalMinutesAsleep    0.5\n",
              "TotalTimeInBed        0.5\n",
              "dtype: float64"
            ]
          },
          "metadata": {
            "tags": []
          },
          "execution_count": 204
        }
      ]
    },
    {
      "cell_type": "code",
      "metadata": {
        "id": "ersJ2effCV5E",
        "colab": {
          "base_uri": "https://localhost:8080/",
          "height": 352
        },
        "outputId": "9959ba66-5b92-41f4-dded-9ded9bd60db3"
      },
      "source": [
        "sns.distplot(sleepDay['TotalMinutesAsleep'])"
      ],
      "execution_count": null,
      "outputs": [
        {
          "output_type": "stream",
          "text": [
            "/usr/local/lib/python3.7/dist-packages/seaborn/distributions.py:2557: FutureWarning: `distplot` is a deprecated function and will be removed in a future version. Please adapt your code to use either `displot` (a figure-level function with similar flexibility) or `histplot` (an axes-level function for histograms).\n",
            "  warnings.warn(msg, FutureWarning)\n"
          ],
          "name": "stderr"
        },
        {
          "output_type": "execute_result",
          "data": {
            "text/plain": [
              "<matplotlib.axes._subplots.AxesSubplot at 0x7f17712beb90>"
            ]
          },
          "metadata": {
            "tags": []
          },
          "execution_count": 205
        },
        {
          "output_type": "display_data",
          "data": {
            "image/png": "[encoded data removed]",
            "text/plain": [
              "<Figure size 432x288 with 1 Axes>"
            ]
          },
          "metadata": {
            "tags": []
          }
        }
      ]
    },
    {
      "cell_type": "markdown",
      "metadata": {
        "id": "jeODDdtDC9U8"
      },
      "source": [
        "The average sleep hours per customer is 377 minutes, 6hours 17 mins. \n",
        "The median value is 419 minutes. However, 50% of total customeres sleep more than 420 minutes (the recommended minimum hours of sleep for the age group above 18 years old).\n",
        "\n",
        "Next, what is the dynamic of the sleeping hours by days?"
      ]
    },
    {
      "cell_type": "code",
      "metadata": {
        "id": "9neZSJcwgMi7"
      },
      "source": [
        "sleepDay['SleepDay'] = pd.to_datetime(sleepDay['SleepDay'])"
      ],
      "execution_count": null,
      "outputs": []
    },
    {
      "cell_type": "code",
      "metadata": {
        "id": "qw5dWKDygSyZ"
      },
      "source": [
        "sleepDay['day_of_week'] = sleepDay['SleepDay'].dt.strftime(\"%A\")\n",
        "sleepDay.sort_values('day_of_week', ascending=False).head()\n",
        "sleepDay1=sleepDay.drop(columns=['Id',\"SleepDay\", \"TotalSleepRecords\", \"TotalTimeInBed\" ])"
      ],
      "execution_count": null,
      "outputs": []
    },
    {
      "cell_type": "code",
      "metadata": {
        "id": "ep81Rg8dhVmU",
        "colab": {
          "base_uri": "https://localhost:8080/",
          "height": 324
        },
        "outputId": "342897b9-de2f-4232-fdde-cd9f559eeb9a"
      },
      "source": [
        "sleepDay1.groupby('day_of_week').describe()"
      ],
      "execution_count": null,
      "outputs": [
        {
          "output_type": "execute_result",
          "data": {
            "text/html": [
              "<div>\n",
              "<style scoped>\n",
              "    .dataframe tbody tr th:only-of-type {\n",
              "        vertical-align: middle;\n",
              "    }\n",
              "\n",
              "    .dataframe tbody tr th {\n",
              "        vertical-align: top;\n",
              "    }\n",
              "\n",
              "    .dataframe thead tr th {\n",
              "        text-align: left;\n",
              "    }\n",
              "\n",
              "    .dataframe thead tr:last-of-type th {\n",
              "        text-align: right;\n",
              "    }\n",
              "</style>\n",
              "<table border=\"1\" class=\"dataframe\">\n",
              "  <thead>\n",
              "    <tr>\n",
              "      <th></th>\n",
              "      <th colspan=\"8\" halign=\"left\">TotalMinutesAsleep</th>\n",
              "    </tr>\n",
              "    <tr>\n",
              "      <th></th>\n",
              "      <th>count</th>\n",
              "      <th>mean</th>\n",
              "      <th>std</th>\n",
              "      <th>min</th>\n",
              "      <th>25%</th>\n",
              "      <th>50%</th>\n",
              "      <th>75%</th>\n",
              "      <th>max</th>\n",
              "    </tr>\n",
              "    <tr>\n",
              "      <th>day_of_week</th>\n",
              "      <th></th>\n",
              "      <th></th>\n",
              "      <th></th>\n",
              "      <th></th>\n",
              "      <th></th>\n",
              "      <th></th>\n",
              "      <th></th>\n",
              "      <th></th>\n",
              "    </tr>\n",
              "  </thead>\n",
              "  <tbody>\n",
              "    <tr>\n",
              "      <th>Friday</th>\n",
              "      <td>57.0</td>\n",
              "      <td>405.421053</td>\n",
              "      <td>113.053708</td>\n",
              "      <td>82.0</td>\n",
              "      <td>355.00</td>\n",
              "      <td>405.0</td>\n",
              "      <td>465.0</td>\n",
              "      <td>658.0</td>\n",
              "    </tr>\n",
              "    <tr>\n",
              "      <th>Monday</th>\n",
              "      <td>47.0</td>\n",
              "      <td>418.829787</td>\n",
              "      <td>118.732311</td>\n",
              "      <td>62.0</td>\n",
              "      <td>369.00</td>\n",
              "      <td>433.0</td>\n",
              "      <td>492.5</td>\n",
              "      <td>796.0</td>\n",
              "    </tr>\n",
              "    <tr>\n",
              "      <th>Saturday</th>\n",
              "      <td>58.0</td>\n",
              "      <td>420.810345</td>\n",
              "      <td>154.495268</td>\n",
              "      <td>61.0</td>\n",
              "      <td>340.75</td>\n",
              "      <td>434.0</td>\n",
              "      <td>510.0</td>\n",
              "      <td>775.0</td>\n",
              "    </tr>\n",
              "    <tr>\n",
              "      <th>Sunday</th>\n",
              "      <td>55.0</td>\n",
              "      <td>452.745455</td>\n",
              "      <td>145.050721</td>\n",
              "      <td>58.0</td>\n",
              "      <td>380.00</td>\n",
              "      <td>481.0</td>\n",
              "      <td>550.5</td>\n",
              "      <td>700.0</td>\n",
              "    </tr>\n",
              "    <tr>\n",
              "      <th>Thursday</th>\n",
              "      <td>65.0</td>\n",
              "      <td>402.369231</td>\n",
              "      <td>102.393782</td>\n",
              "      <td>59.0</td>\n",
              "      <td>381.00</td>\n",
              "      <td>424.0</td>\n",
              "      <td>468.0</td>\n",
              "      <td>545.0</td>\n",
              "    </tr>\n",
              "    <tr>\n",
              "      <th>Tuesday</th>\n",
              "      <td>65.0</td>\n",
              "      <td>404.538462</td>\n",
              "      <td>96.089326</td>\n",
              "      <td>103.0</td>\n",
              "      <td>342.00</td>\n",
              "      <td>417.0</td>\n",
              "      <td>465.0</td>\n",
              "      <td>750.0</td>\n",
              "    </tr>\n",
              "    <tr>\n",
              "      <th>Wednesday</th>\n",
              "      <td>66.0</td>\n",
              "      <td>434.681818</td>\n",
              "      <td>89.990454</td>\n",
              "      <td>152.0</td>\n",
              "      <td>392.00</td>\n",
              "      <td>444.5</td>\n",
              "      <td>477.0</td>\n",
              "      <td>658.0</td>\n",
              "    </tr>\n",
              "  </tbody>\n",
              "</table>\n",
              "</div>"
            ],
            "text/plain": [
              "            TotalMinutesAsleep                          ...                     \n",
              "                         count        mean         std  ...    50%    75%    max\n",
              "day_of_week                                             ...                     \n",
              "Friday                    57.0  405.421053  113.053708  ...  405.0  465.0  658.0\n",
              "Monday                    47.0  418.829787  118.732311  ...  433.0  492.5  796.0\n",
              "Saturday                  58.0  420.810345  154.495268  ...  434.0  510.0  775.0\n",
              "Sunday                    55.0  452.745455  145.050721  ...  481.0  550.5  700.0\n",
              "Thursday                  65.0  402.369231  102.393782  ...  424.0  468.0  545.0\n",
              "Tuesday                   65.0  404.538462   96.089326  ...  417.0  465.0  750.0\n",
              "Wednesday                 66.0  434.681818   89.990454  ...  444.5  477.0  658.0\n",
              "\n",
              "[7 rows x 8 columns]"
            ]
          },
          "metadata": {
            "tags": []
          },
          "execution_count": 208
        }
      ]
    },
    {
      "cell_type": "code",
      "metadata": {
        "id": "9QyXsPNzg1n4",
        "colab": {
          "base_uri": "https://localhost:8080/",
          "height": 402
        },
        "outputId": "fe6632cc-4e9d-4e51-96bc-44154abb910c"
      },
      "source": [
        "sns.catplot(x=\"day_of_week\", y=\"TotalMinutesAsleep\", data=sleepDay, kind='box')"
      ],
      "execution_count": null,
      "outputs": [
        {
          "output_type": "execute_result",
          "data": {
            "text/plain": [
              "<seaborn.axisgrid.FacetGrid at 0x7f177cda4490>"
            ]
          },
          "metadata": {
            "tags": []
          },
          "execution_count": 209
        },
        {
          "output_type": "display_data",
          "data": {
            "image/png": "[encoded data removed]",
            "text/plain": [
              "<Figure size 360x360 with 1 Axes>"
            ]
          },
          "metadata": {
            "tags": []
          }
        }
      ]
    },
    {
      "cell_type": "markdown",
      "metadata": {
        "id": "kNQonVjAKn2g"
      },
      "source": [
        "the average of hours of sleep during weekends reveal the slightly higher than during the weekdays as expected. Interestingly, the range of hours of sleep during weekends is more wider than during the weekdays."
      ]
    },
    {
      "cell_type": "code",
      "metadata": {
        "id": "b5iccCg7t8ip",
        "colab": {
          "base_uri": "https://localhost:8080/",
          "height": 222
        },
        "outputId": "20229100-d154-4e56-8f53-96c5833a724c"
      },
      "source": [
        "dailyIntensities['ActivityDay'] = pd.to_datetime(dailyIntensities['ActivityDay'])\n",
        "dailyIntensities['day_of_week'] = dailyIntensities['ActivityDay'].dt.strftime(\"%A\")\n",
        "dailyIntensities.head()"
      ],
      "execution_count": null,
      "outputs": [
        {
          "output_type": "execute_result",
          "data": {
            "text/html": [
              "<div>\n",
              "<style scoped>\n",
              "    .dataframe tbody tr th:only-of-type {\n",
              "        vertical-align: middle;\n",
              "    }\n",
              "\n",
              "    .dataframe tbody tr th {\n",
              "        vertical-align: top;\n",
              "    }\n",
              "\n",
              "    .dataframe thead th {\n",
              "        text-align: right;\n",
              "    }\n",
              "</style>\n",
              "<table border=\"1\" class=\"dataframe\">\n",
              "  <thead>\n",
              "    <tr style=\"text-align: right;\">\n",
              "      <th></th>\n",
              "      <th>Id</th>\n",
              "      <th>ActivityDay</th>\n",
              "      <th>SedentaryMinutes</th>\n",
              "      <th>LightlyActiveMinutes</th>\n",
              "      <th>FairlyActiveMinutes</th>\n",
              "      <th>VeryActiveMinutes</th>\n",
              "      <th>SedentaryActiveDistance</th>\n",
              "      <th>LightActiveDistance</th>\n",
              "      <th>ModeratelyActiveDistance</th>\n",
              "      <th>VeryActiveDistance</th>\n",
              "      <th>day_of_week</th>\n",
              "    </tr>\n",
              "  </thead>\n",
              "  <tbody>\n",
              "    <tr>\n",
              "      <th>0</th>\n",
              "      <td>1503960366</td>\n",
              "      <td>2016-04-12</td>\n",
              "      <td>728</td>\n",
              "      <td>328</td>\n",
              "      <td>13</td>\n",
              "      <td>25</td>\n",
              "      <td>0.0</td>\n",
              "      <td>6.06</td>\n",
              "      <td>0.55</td>\n",
              "      <td>1.88</td>\n",
              "      <td>Tuesday</td>\n",
              "    </tr>\n",
              "    <tr>\n",
              "      <th>1</th>\n",
              "      <td>1503960366</td>\n",
              "      <td>2016-04-13</td>\n",
              "      <td>776</td>\n",
              "      <td>217</td>\n",
              "      <td>19</td>\n",
              "      <td>21</td>\n",
              "      <td>0.0</td>\n",
              "      <td>4.71</td>\n",
              "      <td>0.69</td>\n",
              "      <td>1.57</td>\n",
              "      <td>Wednesday</td>\n",
              "    </tr>\n",
              "    <tr>\n",
              "      <th>2</th>\n",
              "      <td>1503960366</td>\n",
              "      <td>2016-04-14</td>\n",
              "      <td>1218</td>\n",
              "      <td>181</td>\n",
              "      <td>11</td>\n",
              "      <td>30</td>\n",
              "      <td>0.0</td>\n",
              "      <td>3.91</td>\n",
              "      <td>0.40</td>\n",
              "      <td>2.44</td>\n",
              "      <td>Thursday</td>\n",
              "    </tr>\n",
              "    <tr>\n",
              "      <th>3</th>\n",
              "      <td>1503960366</td>\n",
              "      <td>2016-04-15</td>\n",
              "      <td>726</td>\n",
              "      <td>209</td>\n",
              "      <td>34</td>\n",
              "      <td>29</td>\n",
              "      <td>0.0</td>\n",
              "      <td>2.83</td>\n",
              "      <td>1.26</td>\n",
              "      <td>2.14</td>\n",
              "      <td>Friday</td>\n",
              "    </tr>\n",
              "    <tr>\n",
              "      <th>4</th>\n",
              "      <td>1503960366</td>\n",
              "      <td>2016-04-16</td>\n",
              "      <td>773</td>\n",
              "      <td>221</td>\n",
              "      <td>10</td>\n",
              "      <td>36</td>\n",
              "      <td>0.0</td>\n",
              "      <td>5.04</td>\n",
              "      <td>0.41</td>\n",
              "      <td>2.71</td>\n",
              "      <td>Saturday</td>\n",
              "    </tr>\n",
              "  </tbody>\n",
              "</table>\n",
              "</div>"
            ],
            "text/plain": [
              "           Id ActivityDay  ...  VeryActiveDistance  day_of_week\n",
              "0  1503960366  2016-04-12  ...                1.88      Tuesday\n",
              "1  1503960366  2016-04-13  ...                1.57    Wednesday\n",
              "2  1503960366  2016-04-14  ...                2.44     Thursday\n",
              "3  1503960366  2016-04-15  ...                2.14       Friday\n",
              "4  1503960366  2016-04-16  ...                2.71     Saturday\n",
              "\n",
              "[5 rows x 11 columns]"
            ]
          },
          "metadata": {
            "tags": []
          },
          "execution_count": 210
        }
      ]
    },
    {
      "cell_type": "code",
      "metadata": {
        "id": "9Xw8cU9JKw5d",
        "colab": {
          "base_uri": "https://localhost:8080/",
          "height": 294
        },
        "outputId": "f8a97d85-1ec4-4e29-e13e-d5c5e16957cc"
      },
      "source": [
        "dailyIntensities.groupby('Id').mean().describe()"
      ],
      "execution_count": null,
      "outputs": [
        {
          "output_type": "execute_result",
          "data": {
            "text/html": [
              "<div>\n",
              "<style scoped>\n",
              "    .dataframe tbody tr th:only-of-type {\n",
              "        vertical-align: middle;\n",
              "    }\n",
              "\n",
              "    .dataframe tbody tr th {\n",
              "        vertical-align: top;\n",
              "    }\n",
              "\n",
              "    .dataframe thead th {\n",
              "        text-align: right;\n",
              "    }\n",
              "</style>\n",
              "<table border=\"1\" class=\"dataframe\">\n",
              "  <thead>\n",
              "    <tr style=\"text-align: right;\">\n",
              "      <th></th>\n",
              "      <th>SedentaryMinutes</th>\n",
              "      <th>LightlyActiveMinutes</th>\n",
              "      <th>FairlyActiveMinutes</th>\n",
              "      <th>VeryActiveMinutes</th>\n",
              "      <th>SedentaryActiveDistance</th>\n",
              "      <th>LightActiveDistance</th>\n",
              "      <th>ModeratelyActiveDistance</th>\n",
              "      <th>VeryActiveDistance</th>\n",
              "    </tr>\n",
              "  </thead>\n",
              "  <tbody>\n",
              "    <tr>\n",
              "      <th>count</th>\n",
              "      <td>33.000000</td>\n",
              "      <td>33.000000</td>\n",
              "      <td>33.000000</td>\n",
              "      <td>33.000000</td>\n",
              "      <td>33.000000</td>\n",
              "      <td>33.000000</td>\n",
              "      <td>33.000000</td>\n",
              "      <td>33.000000</td>\n",
              "    </tr>\n",
              "    <tr>\n",
              "      <th>mean</th>\n",
              "      <td>999.151475</td>\n",
              "      <td>191.521291</td>\n",
              "      <td>13.260240</td>\n",
              "      <td>20.308769</td>\n",
              "      <td>0.001625</td>\n",
              "      <td>3.317450</td>\n",
              "      <td>0.557039</td>\n",
              "      <td>1.449551</td>\n",
              "    </tr>\n",
              "    <tr>\n",
              "      <th>std</th>\n",
              "      <td>227.678526</td>\n",
              "      <td>75.689747</td>\n",
              "      <td>12.108217</td>\n",
              "      <td>23.803214</td>\n",
              "      <td>0.003020</td>\n",
              "      <td>1.375683</td>\n",
              "      <td>0.537638</td>\n",
              "      <td>1.866091</td>\n",
              "    </tr>\n",
              "    <tr>\n",
              "      <th>min</th>\n",
              "      <td>662.322581</td>\n",
              "      <td>38.580645</td>\n",
              "      <td>0.258065</td>\n",
              "      <td>0.096774</td>\n",
              "      <td>0.000000</td>\n",
              "      <td>0.507097</td>\n",
              "      <td>0.011290</td>\n",
              "      <td>0.006129</td>\n",
              "    </tr>\n",
              "    <tr>\n",
              "      <th>25%</th>\n",
              "      <td>766.419355</td>\n",
              "      <td>143.838710</td>\n",
              "      <td>4.034483</td>\n",
              "      <td>3.580645</td>\n",
              "      <td>0.000000</td>\n",
              "      <td>2.606774</td>\n",
              "      <td>0.128276</td>\n",
              "      <td>0.142258</td>\n",
              "    </tr>\n",
              "    <tr>\n",
              "      <th>50%</th>\n",
              "      <td>1077.550000</td>\n",
              "      <td>206.193548</td>\n",
              "      <td>12.322581</td>\n",
              "      <td>10.387097</td>\n",
              "      <td>0.000000</td>\n",
              "      <td>3.504516</td>\n",
              "      <td>0.502258</td>\n",
              "      <td>0.730000</td>\n",
              "    </tr>\n",
              "    <tr>\n",
              "      <th>75%</th>\n",
              "      <td>1206.612903</td>\n",
              "      <td>245.806452</td>\n",
              "      <td>19.354839</td>\n",
              "      <td>23.419355</td>\n",
              "      <td>0.000769</td>\n",
              "      <td>4.143548</td>\n",
              "      <td>0.773226</td>\n",
              "      <td>2.214210</td>\n",
              "    </tr>\n",
              "    <tr>\n",
              "      <th>max</th>\n",
              "      <td>1317.419355</td>\n",
              "      <td>327.900000</td>\n",
              "      <td>61.266667</td>\n",
              "      <td>87.333333</td>\n",
              "      <td>0.011000</td>\n",
              "      <td>6.188710</td>\n",
              "      <td>2.751000</td>\n",
              "      <td>8.514839</td>\n",
              "    </tr>\n",
              "  </tbody>\n",
              "</table>\n",
              "</div>"
            ],
            "text/plain": [
              "       SedentaryMinutes  ...  VeryActiveDistance\n",
              "count         33.000000  ...           33.000000\n",
              "mean         999.151475  ...            1.449551\n",
              "std          227.678526  ...            1.866091\n",
              "min          662.322581  ...            0.006129\n",
              "25%          766.419355  ...            0.142258\n",
              "50%         1077.550000  ...            0.730000\n",
              "75%         1206.612903  ...            2.214210\n",
              "max         1317.419355  ...            8.514839\n",
              "\n",
              "[8 rows x 8 columns]"
            ]
          },
          "metadata": {
            "tags": []
          },
          "execution_count": 211
        }
      ]
    },
    {
      "cell_type": "code",
      "metadata": {
        "id": "4NQAvd5tvURb",
        "colab": {
          "base_uri": "https://localhost:8080/",
          "height": 314
        },
        "outputId": "236c06c3-d84a-428a-80eb-6cdd239b89dd"
      },
      "source": [
        "dailyIntensities.groupby('day_of_week').mean()"
      ],
      "execution_count": null,
      "outputs": [
        {
          "output_type": "execute_result",
          "data": {
            "text/html": [
              "<div>\n",
              "<style scoped>\n",
              "    .dataframe tbody tr th:only-of-type {\n",
              "        vertical-align: middle;\n",
              "    }\n",
              "\n",
              "    .dataframe tbody tr th {\n",
              "        vertical-align: top;\n",
              "    }\n",
              "\n",
              "    .dataframe thead th {\n",
              "        text-align: right;\n",
              "    }\n",
              "</style>\n",
              "<table border=\"1\" class=\"dataframe\">\n",
              "  <thead>\n",
              "    <tr style=\"text-align: right;\">\n",
              "      <th></th>\n",
              "      <th>Id</th>\n",
              "      <th>SedentaryMinutes</th>\n",
              "      <th>LightlyActiveMinutes</th>\n",
              "      <th>FairlyActiveMinutes</th>\n",
              "      <th>VeryActiveMinutes</th>\n",
              "      <th>SedentaryActiveDistance</th>\n",
              "      <th>LightActiveDistance</th>\n",
              "      <th>ModeratelyActiveDistance</th>\n",
              "      <th>VeryActiveDistance</th>\n",
              "    </tr>\n",
              "    <tr>\n",
              "      <th>day_of_week</th>\n",
              "      <th></th>\n",
              "      <th></th>\n",
              "      <th></th>\n",
              "      <th></th>\n",
              "      <th></th>\n",
              "      <th></th>\n",
              "      <th></th>\n",
              "      <th></th>\n",
              "      <th></th>\n",
              "    </tr>\n",
              "  </thead>\n",
              "  <tbody>\n",
              "    <tr>\n",
              "      <th>Friday</th>\n",
              "      <td>4.880997e+09</td>\n",
              "      <td>1000.309524</td>\n",
              "      <td>204.198413</td>\n",
              "      <td>12.111111</td>\n",
              "      <td>20.055556</td>\n",
              "      <td>0.001825</td>\n",
              "      <td>3.489127</td>\n",
              "      <td>0.483810</td>\n",
              "      <td>1.312937</td>\n",
              "    </tr>\n",
              "    <tr>\n",
              "      <th>Monday</th>\n",
              "      <td>4.859930e+09</td>\n",
              "      <td>1027.941667</td>\n",
              "      <td>192.058333</td>\n",
              "      <td>14.000000</td>\n",
              "      <td>23.108333</td>\n",
              "      <td>0.002583</td>\n",
              "      <td>3.363083</td>\n",
              "      <td>0.585833</td>\n",
              "      <td>1.537333</td>\n",
              "    </tr>\n",
              "    <tr>\n",
              "      <th>Saturday</th>\n",
              "      <td>4.908075e+09</td>\n",
              "      <td>964.282258</td>\n",
              "      <td>207.145161</td>\n",
              "      <td>15.201613</td>\n",
              "      <td>21.919355</td>\n",
              "      <td>0.001048</td>\n",
              "      <td>3.617177</td>\n",
              "      <td>0.677339</td>\n",
              "      <td>1.514597</td>\n",
              "    </tr>\n",
              "    <tr>\n",
              "      <th>Sunday</th>\n",
              "      <td>4.847640e+09</td>\n",
              "      <td>990.256198</td>\n",
              "      <td>173.975207</td>\n",
              "      <td>14.528926</td>\n",
              "      <td>19.983471</td>\n",
              "      <td>0.000661</td>\n",
              "      <td>2.892314</td>\n",
              "      <td>0.618017</td>\n",
              "      <td>1.488926</td>\n",
              "    </tr>\n",
              "    <tr>\n",
              "      <th>Thursday</th>\n",
              "      <td>4.837277e+09</td>\n",
              "      <td>961.993197</td>\n",
              "      <td>185.421769</td>\n",
              "      <td>11.959184</td>\n",
              "      <td>19.408163</td>\n",
              "      <td>0.002313</td>\n",
              "      <td>3.283129</td>\n",
              "      <td>0.505170</td>\n",
              "      <td>1.390476</td>\n",
              "    </tr>\n",
              "    <tr>\n",
              "      <th>Tuesday</th>\n",
              "      <td>4.851063e+09</td>\n",
              "      <td>1007.361842</td>\n",
              "      <td>197.342105</td>\n",
              "      <td>14.335526</td>\n",
              "      <td>22.953947</td>\n",
              "      <td>0.001447</td>\n",
              "      <td>3.471053</td>\n",
              "      <td>0.593026</td>\n",
              "      <td>1.613289</td>\n",
              "    </tr>\n",
              "    <tr>\n",
              "      <th>Wednesday</th>\n",
              "      <td>4.815191e+09</td>\n",
              "      <td>989.480000</td>\n",
              "      <td>189.853333</td>\n",
              "      <td>13.100000</td>\n",
              "      <td>20.780000</td>\n",
              "      <td>0.001333</td>\n",
              "      <td>3.256333</td>\n",
              "      <td>0.527067</td>\n",
              "      <td>1.633467</td>\n",
              "    </tr>\n",
              "  </tbody>\n",
              "</table>\n",
              "</div>"
            ],
            "text/plain": [
              "                       Id  ...  VeryActiveDistance\n",
              "day_of_week                ...                    \n",
              "Friday       4.880997e+09  ...            1.312937\n",
              "Monday       4.859930e+09  ...            1.537333\n",
              "Saturday     4.908075e+09  ...            1.514597\n",
              "Sunday       4.847640e+09  ...            1.488926\n",
              "Thursday     4.837277e+09  ...            1.390476\n",
              "Tuesday      4.851063e+09  ...            1.613289\n",
              "Wednesday    4.815191e+09  ...            1.633467\n",
              "\n",
              "[7 rows x 9 columns]"
            ]
          },
          "metadata": {
            "tags": []
          },
          "execution_count": 212
        }
      ]
    },
    {
      "cell_type": "code",
      "metadata": {
        "id": "ZMafXqfiaNZB",
        "colab": {
          "base_uri": "https://localhost:8080/"
        },
        "outputId": "37383efc-a064-43f1-fb64-5b7f4fe070a5"
      },
      "source": [
        "mean_hourlySteps=hourlySteps.groupby('Id').mean('StepTotal')\n",
        "mean_hourlySteps.mean()\n",
        "# the mean of customers hourly calories are 315.95 steps per hour"
      ],
      "execution_count": null,
      "outputs": [
        {
          "output_type": "execute_result",
          "data": {
            "text/plain": [
              "StepTotal    315.954638\n",
              "dtype: float64"
            ]
          },
          "metadata": {
            "tags": []
          },
          "execution_count": 213
        }
      ]
    },
    {
      "cell_type": "code",
      "metadata": {
        "id": "PjqSwmWpNer2",
        "colab": {
          "base_uri": "https://localhost:8080/",
          "height": 294
        },
        "outputId": "2a15490b-8772-4cea-cc37-18b8a4a52bcf"
      },
      "source": [
        "mean_hourlySteps.describe()"
      ],
      "execution_count": null,
      "outputs": [
        {
          "output_type": "execute_result",
          "data": {
            "text/html": [
              "<div>\n",
              "<style scoped>\n",
              "    .dataframe tbody tr th:only-of-type {\n",
              "        vertical-align: middle;\n",
              "    }\n",
              "\n",
              "    .dataframe tbody tr th {\n",
              "        vertical-align: top;\n",
              "    }\n",
              "\n",
              "    .dataframe thead th {\n",
              "        text-align: right;\n",
              "    }\n",
              "</style>\n",
              "<table border=\"1\" class=\"dataframe\">\n",
              "  <thead>\n",
              "    <tr style=\"text-align: right;\">\n",
              "      <th></th>\n",
              "      <th>StepTotal</th>\n",
              "    </tr>\n",
              "  </thead>\n",
              "  <tbody>\n",
              "    <tr>\n",
              "      <th>count</th>\n",
              "      <td>33.000000</td>\n",
              "    </tr>\n",
              "    <tr>\n",
              "      <th>mean</th>\n",
              "      <td>315.954638</td>\n",
              "    </tr>\n",
              "    <tr>\n",
              "      <th>std</th>\n",
              "      <td>151.513628</td>\n",
              "    </tr>\n",
              "    <tr>\n",
              "      <th>min</th>\n",
              "      <td>38.586957</td>\n",
              "    </tr>\n",
              "    <tr>\n",
              "      <th>25%</th>\n",
              "      <td>233.788043</td>\n",
              "    </tr>\n",
              "    <tr>\n",
              "      <th>50%</th>\n",
              "      <td>307.806497</td>\n",
              "    </tr>\n",
              "    <tr>\n",
              "      <th>75%</th>\n",
              "      <td>413.857488</td>\n",
              "    </tr>\n",
              "    <tr>\n",
              "      <th>max</th>\n",
              "      <td>674.317007</td>\n",
              "    </tr>\n",
              "  </tbody>\n",
              "</table>\n",
              "</div>"
            ],
            "text/plain": [
              "        StepTotal\n",
              "count   33.000000\n",
              "mean   315.954638\n",
              "std    151.513628\n",
              "min     38.586957\n",
              "25%    233.788043\n",
              "50%    307.806497\n",
              "75%    413.857488\n",
              "max    674.317007"
            ]
          },
          "metadata": {
            "tags": []
          },
          "execution_count": 214
        }
      ]
    },
    {
      "cell_type": "code",
      "metadata": {
        "id": "J9OiKwEqsrxj",
        "colab": {
          "base_uri": "https://localhost:8080/",
          "height": 352
        },
        "outputId": "f40833dd-d837-487a-b2e5-30d4298f1653"
      },
      "source": [
        "sns.distplot(mean_hourlySteps['StepTotal'])"
      ],
      "execution_count": null,
      "outputs": [
        {
          "output_type": "stream",
          "text": [
            "/usr/local/lib/python3.7/dist-packages/seaborn/distributions.py:2557: FutureWarning: `distplot` is a deprecated function and will be removed in a future version. Please adapt your code to use either `displot` (a figure-level function with similar flexibility) or `histplot` (an axes-level function for histograms).\n",
            "  warnings.warn(msg, FutureWarning)\n"
          ],
          "name": "stderr"
        },
        {
          "output_type": "execute_result",
          "data": {
            "text/plain": [
              "<matplotlib.axes._subplots.AxesSubplot at 0x7f177dc9d250>"
            ]
          },
          "metadata": {
            "tags": []
          },
          "execution_count": 215
        },
        {
          "output_type": "display_data",
          "data": {
            "image/png": "[encoded data removed]",
            "text/plain": [
              "<Figure size 432x288 with 1 Axes>"
            ]
          },
          "metadata": {
            "tags": []
          }
        }
      ]
    },
    {
      "cell_type": "markdown",
      "metadata": {
        "id": "40dNhz0Q7KpC"
      },
      "source": [
        "## Analysis"
      ]
    },
    {
      "cell_type": "markdown",
      "metadata": {
        "id": "d98Nm1uQPjfx"
      },
      "source": [
        "So far we have examined the multiple datasets, but we don't see any meaninful insights for marketing strategy. Thus, here I attempt to suggest some guideline/hypothesis to get some meningful results from this analysis.\n",
        "\n",
        "\n",
        "Wellness proucts are the main products of Bellabeat. \n",
        "\n",
        "And the main target group is female (if largely young females aged between 18-30?) who are largely sensitive to their weights.\n",
        "\n",
        "Therefore, it is important to find the correaltion between weights and certain activities (intensities?).\n",
        "\n",
        "Then, what specific acitivities and frequency, duration and intervals influence to loosing weight?\n",
        "\n"
      ]
    },
    {
      "cell_type": "markdown",
      "metadata": {
        "id": "I9yFQYHF7Wxo"
      },
      "source": [
        "### Weight & Intensities\n",
        "First, we need to filter data into users who are showing the decreasing trend of their weight, and then analyse their data what specific elements positively effects on their losing weight.\n",
        "\n",
        "See WeightLogInfo to see the trends of weight lose.\n",
        "\n",
        "**What is the differences between those who suceeded losing weight and those who dont ?**\n",
        "\n",
        "let's first see the avaialbe datasets about customers' weight"
      ]
    },
    {
      "cell_type": "code",
      "metadata": {
        "id": "wM8U7VRjN9U9",
        "colab": {
          "base_uri": "https://localhost:8080/",
          "height": 375
        },
        "outputId": "52ca623f-df61-43ca-f62e-d87a7002b310"
      },
      "source": [
        "weightLogInfo.groupby('Id').describe()"
      ],
      "execution_count": null,
      "outputs": [
        {
          "output_type": "execute_result",
          "data": {
            "text/html": [
              "<div>\n",
              "<style scoped>\n",
              "    .dataframe tbody tr th:only-of-type {\n",
              "        vertical-align: middle;\n",
              "    }\n",
              "\n",
              "    .dataframe tbody tr th {\n",
              "        vertical-align: top;\n",
              "    }\n",
              "\n",
              "    .dataframe thead tr th {\n",
              "        text-align: left;\n",
              "    }\n",
              "\n",
              "    .dataframe thead tr:last-of-type th {\n",
              "        text-align: right;\n",
              "    }\n",
              "</style>\n",
              "<table border=\"1\" class=\"dataframe\">\n",
              "  <thead>\n",
              "    <tr>\n",
              "      <th></th>\n",
              "      <th colspan=\"8\" halign=\"left\">WeightKg</th>\n",
              "      <th colspan=\"8\" halign=\"left\">WeightPounds</th>\n",
              "      <th colspan=\"8\" halign=\"left\">Fat</th>\n",
              "      <th colspan=\"8\" halign=\"left\">BMI</th>\n",
              "      <th colspan=\"8\" halign=\"left\">LogId</th>\n",
              "    </tr>\n",
              "    <tr>\n",
              "      <th></th>\n",
              "      <th>count</th>\n",
              "      <th>mean</th>\n",
              "      <th>std</th>\n",
              "      <th>min</th>\n",
              "      <th>25%</th>\n",
              "      <th>50%</th>\n",
              "      <th>75%</th>\n",
              "      <th>max</th>\n",
              "      <th>count</th>\n",
              "      <th>mean</th>\n",
              "      <th>std</th>\n",
              "      <th>min</th>\n",
              "      <th>25%</th>\n",
              "      <th>50%</th>\n",
              "      <th>75%</th>\n",
              "      <th>max</th>\n",
              "      <th>count</th>\n",
              "      <th>mean</th>\n",
              "      <th>std</th>\n",
              "      <th>min</th>\n",
              "      <th>25%</th>\n",
              "      <th>50%</th>\n",
              "      <th>75%</th>\n",
              "      <th>max</th>\n",
              "      <th>count</th>\n",
              "      <th>mean</th>\n",
              "      <th>std</th>\n",
              "      <th>min</th>\n",
              "      <th>25%</th>\n",
              "      <th>50%</th>\n",
              "      <th>75%</th>\n",
              "      <th>max</th>\n",
              "      <th>count</th>\n",
              "      <th>mean</th>\n",
              "      <th>std</th>\n",
              "      <th>min</th>\n",
              "      <th>25%</th>\n",
              "      <th>50%</th>\n",
              "      <th>75%</th>\n",
              "      <th>max</th>\n",
              "    </tr>\n",
              "    <tr>\n",
              "      <th>Id</th>\n",
              "      <th></th>\n",
              "      <th></th>\n",
              "      <th></th>\n",
              "      <th></th>\n",
              "      <th></th>\n",
              "      <th></th>\n",
              "      <th></th>\n",
              "      <th></th>\n",
              "      <th></th>\n",
              "      <th></th>\n",
              "      <th></th>\n",
              "      <th></th>\n",
              "      <th></th>\n",
              "      <th></th>\n",
              "      <th></th>\n",
              "      <th></th>\n",
              "      <th></th>\n",
              "      <th></th>\n",
              "      <th></th>\n",
              "      <th></th>\n",
              "      <th></th>\n",
              "      <th></th>\n",
              "      <th></th>\n",
              "      <th></th>\n",
              "      <th></th>\n",
              "      <th></th>\n",
              "      <th></th>\n",
              "      <th></th>\n",
              "      <th></th>\n",
              "      <th></th>\n",
              "      <th></th>\n",
              "      <th></th>\n",
              "      <th></th>\n",
              "      <th></th>\n",
              "      <th></th>\n",
              "      <th></th>\n",
              "      <th></th>\n",
              "      <th></th>\n",
              "      <th></th>\n",
              "      <th></th>\n",
              "    </tr>\n",
              "  </thead>\n",
              "  <tbody>\n",
              "    <tr>\n",
              "      <th>1503960366</th>\n",
              "      <td>2.0</td>\n",
              "      <td>52.599998</td>\n",
              "      <td>0.000000</td>\n",
              "      <td>52.599998</td>\n",
              "      <td>52.599998</td>\n",
              "      <td>52.599998</td>\n",
              "      <td>52.599998</td>\n",
              "      <td>52.599998</td>\n",
              "      <td>2.0</td>\n",
              "      <td>115.963147</td>\n",
              "      <td>0.000000</td>\n",
              "      <td>115.963147</td>\n",
              "      <td>115.963147</td>\n",
              "      <td>115.963147</td>\n",
              "      <td>115.963147</td>\n",
              "      <td>115.963147</td>\n",
              "      <td>1.0</td>\n",
              "      <td>22.0</td>\n",
              "      <td>NaN</td>\n",
              "      <td>22.0</td>\n",
              "      <td>22.0</td>\n",
              "      <td>22.0</td>\n",
              "      <td>22.0</td>\n",
              "      <td>22.0</td>\n",
              "      <td>2.0</td>\n",
              "      <td>22.650000</td>\n",
              "      <td>0.000000</td>\n",
              "      <td>22.650000</td>\n",
              "      <td>22.650000</td>\n",
              "      <td>22.650000</td>\n",
              "      <td>22.650000</td>\n",
              "      <td>22.650000</td>\n",
              "      <td>2.0</td>\n",
              "      <td>1.462277e+12</td>\n",
              "      <td>6.109403e+07</td>\n",
              "      <td>1.462234e+12</td>\n",
              "      <td>1.462255e+12</td>\n",
              "      <td>1.462277e+12</td>\n",
              "      <td>1.462298e+12</td>\n",
              "      <td>1.462320e+12</td>\n",
              "    </tr>\n",
              "    <tr>\n",
              "      <th>1927972279</th>\n",
              "      <td>1.0</td>\n",
              "      <td>133.500000</td>\n",
              "      <td>NaN</td>\n",
              "      <td>133.500000</td>\n",
              "      <td>133.500000</td>\n",
              "      <td>133.500000</td>\n",
              "      <td>133.500000</td>\n",
              "      <td>133.500000</td>\n",
              "      <td>1.0</td>\n",
              "      <td>294.317120</td>\n",
              "      <td>NaN</td>\n",
              "      <td>294.317120</td>\n",
              "      <td>294.317120</td>\n",
              "      <td>294.317120</td>\n",
              "      <td>294.317120</td>\n",
              "      <td>294.317120</td>\n",
              "      <td>0.0</td>\n",
              "      <td>NaN</td>\n",
              "      <td>NaN</td>\n",
              "      <td>NaN</td>\n",
              "      <td>NaN</td>\n",
              "      <td>NaN</td>\n",
              "      <td>NaN</td>\n",
              "      <td>NaN</td>\n",
              "      <td>1.0</td>\n",
              "      <td>47.540001</td>\n",
              "      <td>NaN</td>\n",
              "      <td>47.540001</td>\n",
              "      <td>47.540001</td>\n",
              "      <td>47.540001</td>\n",
              "      <td>47.540001</td>\n",
              "      <td>47.540001</td>\n",
              "      <td>1.0</td>\n",
              "      <td>1.460510e+12</td>\n",
              "      <td>NaN</td>\n",
              "      <td>1.460510e+12</td>\n",
              "      <td>1.460510e+12</td>\n",
              "      <td>1.460510e+12</td>\n",
              "      <td>1.460510e+12</td>\n",
              "      <td>1.460510e+12</td>\n",
              "    </tr>\n",
              "    <tr>\n",
              "      <th>2873212765</th>\n",
              "      <td>2.0</td>\n",
              "      <td>57.000000</td>\n",
              "      <td>0.424263</td>\n",
              "      <td>56.700001</td>\n",
              "      <td>56.850000</td>\n",
              "      <td>57.000000</td>\n",
              "      <td>57.150000</td>\n",
              "      <td>57.299999</td>\n",
              "      <td>2.0</td>\n",
              "      <td>125.663489</td>\n",
              "      <td>0.935340</td>\n",
              "      <td>125.002104</td>\n",
              "      <td>125.332797</td>\n",
              "      <td>125.663489</td>\n",
              "      <td>125.994182</td>\n",
              "      <td>126.324875</td>\n",
              "      <td>0.0</td>\n",
              "      <td>NaN</td>\n",
              "      <td>NaN</td>\n",
              "      <td>NaN</td>\n",
              "      <td>NaN</td>\n",
              "      <td>NaN</td>\n",
              "      <td>NaN</td>\n",
              "      <td>NaN</td>\n",
              "      <td>2.0</td>\n",
              "      <td>21.570001</td>\n",
              "      <td>0.169705</td>\n",
              "      <td>21.450001</td>\n",
              "      <td>21.510001</td>\n",
              "      <td>21.570001</td>\n",
              "      <td>21.630001</td>\n",
              "      <td>21.690001</td>\n",
              "      <td>2.0</td>\n",
              "      <td>1.462190e+12</td>\n",
              "      <td>1.282975e+09</td>\n",
              "      <td>1.461283e+12</td>\n",
              "      <td>1.461737e+12</td>\n",
              "      <td>1.462190e+12</td>\n",
              "      <td>1.462644e+12</td>\n",
              "      <td>1.463098e+12</td>\n",
              "    </tr>\n",
              "    <tr>\n",
              "      <th>4319703577</th>\n",
              "      <td>2.0</td>\n",
              "      <td>72.350002</td>\n",
              "      <td>0.070710</td>\n",
              "      <td>72.300003</td>\n",
              "      <td>72.325003</td>\n",
              "      <td>72.350002</td>\n",
              "      <td>72.375002</td>\n",
              "      <td>72.400002</td>\n",
              "      <td>2.0</td>\n",
              "      <td>159.504452</td>\n",
              "      <td>0.155888</td>\n",
              "      <td>159.394222</td>\n",
              "      <td>159.449337</td>\n",
              "      <td>159.504452</td>\n",
              "      <td>159.559566</td>\n",
              "      <td>159.614681</td>\n",
              "      <td>1.0</td>\n",
              "      <td>25.0</td>\n",
              "      <td>NaN</td>\n",
              "      <td>25.0</td>\n",
              "      <td>25.0</td>\n",
              "      <td>25.0</td>\n",
              "      <td>25.0</td>\n",
              "      <td>25.0</td>\n",
              "      <td>2.0</td>\n",
              "      <td>27.415000</td>\n",
              "      <td>0.049499</td>\n",
              "      <td>27.379999</td>\n",
              "      <td>27.397500</td>\n",
              "      <td>27.415000</td>\n",
              "      <td>27.432500</td>\n",
              "      <td>27.450001</td>\n",
              "      <td>2.0</td>\n",
              "      <td>1.461672e+12</td>\n",
              "      <td>1.038598e+09</td>\n",
              "      <td>1.460938e+12</td>\n",
              "      <td>1.461305e+12</td>\n",
              "      <td>1.461672e+12</td>\n",
              "      <td>1.462039e+12</td>\n",
              "      <td>1.462406e+12</td>\n",
              "    </tr>\n",
              "    <tr>\n",
              "      <th>4558609924</th>\n",
              "      <td>5.0</td>\n",
              "      <td>69.639999</td>\n",
              "      <td>0.497998</td>\n",
              "      <td>69.099998</td>\n",
              "      <td>69.199997</td>\n",
              "      <td>69.699997</td>\n",
              "      <td>69.900002</td>\n",
              "      <td>70.300003</td>\n",
              "      <td>5.0</td>\n",
              "      <td>153.529918</td>\n",
              "      <td>1.097898</td>\n",
              "      <td>152.339420</td>\n",
              "      <td>152.559879</td>\n",
              "      <td>153.662190</td>\n",
              "      <td>154.103125</td>\n",
              "      <td>154.984977</td>\n",
              "      <td>0.0</td>\n",
              "      <td>NaN</td>\n",
              "      <td>NaN</td>\n",
              "      <td>NaN</td>\n",
              "      <td>NaN</td>\n",
              "      <td>NaN</td>\n",
              "      <td>NaN</td>\n",
              "      <td>NaN</td>\n",
              "      <td>5.0</td>\n",
              "      <td>27.214000</td>\n",
              "      <td>0.193080</td>\n",
              "      <td>27.000000</td>\n",
              "      <td>27.040001</td>\n",
              "      <td>27.250000</td>\n",
              "      <td>27.320000</td>\n",
              "      <td>27.459999</td>\n",
              "      <td>5.0</td>\n",
              "      <td>1.461974e+12</td>\n",
              "      <td>6.830520e+08</td>\n",
              "      <td>1.461024e+12</td>\n",
              "      <td>1.461629e+12</td>\n",
              "      <td>1.462147e+12</td>\n",
              "      <td>1.462234e+12</td>\n",
              "      <td>1.462838e+12</td>\n",
              "    </tr>\n",
              "    <tr>\n",
              "      <th>5577150313</th>\n",
              "      <td>1.0</td>\n",
              "      <td>90.699997</td>\n",
              "      <td>NaN</td>\n",
              "      <td>90.699997</td>\n",
              "      <td>90.699997</td>\n",
              "      <td>90.699997</td>\n",
              "      <td>90.699997</td>\n",
              "      <td>90.699997</td>\n",
              "      <td>1.0</td>\n",
              "      <td>199.959265</td>\n",
              "      <td>NaN</td>\n",
              "      <td>199.959265</td>\n",
              "      <td>199.959265</td>\n",
              "      <td>199.959265</td>\n",
              "      <td>199.959265</td>\n",
              "      <td>199.959265</td>\n",
              "      <td>0.0</td>\n",
              "      <td>NaN</td>\n",
              "      <td>NaN</td>\n",
              "      <td>NaN</td>\n",
              "      <td>NaN</td>\n",
              "      <td>NaN</td>\n",
              "      <td>NaN</td>\n",
              "      <td>NaN</td>\n",
              "      <td>1.0</td>\n",
              "      <td>28.000000</td>\n",
              "      <td>NaN</td>\n",
              "      <td>28.000000</td>\n",
              "      <td>28.000000</td>\n",
              "      <td>28.000000</td>\n",
              "      <td>28.000000</td>\n",
              "      <td>28.000000</td>\n",
              "      <td>1.0</td>\n",
              "      <td>1.460885e+12</td>\n",
              "      <td>NaN</td>\n",
              "      <td>1.460885e+12</td>\n",
              "      <td>1.460885e+12</td>\n",
              "      <td>1.460885e+12</td>\n",
              "      <td>1.460885e+12</td>\n",
              "      <td>1.460885e+12</td>\n",
              "    </tr>\n",
              "    <tr>\n",
              "      <th>6962181067</th>\n",
              "      <td>30.0</td>\n",
              "      <td>61.553334</td>\n",
              "      <td>0.388395</td>\n",
              "      <td>61.000000</td>\n",
              "      <td>61.225000</td>\n",
              "      <td>61.500000</td>\n",
              "      <td>61.700001</td>\n",
              "      <td>62.500000</td>\n",
              "      <td>30.0</td>\n",
              "      <td>135.701872</td>\n",
              "      <td>0.856264</td>\n",
              "      <td>134.481980</td>\n",
              "      <td>134.978021</td>\n",
              "      <td>135.584291</td>\n",
              "      <td>136.025217</td>\n",
              "      <td>137.788914</td>\n",
              "      <td>0.0</td>\n",
              "      <td>NaN</td>\n",
              "      <td>NaN</td>\n",
              "      <td>NaN</td>\n",
              "      <td>NaN</td>\n",
              "      <td>NaN</td>\n",
              "      <td>NaN</td>\n",
              "      <td>NaN</td>\n",
              "      <td>30.0</td>\n",
              "      <td>24.028000</td>\n",
              "      <td>0.151871</td>\n",
              "      <td>23.820000</td>\n",
              "      <td>23.900000</td>\n",
              "      <td>24.000000</td>\n",
              "      <td>24.100000</td>\n",
              "      <td>24.389999</td>\n",
              "      <td>30.0</td>\n",
              "      <td>1.461804e+12</td>\n",
              "      <td>7.988221e+08</td>\n",
              "      <td>1.460506e+12</td>\n",
              "      <td>1.461132e+12</td>\n",
              "      <td>1.461845e+12</td>\n",
              "      <td>1.462471e+12</td>\n",
              "      <td>1.463098e+12</td>\n",
              "    </tr>\n",
              "    <tr>\n",
              "      <th>8877689391</th>\n",
              "      <td>24.0</td>\n",
              "      <td>85.145834</td>\n",
              "      <td>0.454905</td>\n",
              "      <td>84.000000</td>\n",
              "      <td>84.900002</td>\n",
              "      <td>85.300003</td>\n",
              "      <td>85.500000</td>\n",
              "      <td>85.800003</td>\n",
              "      <td>24.0</td>\n",
              "      <td>187.714432</td>\n",
              "      <td>1.002894</td>\n",
              "      <td>185.188300</td>\n",
              "      <td>187.172464</td>\n",
              "      <td>188.054316</td>\n",
              "      <td>188.495234</td>\n",
              "      <td>189.156628</td>\n",
              "      <td>0.0</td>\n",
              "      <td>NaN</td>\n",
              "      <td>NaN</td>\n",
              "      <td>NaN</td>\n",
              "      <td>NaN</td>\n",
              "      <td>NaN</td>\n",
              "      <td>NaN</td>\n",
              "      <td>NaN</td>\n",
              "      <td>24.0</td>\n",
              "      <td>25.487083</td>\n",
              "      <td>0.135950</td>\n",
              "      <td>25.139999</td>\n",
              "      <td>25.410000</td>\n",
              "      <td>25.530001</td>\n",
              "      <td>25.590000</td>\n",
              "      <td>25.680000</td>\n",
              "      <td>24.0</td>\n",
              "      <td>1.461709e+12</td>\n",
              "      <td>7.737916e+08</td>\n",
              "      <td>1.460444e+12</td>\n",
              "      <td>1.461113e+12</td>\n",
              "      <td>1.461697e+12</td>\n",
              "      <td>1.462280e+12</td>\n",
              "      <td>1.463035e+12</td>\n",
              "    </tr>\n",
              "  </tbody>\n",
              "</table>\n",
              "</div>"
            ],
            "text/plain": [
              "           WeightKg              ...         LogId              \n",
              "              count        mean  ...           75%           max\n",
              "Id                               ...                            \n",
              "1503960366      2.0   52.599998  ...  1.462298e+12  1.462320e+12\n",
              "1927972279      1.0  133.500000  ...  1.460510e+12  1.460510e+12\n",
              "2873212765      2.0   57.000000  ...  1.462644e+12  1.463098e+12\n",
              "4319703577      2.0   72.350002  ...  1.462039e+12  1.462406e+12\n",
              "4558609924      5.0   69.639999  ...  1.462234e+12  1.462838e+12\n",
              "5577150313      1.0   90.699997  ...  1.460885e+12  1.460885e+12\n",
              "6962181067     30.0   61.553334  ...  1.462471e+12  1.463098e+12\n",
              "8877689391     24.0   85.145834  ...  1.462280e+12  1.463035e+12\n",
              "\n",
              "[8 rows x 40 columns]"
            ]
          },
          "metadata": {
            "tags": []
          },
          "execution_count": 216
        }
      ]
    },
    {
      "cell_type": "markdown",
      "metadata": {
        "id": "EF0dRe8KEMNB"
      },
      "source": [
        "We have looked through the data of weight-change. However, these data is not insigthful due to a lack of data. Those who are succesed losing weight is scarce, and time period is not extensive enough. Perhaps, the only possible sample that we can possibly see the trend is Id, 6962181067 and 8877689391. But these sample data reveals very short period of time. \n",
        "\n",
        "In order to investigate the stronger correaltion between acitivity intensities and weight, more data needs to be collected. Perhaps, encourage users to record their weight change more frequently (need markeing campaigns???)\n",
        "\n",
        "Thus, the investigation of the corelation between weight and activities is not meaningnful. \n",
        "\n"
      ]
    },
    {
      "cell_type": "markdown",
      "metadata": {
        "id": "2Wnbb9FY7xu_"
      },
      "source": [
        "### Calories, Steps & Intensities\n",
        "\n",
        "However,calories could be an insighful indicator to examine the pattern in regards to the customer's acitivities.\n",
        "\n",
        "First, let's join the tables of dailyCalories, dailySteps and dailyIntensities."
      ]
    },
    {
      "cell_type": "code",
      "metadata": {
        "id": "_t-AJlRjfIRx"
      },
      "source": [
        "dailyCalories1=dailyCalories.drop(columns=['day_of_week'])"
      ],
      "execution_count": null,
      "outputs": []
    },
    {
      "cell_type": "code",
      "metadata": {
        "id": "4R0cgfMWgzWn"
      },
      "source": [
        "dailyIntensities['ActivityDay'] = pd.to_datetime(dailyIntensities['ActivityDay'])\n",
        "dailyIntensities.head()"
      ],
      "execution_count": null,
      "outputs": []
    },
    {
      "cell_type": "code",
      "metadata": {
        "id": "3vjPJ7D_foed",
        "colab": {
          "base_uri": "https://localhost:8080/",
          "height": 434
        },
        "outputId": "d400d9da-51b5-4eed-8568-c69064bcc719"
      },
      "source": [
        "merge=pd.merge(dailyCalories1,dailyIntensities, how='inner', left_index=True, right_index=True)\n",
        "merge1=merge.drop(columns=['ActivityDay_x', 'Id_y', 'ActivityDay_y'])\n",
        "merge2=merge1.rename(columns = {'Id_x':'Id'}, inplace = False)\n",
        "merge2"
      ],
      "execution_count": null,
      "outputs": [
        {
          "output_type": "execute_result",
          "data": {
            "text/html": [
              "<div>\n",
              "<style scoped>\n",
              "    .dataframe tbody tr th:only-of-type {\n",
              "        vertical-align: middle;\n",
              "    }\n",
              "\n",
              "    .dataframe tbody tr th {\n",
              "        vertical-align: top;\n",
              "    }\n",
              "\n",
              "    .dataframe thead th {\n",
              "        text-align: right;\n",
              "    }\n",
              "</style>\n",
              "<table border=\"1\" class=\"dataframe\">\n",
              "  <thead>\n",
              "    <tr style=\"text-align: right;\">\n",
              "      <th></th>\n",
              "      <th>Id</th>\n",
              "      <th>Calories</th>\n",
              "      <th>SedentaryMinutes</th>\n",
              "      <th>LightlyActiveMinutes</th>\n",
              "      <th>FairlyActiveMinutes</th>\n",
              "      <th>VeryActiveMinutes</th>\n",
              "      <th>SedentaryActiveDistance</th>\n",
              "      <th>LightActiveDistance</th>\n",
              "      <th>ModeratelyActiveDistance</th>\n",
              "      <th>VeryActiveDistance</th>\n",
              "      <th>day_of_week</th>\n",
              "    </tr>\n",
              "  </thead>\n",
              "  <tbody>\n",
              "    <tr>\n",
              "      <th>0</th>\n",
              "      <td>1503960366</td>\n",
              "      <td>1985</td>\n",
              "      <td>728</td>\n",
              "      <td>328</td>\n",
              "      <td>13</td>\n",
              "      <td>25</td>\n",
              "      <td>0.00</td>\n",
              "      <td>6.06</td>\n",
              "      <td>0.55</td>\n",
              "      <td>1.88</td>\n",
              "      <td>Tuesday</td>\n",
              "    </tr>\n",
              "    <tr>\n",
              "      <th>1</th>\n",
              "      <td>1503960366</td>\n",
              "      <td>1797</td>\n",
              "      <td>776</td>\n",
              "      <td>217</td>\n",
              "      <td>19</td>\n",
              "      <td>21</td>\n",
              "      <td>0.00</td>\n",
              "      <td>4.71</td>\n",
              "      <td>0.69</td>\n",
              "      <td>1.57</td>\n",
              "      <td>Wednesday</td>\n",
              "    </tr>\n",
              "    <tr>\n",
              "      <th>2</th>\n",
              "      <td>1503960366</td>\n",
              "      <td>1776</td>\n",
              "      <td>1218</td>\n",
              "      <td>181</td>\n",
              "      <td>11</td>\n",
              "      <td>30</td>\n",
              "      <td>0.00</td>\n",
              "      <td>3.91</td>\n",
              "      <td>0.40</td>\n",
              "      <td>2.44</td>\n",
              "      <td>Thursday</td>\n",
              "    </tr>\n",
              "    <tr>\n",
              "      <th>3</th>\n",
              "      <td>1503960366</td>\n",
              "      <td>1745</td>\n",
              "      <td>726</td>\n",
              "      <td>209</td>\n",
              "      <td>34</td>\n",
              "      <td>29</td>\n",
              "      <td>0.00</td>\n",
              "      <td>2.83</td>\n",
              "      <td>1.26</td>\n",
              "      <td>2.14</td>\n",
              "      <td>Friday</td>\n",
              "    </tr>\n",
              "    <tr>\n",
              "      <th>4</th>\n",
              "      <td>1503960366</td>\n",
              "      <td>1863</td>\n",
              "      <td>773</td>\n",
              "      <td>221</td>\n",
              "      <td>10</td>\n",
              "      <td>36</td>\n",
              "      <td>0.00</td>\n",
              "      <td>5.04</td>\n",
              "      <td>0.41</td>\n",
              "      <td>2.71</td>\n",
              "      <td>Saturday</td>\n",
              "    </tr>\n",
              "    <tr>\n",
              "      <th>...</th>\n",
              "      <td>...</td>\n",
              "      <td>...</td>\n",
              "      <td>...</td>\n",
              "      <td>...</td>\n",
              "      <td>...</td>\n",
              "      <td>...</td>\n",
              "      <td>...</td>\n",
              "      <td>...</td>\n",
              "      <td>...</td>\n",
              "      <td>...</td>\n",
              "      <td>...</td>\n",
              "    </tr>\n",
              "    <tr>\n",
              "      <th>935</th>\n",
              "      <td>8877689391</td>\n",
              "      <td>2847</td>\n",
              "      <td>1174</td>\n",
              "      <td>245</td>\n",
              "      <td>4</td>\n",
              "      <td>17</td>\n",
              "      <td>0.00</td>\n",
              "      <td>6.80</td>\n",
              "      <td>0.20</td>\n",
              "      <td>1.08</td>\n",
              "      <td>Sunday</td>\n",
              "    </tr>\n",
              "    <tr>\n",
              "      <th>936</th>\n",
              "      <td>8877689391</td>\n",
              "      <td>3710</td>\n",
              "      <td>1131</td>\n",
              "      <td>217</td>\n",
              "      <td>19</td>\n",
              "      <td>73</td>\n",
              "      <td>0.05</td>\n",
              "      <td>6.24</td>\n",
              "      <td>0.80</td>\n",
              "      <td>11.10</td>\n",
              "      <td>Monday</td>\n",
              "    </tr>\n",
              "    <tr>\n",
              "      <th>937</th>\n",
              "      <td>8877689391</td>\n",
              "      <td>2832</td>\n",
              "      <td>1187</td>\n",
              "      <td>224</td>\n",
              "      <td>11</td>\n",
              "      <td>18</td>\n",
              "      <td>0.00</td>\n",
              "      <td>6.28</td>\n",
              "      <td>0.46</td>\n",
              "      <td>1.35</td>\n",
              "      <td>Tuesday</td>\n",
              "    </tr>\n",
              "    <tr>\n",
              "      <th>938</th>\n",
              "      <td>8877689391</td>\n",
              "      <td>3832</td>\n",
              "      <td>1127</td>\n",
              "      <td>213</td>\n",
              "      <td>12</td>\n",
              "      <td>88</td>\n",
              "      <td>0.00</td>\n",
              "      <td>5.89</td>\n",
              "      <td>0.41</td>\n",
              "      <td>13.22</td>\n",
              "      <td>Wednesday</td>\n",
              "    </tr>\n",
              "    <tr>\n",
              "      <th>939</th>\n",
              "      <td>8877689391</td>\n",
              "      <td>1849</td>\n",
              "      <td>770</td>\n",
              "      <td>137</td>\n",
              "      <td>1</td>\n",
              "      <td>23</td>\n",
              "      <td>0.00</td>\n",
              "      <td>4.25</td>\n",
              "      <td>0.04</td>\n",
              "      <td>1.82</td>\n",
              "      <td>Thursday</td>\n",
              "    </tr>\n",
              "  </tbody>\n",
              "</table>\n",
              "<p>940 rows × 11 columns</p>\n",
              "</div>"
            ],
            "text/plain": [
              "             Id  Calories  ...  VeryActiveDistance  day_of_week\n",
              "0    1503960366      1985  ...                1.88      Tuesday\n",
              "1    1503960366      1797  ...                1.57    Wednesday\n",
              "2    1503960366      1776  ...                2.44     Thursday\n",
              "3    1503960366      1745  ...                2.14       Friday\n",
              "4    1503960366      1863  ...                2.71     Saturday\n",
              "..          ...       ...  ...                 ...          ...\n",
              "935  8877689391      2847  ...                1.08       Sunday\n",
              "936  8877689391      3710  ...               11.10       Monday\n",
              "937  8877689391      2832  ...                1.35      Tuesday\n",
              "938  8877689391      3832  ...               13.22    Wednesday\n",
              "939  8877689391      1849  ...                1.82     Thursday\n",
              "\n",
              "[940 rows x 11 columns]"
            ]
          },
          "metadata": {
            "tags": []
          },
          "execution_count": 219
        }
      ]
    },
    {
      "cell_type": "code",
      "metadata": {
        "id": "jNlbaj_JqI-S",
        "colab": {
          "base_uri": "https://localhost:8080/",
          "height": 202
        },
        "outputId": "91006ce7-2dfa-4042-cd87-bf95aa91d1c2"
      },
      "source": [
        "dailySteps['ActivityDay'] = pd.to_datetime(dailySteps['ActivityDay'])\n",
        "dailySteps.head()"
      ],
      "execution_count": null,
      "outputs": [
        {
          "output_type": "execute_result",
          "data": {
            "text/html": [
              "<div>\n",
              "<style scoped>\n",
              "    .dataframe tbody tr th:only-of-type {\n",
              "        vertical-align: middle;\n",
              "    }\n",
              "\n",
              "    .dataframe tbody tr th {\n",
              "        vertical-align: top;\n",
              "    }\n",
              "\n",
              "    .dataframe thead th {\n",
              "        text-align: right;\n",
              "    }\n",
              "</style>\n",
              "<table border=\"1\" class=\"dataframe\">\n",
              "  <thead>\n",
              "    <tr style=\"text-align: right;\">\n",
              "      <th></th>\n",
              "      <th>Id</th>\n",
              "      <th>ActivityDay</th>\n",
              "      <th>StepTotal</th>\n",
              "    </tr>\n",
              "  </thead>\n",
              "  <tbody>\n",
              "    <tr>\n",
              "      <th>0</th>\n",
              "      <td>1503960366</td>\n",
              "      <td>2016-04-12</td>\n",
              "      <td>13162</td>\n",
              "    </tr>\n",
              "    <tr>\n",
              "      <th>1</th>\n",
              "      <td>1503960366</td>\n",
              "      <td>2016-04-13</td>\n",
              "      <td>10735</td>\n",
              "    </tr>\n",
              "    <tr>\n",
              "      <th>2</th>\n",
              "      <td>1503960366</td>\n",
              "      <td>2016-04-14</td>\n",
              "      <td>10460</td>\n",
              "    </tr>\n",
              "    <tr>\n",
              "      <th>3</th>\n",
              "      <td>1503960366</td>\n",
              "      <td>2016-04-15</td>\n",
              "      <td>9762</td>\n",
              "    </tr>\n",
              "    <tr>\n",
              "      <th>4</th>\n",
              "      <td>1503960366</td>\n",
              "      <td>2016-04-16</td>\n",
              "      <td>12669</td>\n",
              "    </tr>\n",
              "  </tbody>\n",
              "</table>\n",
              "</div>"
            ],
            "text/plain": [
              "           Id ActivityDay  StepTotal\n",
              "0  1503960366  2016-04-12      13162\n",
              "1  1503960366  2016-04-13      10735\n",
              "2  1503960366  2016-04-14      10460\n",
              "3  1503960366  2016-04-15       9762\n",
              "4  1503960366  2016-04-16      12669"
            ]
          },
          "metadata": {
            "tags": []
          },
          "execution_count": 232
        }
      ]
    },
    {
      "cell_type": "code",
      "metadata": {
        "id": "7C_ZnfXu4Pyh",
        "colab": {
          "base_uri": "https://localhost:8080/",
          "height": 434
        },
        "outputId": "0343653c-a191-46cc-8b37-379ba6ed3f2a"
      },
      "source": [
        "merge3=pd.merge(dailySteps,merge2, how='inner', left_index=True, right_index=True)\n",
        "merge4=merge3.drop(columns=['Id_y'])\n",
        "merge5=merge4.rename(columns = {'Id_x':'Id'}, inplace = False)\n",
        "merge5\n"
      ],
      "execution_count": null,
      "outputs": [
        {
          "output_type": "execute_result",
          "data": {
            "text/html": [
              "<div>\n",
              "<style scoped>\n",
              "    .dataframe tbody tr th:only-of-type {\n",
              "        vertical-align: middle;\n",
              "    }\n",
              "\n",
              "    .dataframe tbody tr th {\n",
              "        vertical-align: top;\n",
              "    }\n",
              "\n",
              "    .dataframe thead th {\n",
              "        text-align: right;\n",
              "    }\n",
              "</style>\n",
              "<table border=\"1\" class=\"dataframe\">\n",
              "  <thead>\n",
              "    <tr style=\"text-align: right;\">\n",
              "      <th></th>\n",
              "      <th>Id</th>\n",
              "      <th>ActivityDay</th>\n",
              "      <th>StepTotal</th>\n",
              "      <th>Calories</th>\n",
              "      <th>SedentaryMinutes</th>\n",
              "      <th>LightlyActiveMinutes</th>\n",
              "      <th>FairlyActiveMinutes</th>\n",
              "      <th>VeryActiveMinutes</th>\n",
              "      <th>SedentaryActiveDistance</th>\n",
              "      <th>LightActiveDistance</th>\n",
              "      <th>ModeratelyActiveDistance</th>\n",
              "      <th>VeryActiveDistance</th>\n",
              "      <th>day_of_week</th>\n",
              "    </tr>\n",
              "  </thead>\n",
              "  <tbody>\n",
              "    <tr>\n",
              "      <th>0</th>\n",
              "      <td>1503960366</td>\n",
              "      <td>2016-04-12</td>\n",
              "      <td>13162</td>\n",
              "      <td>1985</td>\n",
              "      <td>728</td>\n",
              "      <td>328</td>\n",
              "      <td>13</td>\n",
              "      <td>25</td>\n",
              "      <td>0.00</td>\n",
              "      <td>6.06</td>\n",
              "      <td>0.55</td>\n",
              "      <td>1.88</td>\n",
              "      <td>Tuesday</td>\n",
              "    </tr>\n",
              "    <tr>\n",
              "      <th>1</th>\n",
              "      <td>1503960366</td>\n",
              "      <td>2016-04-13</td>\n",
              "      <td>10735</td>\n",
              "      <td>1797</td>\n",
              "      <td>776</td>\n",
              "      <td>217</td>\n",
              "      <td>19</td>\n",
              "      <td>21</td>\n",
              "      <td>0.00</td>\n",
              "      <td>4.71</td>\n",
              "      <td>0.69</td>\n",
              "      <td>1.57</td>\n",
              "      <td>Wednesday</td>\n",
              "    </tr>\n",
              "    <tr>\n",
              "      <th>2</th>\n",
              "      <td>1503960366</td>\n",
              "      <td>2016-04-14</td>\n",
              "      <td>10460</td>\n",
              "      <td>1776</td>\n",
              "      <td>1218</td>\n",
              "      <td>181</td>\n",
              "      <td>11</td>\n",
              "      <td>30</td>\n",
              "      <td>0.00</td>\n",
              "      <td>3.91</td>\n",
              "      <td>0.40</td>\n",
              "      <td>2.44</td>\n",
              "      <td>Thursday</td>\n",
              "    </tr>\n",
              "    <tr>\n",
              "      <th>3</th>\n",
              "      <td>1503960366</td>\n",
              "      <td>2016-04-15</td>\n",
              "      <td>9762</td>\n",
              "      <td>1745</td>\n",
              "      <td>726</td>\n",
              "      <td>209</td>\n",
              "      <td>34</td>\n",
              "      <td>29</td>\n",
              "      <td>0.00</td>\n",
              "      <td>2.83</td>\n",
              "      <td>1.26</td>\n",
              "      <td>2.14</td>\n",
              "      <td>Friday</td>\n",
              "    </tr>\n",
              "    <tr>\n",
              "      <th>4</th>\n",
              "      <td>1503960366</td>\n",
              "      <td>2016-04-16</td>\n",
              "      <td>12669</td>\n",
              "      <td>1863</td>\n",
              "      <td>773</td>\n",
              "      <td>221</td>\n",
              "      <td>10</td>\n",
              "      <td>36</td>\n",
              "      <td>0.00</td>\n",
              "      <td>5.04</td>\n",
              "      <td>0.41</td>\n",
              "      <td>2.71</td>\n",
              "      <td>Saturday</td>\n",
              "    </tr>\n",
              "    <tr>\n",
              "      <th>...</th>\n",
              "      <td>...</td>\n",
              "      <td>...</td>\n",
              "      <td>...</td>\n",
              "      <td>...</td>\n",
              "      <td>...</td>\n",
              "      <td>...</td>\n",
              "      <td>...</td>\n",
              "      <td>...</td>\n",
              "      <td>...</td>\n",
              "      <td>...</td>\n",
              "      <td>...</td>\n",
              "      <td>...</td>\n",
              "      <td>...</td>\n",
              "    </tr>\n",
              "    <tr>\n",
              "      <th>935</th>\n",
              "      <td>8877689391</td>\n",
              "      <td>2016-05-08</td>\n",
              "      <td>10686</td>\n",
              "      <td>2847</td>\n",
              "      <td>1174</td>\n",
              "      <td>245</td>\n",
              "      <td>4</td>\n",
              "      <td>17</td>\n",
              "      <td>0.00</td>\n",
              "      <td>6.80</td>\n",
              "      <td>0.20</td>\n",
              "      <td>1.08</td>\n",
              "      <td>Sunday</td>\n",
              "    </tr>\n",
              "    <tr>\n",
              "      <th>936</th>\n",
              "      <td>8877689391</td>\n",
              "      <td>2016-05-09</td>\n",
              "      <td>20226</td>\n",
              "      <td>3710</td>\n",
              "      <td>1131</td>\n",
              "      <td>217</td>\n",
              "      <td>19</td>\n",
              "      <td>73</td>\n",
              "      <td>0.05</td>\n",
              "      <td>6.24</td>\n",
              "      <td>0.80</td>\n",
              "      <td>11.10</td>\n",
              "      <td>Monday</td>\n",
              "    </tr>\n",
              "    <tr>\n",
              "      <th>937</th>\n",
              "      <td>8877689391</td>\n",
              "      <td>2016-05-10</td>\n",
              "      <td>10733</td>\n",
              "      <td>2832</td>\n",
              "      <td>1187</td>\n",
              "      <td>224</td>\n",
              "      <td>11</td>\n",
              "      <td>18</td>\n",
              "      <td>0.00</td>\n",
              "      <td>6.28</td>\n",
              "      <td>0.46</td>\n",
              "      <td>1.35</td>\n",
              "      <td>Tuesday</td>\n",
              "    </tr>\n",
              "    <tr>\n",
              "      <th>938</th>\n",
              "      <td>8877689391</td>\n",
              "      <td>2016-05-11</td>\n",
              "      <td>21420</td>\n",
              "      <td>3832</td>\n",
              "      <td>1127</td>\n",
              "      <td>213</td>\n",
              "      <td>12</td>\n",
              "      <td>88</td>\n",
              "      <td>0.00</td>\n",
              "      <td>5.89</td>\n",
              "      <td>0.41</td>\n",
              "      <td>13.22</td>\n",
              "      <td>Wednesday</td>\n",
              "    </tr>\n",
              "    <tr>\n",
              "      <th>939</th>\n",
              "      <td>8877689391</td>\n",
              "      <td>2016-05-12</td>\n",
              "      <td>8064</td>\n",
              "      <td>1849</td>\n",
              "      <td>770</td>\n",
              "      <td>137</td>\n",
              "      <td>1</td>\n",
              "      <td>23</td>\n",
              "      <td>0.00</td>\n",
              "      <td>4.25</td>\n",
              "      <td>0.04</td>\n",
              "      <td>1.82</td>\n",
              "      <td>Thursday</td>\n",
              "    </tr>\n",
              "  </tbody>\n",
              "</table>\n",
              "<p>940 rows × 13 columns</p>\n",
              "</div>"
            ],
            "text/plain": [
              "             Id ActivityDay  ...  VeryActiveDistance  day_of_week\n",
              "0    1503960366  2016-04-12  ...                1.88      Tuesday\n",
              "1    1503960366  2016-04-13  ...                1.57    Wednesday\n",
              "2    1503960366  2016-04-14  ...                2.44     Thursday\n",
              "3    1503960366  2016-04-15  ...                2.14       Friday\n",
              "4    1503960366  2016-04-16  ...                2.71     Saturday\n",
              "..          ...         ...  ...                 ...          ...\n",
              "935  8877689391  2016-05-08  ...                1.08       Sunday\n",
              "936  8877689391  2016-05-09  ...               11.10       Monday\n",
              "937  8877689391  2016-05-10  ...                1.35      Tuesday\n",
              "938  8877689391  2016-05-11  ...               13.22    Wednesday\n",
              "939  8877689391  2016-05-12  ...                1.82     Thursday\n",
              "\n",
              "[940 rows x 13 columns]"
            ]
          },
          "metadata": {
            "tags": []
          },
          "execution_count": 221
        }
      ]
    },
    {
      "cell_type": "code",
      "metadata": {
        "id": "PW0sOr9Pxpth",
        "colab": {
          "base_uri": "https://localhost:8080/",
          "height": 222
        },
        "outputId": "129861c9-9425-4194-844b-574522416f7e"
      },
      "source": [
        "merge6=merge5.drop(columns=['Id', 'ActivityDay'])\n",
        "merge6.head()"
      ],
      "execution_count": null,
      "outputs": [
        {
          "output_type": "execute_result",
          "data": {
            "text/html": [
              "<div>\n",
              "<style scoped>\n",
              "    .dataframe tbody tr th:only-of-type {\n",
              "        vertical-align: middle;\n",
              "    }\n",
              "\n",
              "    .dataframe tbody tr th {\n",
              "        vertical-align: top;\n",
              "    }\n",
              "\n",
              "    .dataframe thead th {\n",
              "        text-align: right;\n",
              "    }\n",
              "</style>\n",
              "<table border=\"1\" class=\"dataframe\">\n",
              "  <thead>\n",
              "    <tr style=\"text-align: right;\">\n",
              "      <th></th>\n",
              "      <th>StepTotal</th>\n",
              "      <th>Calories</th>\n",
              "      <th>SedentaryMinutes</th>\n",
              "      <th>LightlyActiveMinutes</th>\n",
              "      <th>FairlyActiveMinutes</th>\n",
              "      <th>VeryActiveMinutes</th>\n",
              "      <th>SedentaryActiveDistance</th>\n",
              "      <th>LightActiveDistance</th>\n",
              "      <th>ModeratelyActiveDistance</th>\n",
              "      <th>VeryActiveDistance</th>\n",
              "      <th>day_of_week</th>\n",
              "    </tr>\n",
              "  </thead>\n",
              "  <tbody>\n",
              "    <tr>\n",
              "      <th>0</th>\n",
              "      <td>13162</td>\n",
              "      <td>1985</td>\n",
              "      <td>728</td>\n",
              "      <td>328</td>\n",
              "      <td>13</td>\n",
              "      <td>25</td>\n",
              "      <td>0.0</td>\n",
              "      <td>6.06</td>\n",
              "      <td>0.55</td>\n",
              "      <td>1.88</td>\n",
              "      <td>Tuesday</td>\n",
              "    </tr>\n",
              "    <tr>\n",
              "      <th>1</th>\n",
              "      <td>10735</td>\n",
              "      <td>1797</td>\n",
              "      <td>776</td>\n",
              "      <td>217</td>\n",
              "      <td>19</td>\n",
              "      <td>21</td>\n",
              "      <td>0.0</td>\n",
              "      <td>4.71</td>\n",
              "      <td>0.69</td>\n",
              "      <td>1.57</td>\n",
              "      <td>Wednesday</td>\n",
              "    </tr>\n",
              "    <tr>\n",
              "      <th>2</th>\n",
              "      <td>10460</td>\n",
              "      <td>1776</td>\n",
              "      <td>1218</td>\n",
              "      <td>181</td>\n",
              "      <td>11</td>\n",
              "      <td>30</td>\n",
              "      <td>0.0</td>\n",
              "      <td>3.91</td>\n",
              "      <td>0.40</td>\n",
              "      <td>2.44</td>\n",
              "      <td>Thursday</td>\n",
              "    </tr>\n",
              "    <tr>\n",
              "      <th>3</th>\n",
              "      <td>9762</td>\n",
              "      <td>1745</td>\n",
              "      <td>726</td>\n",
              "      <td>209</td>\n",
              "      <td>34</td>\n",
              "      <td>29</td>\n",
              "      <td>0.0</td>\n",
              "      <td>2.83</td>\n",
              "      <td>1.26</td>\n",
              "      <td>2.14</td>\n",
              "      <td>Friday</td>\n",
              "    </tr>\n",
              "    <tr>\n",
              "      <th>4</th>\n",
              "      <td>12669</td>\n",
              "      <td>1863</td>\n",
              "      <td>773</td>\n",
              "      <td>221</td>\n",
              "      <td>10</td>\n",
              "      <td>36</td>\n",
              "      <td>0.0</td>\n",
              "      <td>5.04</td>\n",
              "      <td>0.41</td>\n",
              "      <td>2.71</td>\n",
              "      <td>Saturday</td>\n",
              "    </tr>\n",
              "  </tbody>\n",
              "</table>\n",
              "</div>"
            ],
            "text/plain": [
              "   StepTotal  Calories  ...  VeryActiveDistance  day_of_week\n",
              "0      13162      1985  ...                1.88      Tuesday\n",
              "1      10735      1797  ...                1.57    Wednesday\n",
              "2      10460      1776  ...                2.44     Thursday\n",
              "3       9762      1745  ...                2.14       Friday\n",
              "4      12669      1863  ...                2.71     Saturday\n",
              "\n",
              "[5 rows x 11 columns]"
            ]
          },
          "metadata": {
            "tags": []
          },
          "execution_count": 222
        }
      ]
    },
    {
      "cell_type": "markdown",
      "metadata": {
        "id": "hAB-ypYxL0I9"
      },
      "source": [
        "Let's get a glance on the joined table through the correlation matrix. Focus on the calories to other activities."
      ]
    },
    {
      "cell_type": "code",
      "metadata": {
        "id": "NRYJHb0SxTcj",
        "colab": {
          "base_uri": "https://localhost:8080/",
          "height": 516
        },
        "outputId": "afc96b03-f910-44fc-df14-1ecd09f9a6fd"
      },
      "source": [
        "plt.figure(figsize=(6,6))\n",
        "sns.heatmap(merge6.corr(), annot=True, cmap=\"coolwarm\")"
      ],
      "execution_count": null,
      "outputs": [
        {
          "output_type": "execute_result",
          "data": {
            "text/plain": [
              "<matplotlib.axes._subplots.AxesSubplot at 0x7f177e777450>"
            ]
          },
          "metadata": {
            "tags": []
          },
          "execution_count": 250
        },
        {
          "output_type": "display_data",
          "data": {
            "image/png": "[encoded data removed]",
            "text/plain": [
              "<Figure size 432x432 with 2 Axes>"
            ]
          },
          "metadata": {
            "tags": []
          }
        }
      ]
    },
    {
      "cell_type": "markdown",
      "metadata": {
        "id": "5FucDSycMIjj"
      },
      "source": [
        "According to the corelation matrix, Calories reveal the higher correlated relationship with Step Total, VeryActiveMiniutes. \n",
        "This apprantly can be interpreted that the more active and the more steps possitively effect to burn calories which is pretty much common sensical obvious assumption.\n",
        "\n",
        "Let's particularly see in detail on the plot graphs below."
      ]
    },
    {
      "cell_type": "code",
      "metadata": {
        "id": "_Pwz-RlIBiA6",
        "colab": {
          "base_uri": "https://localhost:8080/",
          "height": 401
        },
        "outputId": "9419dc12-8ecc-4f73-c8b8-03606f8b4766"
      },
      "source": [
        "sns.relplot(x=\"StepTotal\", y=\"Calories\", data=merge5)"
      ],
      "execution_count": null,
      "outputs": [
        {
          "output_type": "execute_result",
          "data": {
            "text/plain": [
              "<seaborn.axisgrid.FacetGrid at 0x7f1764409b50>"
            ]
          },
          "metadata": {
            "tags": []
          },
          "execution_count": 224
        },
        {
          "output_type": "display_data",
          "data": {
            "image/png": "[encoded data removed]",
            "text/plain": [
              "<Figure size 360x360 with 1 Axes>"
            ]
          },
          "metadata": {
            "tags": []
          }
        }
      ]
    },
    {
      "cell_type": "code",
      "metadata": {
        "id": "hICWUXO_DF10",
        "colab": {
          "base_uri": "https://localhost:8080/",
          "height": 401
        },
        "outputId": "c4ac27cd-57f1-4c9f-e383-ea5c8e11c66c"
      },
      "source": [
        "sns.relplot(x=\"VeryActiveMinutes\", y=\"Calories\", data=merge5)"
      ],
      "execution_count": null,
      "outputs": [
        {
          "output_type": "execute_result",
          "data": {
            "text/plain": [
              "<seaborn.axisgrid.FacetGrid at 0x7f177ebb9810>"
            ]
          },
          "metadata": {
            "tags": []
          },
          "execution_count": 226
        },
        {
          "output_type": "display_data",
          "data": {
            "image/png": "[encoded data removed]",
            "text/plain": [
              "<Figure size 360x360 with 1 Axes>"
            ]
          },
          "metadata": {
            "tags": []
          }
        }
      ]
    },
    {
      "cell_type": "markdown",
      "metadata": {
        "id": "kNse9tztTB7a"
      },
      "source": [
        "### Calories & Sleep length\n",
        "Let's also see the correlation between calories and sleep hours for just in case, although it sounds unlikely."
      ]
    },
    {
      "cell_type": "code",
      "metadata": {
        "id": "FQd9__sGf4nD"
      },
      "source": [
        "sleepDay['ActivityDay'] = pd.to_datetime(sleepDay['SleepDay'])\n",
        "sleepDay1=sleepDay.drop(columns=['TotalSleepRecords','TotalTimeInBed', 'SleepDay'] )\n",
        "mean_sleep=sleepDay1.groupby('Id').mean('ActivityDay')\n"
      ],
      "execution_count": null,
      "outputs": []
    },
    {
      "cell_type": "code",
      "metadata": {
        "id": "kDYgZXaF9Czl"
      },
      "source": [
        "mean_calories=dailyCalories.groupby('Id').mean('Calories')\n"
      ],
      "execution_count": null,
      "outputs": []
    },
    {
      "cell_type": "code",
      "metadata": {
        "id": "-b-vRyln9fQa",
        "colab": {
          "base_uri": "https://localhost:8080/",
          "height": 232
        },
        "outputId": "95dcb10b-6978-4a9e-f22f-101f8e1a6262"
      },
      "source": [
        "merge_calories_sleep=pd.merge(mean_sleep, mean_calories, how=\"inner\", on=\"Id\")\n",
        "merge_calories_sleep.head()"
      ],
      "execution_count": null,
      "outputs": [
        {
          "output_type": "execute_result",
          "data": {
            "text/html": [
              "<div>\n",
              "<style scoped>\n",
              "    .dataframe tbody tr th:only-of-type {\n",
              "        vertical-align: middle;\n",
              "    }\n",
              "\n",
              "    .dataframe tbody tr th {\n",
              "        vertical-align: top;\n",
              "    }\n",
              "\n",
              "    .dataframe thead th {\n",
              "        text-align: right;\n",
              "    }\n",
              "</style>\n",
              "<table border=\"1\" class=\"dataframe\">\n",
              "  <thead>\n",
              "    <tr style=\"text-align: right;\">\n",
              "      <th></th>\n",
              "      <th>TotalMinutesAsleep</th>\n",
              "      <th>Calories</th>\n",
              "    </tr>\n",
              "    <tr>\n",
              "      <th>Id</th>\n",
              "      <th></th>\n",
              "      <th></th>\n",
              "    </tr>\n",
              "  </thead>\n",
              "  <tbody>\n",
              "    <tr>\n",
              "      <th>1503960366</th>\n",
              "      <td>360.280000</td>\n",
              "      <td>1816.419355</td>\n",
              "    </tr>\n",
              "    <tr>\n",
              "      <th>1644430081</th>\n",
              "      <td>294.000000</td>\n",
              "      <td>2811.300000</td>\n",
              "    </tr>\n",
              "    <tr>\n",
              "      <th>1844505072</th>\n",
              "      <td>652.000000</td>\n",
              "      <td>1573.483871</td>\n",
              "    </tr>\n",
              "    <tr>\n",
              "      <th>1927972279</th>\n",
              "      <td>417.000000</td>\n",
              "      <td>2172.806452</td>\n",
              "    </tr>\n",
              "    <tr>\n",
              "      <th>2026352035</th>\n",
              "      <td>506.178571</td>\n",
              "      <td>1540.645161</td>\n",
              "    </tr>\n",
              "  </tbody>\n",
              "</table>\n",
              "</div>"
            ],
            "text/plain": [
              "            TotalMinutesAsleep     Calories\n",
              "Id                                         \n",
              "1503960366          360.280000  1816.419355\n",
              "1644430081          294.000000  2811.300000\n",
              "1844505072          652.000000  1573.483871\n",
              "1927972279          417.000000  2172.806452\n",
              "2026352035          506.178571  1540.645161"
            ]
          },
          "metadata": {
            "tags": []
          },
          "execution_count": 254
        }
      ]
    },
    {
      "cell_type": "code",
      "metadata": {
        "id": "8IL9LC199v96",
        "colab": {
          "base_uri": "https://localhost:8080/",
          "height": 401
        },
        "outputId": "c2bce557-3598-4287-92c5-34b057588426"
      },
      "source": [
        "sns.relplot(x=\"TotalMinutesAsleep\", y=\"Calories\", data=merge_calories_sleep)"
      ],
      "execution_count": null,
      "outputs": [
        {
          "output_type": "execute_result",
          "data": {
            "text/plain": [
              "<seaborn.axisgrid.FacetGrid at 0x7f177eaf2e90>"
            ]
          },
          "metadata": {
            "tags": []
          },
          "execution_count": 230
        },
        {
          "output_type": "display_data",
          "data": {
            "image/png": "[encoded data removed]",
            "text/plain": [
              "<Figure size 360x360 with 1 Axes>"
            ]
          },
          "metadata": {
            "tags": []
          }
        }
      ]
    },
    {
      "cell_type": "markdown",
      "metadata": {
        "id": "b-Fb_XtgTPdK"
      },
      "source": [
        "As it's shown on the plot graph above, sleep hours do not show corelation with calories burn."
      ]
    },
    {
      "cell_type": "markdown",
      "metadata": {
        "id": "BLjbaQm9D56f"
      },
      "source": [
        "## Conclusions\n",
        "\n",
        "The number of provided datasets are limited, and it makes challenge to investigate the meaninful insights that possibly beneficial for Bellabeat's marketing campaign.\n",
        "\n",
        "Regardless, if I would answer for the project answers\n",
        "\n",
        "*   What is the distribution of daily calories burnt?\n",
        "  - The majority of the users burn around 2000 claories\n",
        "*   What is the distribution of daily sleep length?\n",
        "  - Around 50% of the users sleeps more than 7 hours\n",
        "*   Are there correlations between weights and activity intensities/calories and activity, steps and intensities/calories and sleep length?\n",
        "  - The positive correlation only reveals between calories, steps and intensities. That is, the more active steps burn higher calories."
      ]
    },
    {
      "cell_type": "markdown",
      "metadata": {
        "id": "k1Vs3J59vQyV"
      },
      "source": [
        "\n",
        "##Recommendation\n",
        "\n",
        "For recommendations, Bellabeat products needs to develop the recommending system that tracking all the measurable data and that recommend the certain activities to improve. \n",
        "\n",
        "The key for the development of business is on personalization of the products. That is, tracking the individual customer's data that gives the adequate information on right time based on their recorded data. \n",
        "\n",
        "Thus, the app can notifiy user the comparison betwwen the yesterday and today ' calories and total stpes and degree of activities to encourage them to work out more and burn calories.\n",
        "\n",
        "Not only for calories, the data such as sleep, stress level etc are also have to be collected and tracked to give better recommending service for the healthier habits. \n",
        "\n",
        "Moreover, perhaps offer some contents and infos about having healthier habits if unhealthy habits are spotted according to the accumulated data of customer.\n",
        "\n"
      ]
    }
  ]
}
