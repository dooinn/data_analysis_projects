{
  "nbformat": 4,
  "nbformat_minor": 0,
  "metadata": {
    "colab": {
      "name": "airline_customer_satisfaction.ipynb",
      "provenance": [],
      "collapsed_sections": [],
      "authorship_tag": "ABX9TyPcVButRQqZF4evjFFYun1r",
      "include_colab_link": true
    },
    "kernelspec": {
      "name": "python3",
      "display_name": "Python 3"
    },
    "language_info": {
      "name": "python"
    }
  },
  "cells": [
    {
      "cell_type": "markdown",
      "metadata": {
        "id": "view-in-github",
        "colab_type": "text"
      },
      "source": [
        "<a href=\"https://colab.research.google.com/github/dooinn/airline_satisfaction/blob/main/airline_customer_satisfaction.ipynb\" target=\"_parent\"><img src=\"https://colab.research.google.com/assets/colab-badge.svg\" alt=\"Open In Colab\"/></a>"
      ]
    },
    {
      "cell_type": "markdown",
      "metadata": {
        "id": "BG6MiEZ56uvk"
      },
      "source": [
        "# Introduction\n",
        "\n",
        "This project will investigate if strong correlation between the customer satisfaction rate with various variabels (Gender, Customer_Type, Age, Type_of_Travel, Class, Flight_Distance, Departure_Delay_in_Minutes, Arrival_Delay_in_Minutes).\n",
        "\n",
        "The goals are to prepare data, followed by analystis with plots, and seek to explain the findings from the study.\n",
        "\n",
        "The main quesiton to answer from this project is: \n",
        "\n",
        "+ What factors lead to customer satisfaction for an Airline?\n",
        "\n",
        "Here are a few questions that this project will seek to answer:\n",
        "\n",
        "+ What is the distribution of age group, gender, class, type of travel and flight distance)\n",
        "+ Is there a correlation between flight distance and sataifaction rate?\n",
        "+ Is there a correlation between ages and satisfaction rate?\n",
        "\n",
        "**Data Sources**\n",
        "- [Kaggle, Airline Passenger Satisfaction](https://www.kaggle.com/teejmahal20/airline-passenger-satisfaction)"
      ]
    },
    {
      "cell_type": "markdown",
      "metadata": {
        "id": "KGhMJ30H95Xm"
      },
      "source": [
        "## Import Python Modules\n",
        "First import the preliminary modules that will be used in this project:"
      ]
    },
    {
      "cell_type": "code",
      "metadata": {
        "id": "jnmLIzqi5euz"
      },
      "source": [
        "from matplotlib import pyplot as plt\n",
        "import pandas as pd\n",
        "import numpy as np\n",
        "import seaborn as sns\n",
        "%matplotlib inline\n"
      ],
      "execution_count": 3,
      "outputs": []
    },
    {
      "cell_type": "markdown",
      "metadata": {
        "id": "YO4pnAqP-LKG"
      },
      "source": [
        "## Loading the Data"
      ]
    },
    {
      "cell_type": "code",
      "metadata": {
        "colab": {
          "base_uri": "https://localhost:8080/",
          "height": 288
        },
        "id": "WpDTh8c4-UmQ",
        "outputId": "7823b995-97da-42e2-9285-22d594c87530"
      },
      "source": [
        "df = pd.read_csv(\"/content/passenger_satisfaction.csv\")\n",
        "df.head()\n"
      ],
      "execution_count": 4,
      "outputs": [
        {
          "output_type": "execute_result",
          "data": {
            "text/html": [
              "<div>\n",
              "<style scoped>\n",
              "    .dataframe tbody tr th:only-of-type {\n",
              "        vertical-align: middle;\n",
              "    }\n",
              "\n",
              "    .dataframe tbody tr th {\n",
              "        vertical-align: top;\n",
              "    }\n",
              "\n",
              "    .dataframe thead th {\n",
              "        text-align: right;\n",
              "    }\n",
              "</style>\n",
              "<table border=\"1\" class=\"dataframe\">\n",
              "  <thead>\n",
              "    <tr style=\"text-align: right;\">\n",
              "      <th></th>\n",
              "      <th>Unnamed: 0</th>\n",
              "      <th>id</th>\n",
              "      <th>gender</th>\n",
              "      <th>customer_type</th>\n",
              "      <th>age</th>\n",
              "      <th>type_of_travel</th>\n",
              "      <th>class</th>\n",
              "      <th>flight_distance</th>\n",
              "      <th>inflight_wifi_service</th>\n",
              "      <th>departure_arrivel_convinent</th>\n",
              "      <th>ease_of_online_booking</th>\n",
              "      <th>gate_location</th>\n",
              "      <th>food_and_drink</th>\n",
              "      <th>online_boarding</th>\n",
              "      <th>seat_comfort</th>\n",
              "      <th>inflight_entertainment</th>\n",
              "      <th>onboard_service</th>\n",
              "      <th>legroom_service</th>\n",
              "      <th>baggage_handling</th>\n",
              "      <th>checkin_service</th>\n",
              "      <th>inflight_service</th>\n",
              "      <th>cleanliness</th>\n",
              "      <th>departure_dealy_minutes</th>\n",
              "      <th>arrival_daly_minutes</th>\n",
              "      <th>satisfaction</th>\n",
              "    </tr>\n",
              "  </thead>\n",
              "  <tbody>\n",
              "    <tr>\n",
              "      <th>0</th>\n",
              "      <td>0</td>\n",
              "      <td>70172</td>\n",
              "      <td>Male</td>\n",
              "      <td>Loyal Customer</td>\n",
              "      <td>13</td>\n",
              "      <td>Personal Travel</td>\n",
              "      <td>Eco Plus</td>\n",
              "      <td>460</td>\n",
              "      <td>3</td>\n",
              "      <td>4</td>\n",
              "      <td>3</td>\n",
              "      <td>1</td>\n",
              "      <td>5</td>\n",
              "      <td>3</td>\n",
              "      <td>5</td>\n",
              "      <td>5</td>\n",
              "      <td>4</td>\n",
              "      <td>3</td>\n",
              "      <td>4</td>\n",
              "      <td>4</td>\n",
              "      <td>5</td>\n",
              "      <td>5</td>\n",
              "      <td>25</td>\n",
              "      <td>18.0</td>\n",
              "      <td>neutral or dissatisfied</td>\n",
              "    </tr>\n",
              "    <tr>\n",
              "      <th>1</th>\n",
              "      <td>1</td>\n",
              "      <td>5047</td>\n",
              "      <td>Male</td>\n",
              "      <td>disloyal Customer</td>\n",
              "      <td>25</td>\n",
              "      <td>Business travel</td>\n",
              "      <td>Business</td>\n",
              "      <td>235</td>\n",
              "      <td>3</td>\n",
              "      <td>2</td>\n",
              "      <td>3</td>\n",
              "      <td>3</td>\n",
              "      <td>1</td>\n",
              "      <td>3</td>\n",
              "      <td>1</td>\n",
              "      <td>1</td>\n",
              "      <td>1</td>\n",
              "      <td>5</td>\n",
              "      <td>3</td>\n",
              "      <td>1</td>\n",
              "      <td>4</td>\n",
              "      <td>1</td>\n",
              "      <td>1</td>\n",
              "      <td>6.0</td>\n",
              "      <td>neutral or dissatisfied</td>\n",
              "    </tr>\n",
              "    <tr>\n",
              "      <th>2</th>\n",
              "      <td>2</td>\n",
              "      <td>110028</td>\n",
              "      <td>Female</td>\n",
              "      <td>Loyal Customer</td>\n",
              "      <td>26</td>\n",
              "      <td>Business travel</td>\n",
              "      <td>Business</td>\n",
              "      <td>1142</td>\n",
              "      <td>2</td>\n",
              "      <td>2</td>\n",
              "      <td>2</td>\n",
              "      <td>2</td>\n",
              "      <td>5</td>\n",
              "      <td>5</td>\n",
              "      <td>5</td>\n",
              "      <td>5</td>\n",
              "      <td>4</td>\n",
              "      <td>3</td>\n",
              "      <td>4</td>\n",
              "      <td>4</td>\n",
              "      <td>4</td>\n",
              "      <td>5</td>\n",
              "      <td>0</td>\n",
              "      <td>0.0</td>\n",
              "      <td>satisfied</td>\n",
              "    </tr>\n",
              "    <tr>\n",
              "      <th>3</th>\n",
              "      <td>3</td>\n",
              "      <td>24026</td>\n",
              "      <td>Female</td>\n",
              "      <td>Loyal Customer</td>\n",
              "      <td>25</td>\n",
              "      <td>Business travel</td>\n",
              "      <td>Business</td>\n",
              "      <td>562</td>\n",
              "      <td>2</td>\n",
              "      <td>5</td>\n",
              "      <td>5</td>\n",
              "      <td>5</td>\n",
              "      <td>2</td>\n",
              "      <td>2</td>\n",
              "      <td>2</td>\n",
              "      <td>2</td>\n",
              "      <td>2</td>\n",
              "      <td>5</td>\n",
              "      <td>3</td>\n",
              "      <td>1</td>\n",
              "      <td>4</td>\n",
              "      <td>2</td>\n",
              "      <td>11</td>\n",
              "      <td>9.0</td>\n",
              "      <td>neutral or dissatisfied</td>\n",
              "    </tr>\n",
              "    <tr>\n",
              "      <th>4</th>\n",
              "      <td>4</td>\n",
              "      <td>119299</td>\n",
              "      <td>Male</td>\n",
              "      <td>Loyal Customer</td>\n",
              "      <td>61</td>\n",
              "      <td>Business travel</td>\n",
              "      <td>Business</td>\n",
              "      <td>214</td>\n",
              "      <td>3</td>\n",
              "      <td>3</td>\n",
              "      <td>3</td>\n",
              "      <td>3</td>\n",
              "      <td>4</td>\n",
              "      <td>5</td>\n",
              "      <td>5</td>\n",
              "      <td>3</td>\n",
              "      <td>3</td>\n",
              "      <td>4</td>\n",
              "      <td>4</td>\n",
              "      <td>3</td>\n",
              "      <td>3</td>\n",
              "      <td>3</td>\n",
              "      <td>0</td>\n",
              "      <td>0.0</td>\n",
              "      <td>satisfied</td>\n",
              "    </tr>\n",
              "  </tbody>\n",
              "</table>\n",
              "</div>"
            ],
            "text/plain": [
              "   Unnamed: 0      id  ... arrival_daly_minutes             satisfaction\n",
              "0           0   70172  ...                 18.0  neutral or dissatisfied\n",
              "1           1    5047  ...                  6.0  neutral or dissatisfied\n",
              "2           2  110028  ...                  0.0                satisfied\n",
              "3           3   24026  ...                  9.0  neutral or dissatisfied\n",
              "4           4  119299  ...                  0.0                satisfied\n",
              "\n",
              "[5 rows x 25 columns]"
            ]
          },
          "metadata": {
            "tags": []
          },
          "execution_count": 4
        }
      ]
    },
    {
      "cell_type": "markdown",
      "metadata": {
        "id": "S7vCiacIBz8Y"
      },
      "source": [
        "It seems that there are 103,094 observations or rows and 25 columns."
      ]
    },
    {
      "cell_type": "code",
      "metadata": {
        "id": "n5z262S7_lag",
        "colab": {
          "base_uri": "https://localhost:8080/"
        },
        "outputId": "bb19c0a1-3dce-4edf-9469-b738c0706fbf"
      },
      "source": [
        "df.shape"
      ],
      "execution_count": 5,
      "outputs": [
        {
          "output_type": "execute_result",
          "data": {
            "text/plain": [
              "(103904, 25)"
            ]
          },
          "metadata": {
            "tags": []
          },
          "execution_count": 5
        }
      ]
    },
    {
      "cell_type": "code",
      "metadata": {
        "id": "2pY9En_1IAbp"
      },
      "source": [
        "df = df.rename({\"Unnamed: 0\":\"order\"}, axis = \"columns\")"
      ],
      "execution_count": 6,
      "outputs": []
    },
    {
      "cell_type": "code",
      "metadata": {
        "colab": {
          "base_uri": "https://localhost:8080/",
          "height": 272
        },
        "id": "oSJZ0ShBtflQ",
        "outputId": "987f330a-6de9-40bf-e637-536d399ef4fc"
      },
      "source": [
        "df1=df.drop(columns=['order'], axis=1)\n",
        "df1.head()"
      ],
      "execution_count": 7,
      "outputs": [
        {
          "output_type": "execute_result",
          "data": {
            "text/html": [
              "<div>\n",
              "<style scoped>\n",
              "    .dataframe tbody tr th:only-of-type {\n",
              "        vertical-align: middle;\n",
              "    }\n",
              "\n",
              "    .dataframe tbody tr th {\n",
              "        vertical-align: top;\n",
              "    }\n",
              "\n",
              "    .dataframe thead th {\n",
              "        text-align: right;\n",
              "    }\n",
              "</style>\n",
              "<table border=\"1\" class=\"dataframe\">\n",
              "  <thead>\n",
              "    <tr style=\"text-align: right;\">\n",
              "      <th></th>\n",
              "      <th>id</th>\n",
              "      <th>gender</th>\n",
              "      <th>customer_type</th>\n",
              "      <th>age</th>\n",
              "      <th>type_of_travel</th>\n",
              "      <th>class</th>\n",
              "      <th>flight_distance</th>\n",
              "      <th>inflight_wifi_service</th>\n",
              "      <th>departure_arrivel_convinent</th>\n",
              "      <th>ease_of_online_booking</th>\n",
              "      <th>gate_location</th>\n",
              "      <th>food_and_drink</th>\n",
              "      <th>online_boarding</th>\n",
              "      <th>seat_comfort</th>\n",
              "      <th>inflight_entertainment</th>\n",
              "      <th>onboard_service</th>\n",
              "      <th>legroom_service</th>\n",
              "      <th>baggage_handling</th>\n",
              "      <th>checkin_service</th>\n",
              "      <th>inflight_service</th>\n",
              "      <th>cleanliness</th>\n",
              "      <th>departure_dealy_minutes</th>\n",
              "      <th>arrival_daly_minutes</th>\n",
              "      <th>satisfaction</th>\n",
              "    </tr>\n",
              "  </thead>\n",
              "  <tbody>\n",
              "    <tr>\n",
              "      <th>0</th>\n",
              "      <td>70172</td>\n",
              "      <td>Male</td>\n",
              "      <td>Loyal Customer</td>\n",
              "      <td>13</td>\n",
              "      <td>Personal Travel</td>\n",
              "      <td>Eco Plus</td>\n",
              "      <td>460</td>\n",
              "      <td>3</td>\n",
              "      <td>4</td>\n",
              "      <td>3</td>\n",
              "      <td>1</td>\n",
              "      <td>5</td>\n",
              "      <td>3</td>\n",
              "      <td>5</td>\n",
              "      <td>5</td>\n",
              "      <td>4</td>\n",
              "      <td>3</td>\n",
              "      <td>4</td>\n",
              "      <td>4</td>\n",
              "      <td>5</td>\n",
              "      <td>5</td>\n",
              "      <td>25</td>\n",
              "      <td>18.0</td>\n",
              "      <td>neutral or dissatisfied</td>\n",
              "    </tr>\n",
              "    <tr>\n",
              "      <th>1</th>\n",
              "      <td>5047</td>\n",
              "      <td>Male</td>\n",
              "      <td>disloyal Customer</td>\n",
              "      <td>25</td>\n",
              "      <td>Business travel</td>\n",
              "      <td>Business</td>\n",
              "      <td>235</td>\n",
              "      <td>3</td>\n",
              "      <td>2</td>\n",
              "      <td>3</td>\n",
              "      <td>3</td>\n",
              "      <td>1</td>\n",
              "      <td>3</td>\n",
              "      <td>1</td>\n",
              "      <td>1</td>\n",
              "      <td>1</td>\n",
              "      <td>5</td>\n",
              "      <td>3</td>\n",
              "      <td>1</td>\n",
              "      <td>4</td>\n",
              "      <td>1</td>\n",
              "      <td>1</td>\n",
              "      <td>6.0</td>\n",
              "      <td>neutral or dissatisfied</td>\n",
              "    </tr>\n",
              "    <tr>\n",
              "      <th>2</th>\n",
              "      <td>110028</td>\n",
              "      <td>Female</td>\n",
              "      <td>Loyal Customer</td>\n",
              "      <td>26</td>\n",
              "      <td>Business travel</td>\n",
              "      <td>Business</td>\n",
              "      <td>1142</td>\n",
              "      <td>2</td>\n",
              "      <td>2</td>\n",
              "      <td>2</td>\n",
              "      <td>2</td>\n",
              "      <td>5</td>\n",
              "      <td>5</td>\n",
              "      <td>5</td>\n",
              "      <td>5</td>\n",
              "      <td>4</td>\n",
              "      <td>3</td>\n",
              "      <td>4</td>\n",
              "      <td>4</td>\n",
              "      <td>4</td>\n",
              "      <td>5</td>\n",
              "      <td>0</td>\n",
              "      <td>0.0</td>\n",
              "      <td>satisfied</td>\n",
              "    </tr>\n",
              "    <tr>\n",
              "      <th>3</th>\n",
              "      <td>24026</td>\n",
              "      <td>Female</td>\n",
              "      <td>Loyal Customer</td>\n",
              "      <td>25</td>\n",
              "      <td>Business travel</td>\n",
              "      <td>Business</td>\n",
              "      <td>562</td>\n",
              "      <td>2</td>\n",
              "      <td>5</td>\n",
              "      <td>5</td>\n",
              "      <td>5</td>\n",
              "      <td>2</td>\n",
              "      <td>2</td>\n",
              "      <td>2</td>\n",
              "      <td>2</td>\n",
              "      <td>2</td>\n",
              "      <td>5</td>\n",
              "      <td>3</td>\n",
              "      <td>1</td>\n",
              "      <td>4</td>\n",
              "      <td>2</td>\n",
              "      <td>11</td>\n",
              "      <td>9.0</td>\n",
              "      <td>neutral or dissatisfied</td>\n",
              "    </tr>\n",
              "    <tr>\n",
              "      <th>4</th>\n",
              "      <td>119299</td>\n",
              "      <td>Male</td>\n",
              "      <td>Loyal Customer</td>\n",
              "      <td>61</td>\n",
              "      <td>Business travel</td>\n",
              "      <td>Business</td>\n",
              "      <td>214</td>\n",
              "      <td>3</td>\n",
              "      <td>3</td>\n",
              "      <td>3</td>\n",
              "      <td>3</td>\n",
              "      <td>4</td>\n",
              "      <td>5</td>\n",
              "      <td>5</td>\n",
              "      <td>3</td>\n",
              "      <td>3</td>\n",
              "      <td>4</td>\n",
              "      <td>4</td>\n",
              "      <td>3</td>\n",
              "      <td>3</td>\n",
              "      <td>3</td>\n",
              "      <td>0</td>\n",
              "      <td>0.0</td>\n",
              "      <td>satisfied</td>\n",
              "    </tr>\n",
              "  </tbody>\n",
              "</table>\n",
              "</div>"
            ],
            "text/plain": [
              "       id  gender  ... arrival_daly_minutes             satisfaction\n",
              "0   70172    Male  ...                 18.0  neutral or dissatisfied\n",
              "1    5047    Male  ...                  6.0  neutral or dissatisfied\n",
              "2  110028  Female  ...                  0.0                satisfied\n",
              "3   24026  Female  ...                  9.0  neutral or dissatisfied\n",
              "4  119299    Male  ...                  0.0                satisfied\n",
              "\n",
              "[5 rows x 24 columns]"
            ]
          },
          "metadata": {
            "tags": []
          },
          "execution_count": 7
        }
      ]
    },
    {
      "cell_type": "code",
      "metadata": {
        "colab": {
          "base_uri": "https://localhost:8080/",
          "height": 272
        },
        "id": "j7MEaCpSvqAF",
        "outputId": "414cb9af-cd83-4cbb-b63d-31c2a080230d"
      },
      "source": [
        "def age_groups(age):\n",
        "    if age <= 18:\n",
        "        return '0-18'\n",
        "    elif 18 < age <= 30:\n",
        "        return '18-30'\n",
        "    elif 30 < age <= 40:\n",
        "        return '30-40'\n",
        "    elif 40 < age <= 50:\n",
        "        return '40-50'\n",
        "    elif 50 < age <= 61:\n",
        "        return '50-60'\n",
        "    elif 60 < age <= 61:\n",
        "        return '50-60'\n",
        "    else:\n",
        "        return '60>'\n",
        "\n",
        "def transfom_distance(distance):\n",
        "    if distance <= 1000:\n",
        "        return '0-1000'\n",
        "    elif 1000 < distance <= 2000:\n",
        "        return '1000-2000'\n",
        "    elif 2000 < distance <= 3000:\n",
        "        return '2000-3000'\n",
        "    elif 3000 < distance <= 4000:\n",
        "        return '3000-4000'\n",
        "    elif 4000 < distance <= 5000:\n",
        "        return '4000-5000'\n",
        "    else:\n",
        "        return '5000>'\n",
        "\n",
        "def transform_satisfaction(x):\n",
        "    if x == 'satisfied':\n",
        "        return 1\n",
        "    elif x == 'neutral or dissatisfied':\n",
        "        return 0\n",
        "    else:\n",
        "        return -1\n",
        "\n",
        "df1['age_group'] = df1['age'].apply(age_groups)\n",
        "df1['satisfaction_bool'] = df1['satisfaction'].apply(transform_satisfaction)\n",
        "df1['distance_range'] = df1['flight_distance'].apply(transfom_distance)\n",
        "# df2=df1.drop(columns=['Age_group'])\n",
        "df1.head()"
      ],
      "execution_count": 8,
      "outputs": [
        {
          "output_type": "execute_result",
          "data": {
            "text/html": [
              "<div>\n",
              "<style scoped>\n",
              "    .dataframe tbody tr th:only-of-type {\n",
              "        vertical-align: middle;\n",
              "    }\n",
              "\n",
              "    .dataframe tbody tr th {\n",
              "        vertical-align: top;\n",
              "    }\n",
              "\n",
              "    .dataframe thead th {\n",
              "        text-align: right;\n",
              "    }\n",
              "</style>\n",
              "<table border=\"1\" class=\"dataframe\">\n",
              "  <thead>\n",
              "    <tr style=\"text-align: right;\">\n",
              "      <th></th>\n",
              "      <th>id</th>\n",
              "      <th>gender</th>\n",
              "      <th>customer_type</th>\n",
              "      <th>age</th>\n",
              "      <th>type_of_travel</th>\n",
              "      <th>class</th>\n",
              "      <th>flight_distance</th>\n",
              "      <th>inflight_wifi_service</th>\n",
              "      <th>departure_arrivel_convinent</th>\n",
              "      <th>ease_of_online_booking</th>\n",
              "      <th>gate_location</th>\n",
              "      <th>food_and_drink</th>\n",
              "      <th>online_boarding</th>\n",
              "      <th>seat_comfort</th>\n",
              "      <th>inflight_entertainment</th>\n",
              "      <th>onboard_service</th>\n",
              "      <th>legroom_service</th>\n",
              "      <th>baggage_handling</th>\n",
              "      <th>checkin_service</th>\n",
              "      <th>inflight_service</th>\n",
              "      <th>cleanliness</th>\n",
              "      <th>departure_dealy_minutes</th>\n",
              "      <th>arrival_daly_minutes</th>\n",
              "      <th>satisfaction</th>\n",
              "      <th>age_group</th>\n",
              "      <th>satisfaction_bool</th>\n",
              "      <th>distance_range</th>\n",
              "    </tr>\n",
              "  </thead>\n",
              "  <tbody>\n",
              "    <tr>\n",
              "      <th>0</th>\n",
              "      <td>70172</td>\n",
              "      <td>Male</td>\n",
              "      <td>Loyal Customer</td>\n",
              "      <td>13</td>\n",
              "      <td>Personal Travel</td>\n",
              "      <td>Eco Plus</td>\n",
              "      <td>460</td>\n",
              "      <td>3</td>\n",
              "      <td>4</td>\n",
              "      <td>3</td>\n",
              "      <td>1</td>\n",
              "      <td>5</td>\n",
              "      <td>3</td>\n",
              "      <td>5</td>\n",
              "      <td>5</td>\n",
              "      <td>4</td>\n",
              "      <td>3</td>\n",
              "      <td>4</td>\n",
              "      <td>4</td>\n",
              "      <td>5</td>\n",
              "      <td>5</td>\n",
              "      <td>25</td>\n",
              "      <td>18.0</td>\n",
              "      <td>neutral or dissatisfied</td>\n",
              "      <td>0-18</td>\n",
              "      <td>0</td>\n",
              "      <td>0-1000</td>\n",
              "    </tr>\n",
              "    <tr>\n",
              "      <th>1</th>\n",
              "      <td>5047</td>\n",
              "      <td>Male</td>\n",
              "      <td>disloyal Customer</td>\n",
              "      <td>25</td>\n",
              "      <td>Business travel</td>\n",
              "      <td>Business</td>\n",
              "      <td>235</td>\n",
              "      <td>3</td>\n",
              "      <td>2</td>\n",
              "      <td>3</td>\n",
              "      <td>3</td>\n",
              "      <td>1</td>\n",
              "      <td>3</td>\n",
              "      <td>1</td>\n",
              "      <td>1</td>\n",
              "      <td>1</td>\n",
              "      <td>5</td>\n",
              "      <td>3</td>\n",
              "      <td>1</td>\n",
              "      <td>4</td>\n",
              "      <td>1</td>\n",
              "      <td>1</td>\n",
              "      <td>6.0</td>\n",
              "      <td>neutral or dissatisfied</td>\n",
              "      <td>18-30</td>\n",
              "      <td>0</td>\n",
              "      <td>0-1000</td>\n",
              "    </tr>\n",
              "    <tr>\n",
              "      <th>2</th>\n",
              "      <td>110028</td>\n",
              "      <td>Female</td>\n",
              "      <td>Loyal Customer</td>\n",
              "      <td>26</td>\n",
              "      <td>Business travel</td>\n",
              "      <td>Business</td>\n",
              "      <td>1142</td>\n",
              "      <td>2</td>\n",
              "      <td>2</td>\n",
              "      <td>2</td>\n",
              "      <td>2</td>\n",
              "      <td>5</td>\n",
              "      <td>5</td>\n",
              "      <td>5</td>\n",
              "      <td>5</td>\n",
              "      <td>4</td>\n",
              "      <td>3</td>\n",
              "      <td>4</td>\n",
              "      <td>4</td>\n",
              "      <td>4</td>\n",
              "      <td>5</td>\n",
              "      <td>0</td>\n",
              "      <td>0.0</td>\n",
              "      <td>satisfied</td>\n",
              "      <td>18-30</td>\n",
              "      <td>1</td>\n",
              "      <td>1000-2000</td>\n",
              "    </tr>\n",
              "    <tr>\n",
              "      <th>3</th>\n",
              "      <td>24026</td>\n",
              "      <td>Female</td>\n",
              "      <td>Loyal Customer</td>\n",
              "      <td>25</td>\n",
              "      <td>Business travel</td>\n",
              "      <td>Business</td>\n",
              "      <td>562</td>\n",
              "      <td>2</td>\n",
              "      <td>5</td>\n",
              "      <td>5</td>\n",
              "      <td>5</td>\n",
              "      <td>2</td>\n",
              "      <td>2</td>\n",
              "      <td>2</td>\n",
              "      <td>2</td>\n",
              "      <td>2</td>\n",
              "      <td>5</td>\n",
              "      <td>3</td>\n",
              "      <td>1</td>\n",
              "      <td>4</td>\n",
              "      <td>2</td>\n",
              "      <td>11</td>\n",
              "      <td>9.0</td>\n",
              "      <td>neutral or dissatisfied</td>\n",
              "      <td>18-30</td>\n",
              "      <td>0</td>\n",
              "      <td>0-1000</td>\n",
              "    </tr>\n",
              "    <tr>\n",
              "      <th>4</th>\n",
              "      <td>119299</td>\n",
              "      <td>Male</td>\n",
              "      <td>Loyal Customer</td>\n",
              "      <td>61</td>\n",
              "      <td>Business travel</td>\n",
              "      <td>Business</td>\n",
              "      <td>214</td>\n",
              "      <td>3</td>\n",
              "      <td>3</td>\n",
              "      <td>3</td>\n",
              "      <td>3</td>\n",
              "      <td>4</td>\n",
              "      <td>5</td>\n",
              "      <td>5</td>\n",
              "      <td>3</td>\n",
              "      <td>3</td>\n",
              "      <td>4</td>\n",
              "      <td>4</td>\n",
              "      <td>3</td>\n",
              "      <td>3</td>\n",
              "      <td>3</td>\n",
              "      <td>0</td>\n",
              "      <td>0.0</td>\n",
              "      <td>satisfied</td>\n",
              "      <td>50-60</td>\n",
              "      <td>1</td>\n",
              "      <td>0-1000</td>\n",
              "    </tr>\n",
              "  </tbody>\n",
              "</table>\n",
              "</div>"
            ],
            "text/plain": [
              "       id  gender  ... satisfaction_bool  distance_range\n",
              "0   70172    Male  ...                 0          0-1000\n",
              "1    5047    Male  ...                 0          0-1000\n",
              "2  110028  Female  ...                 1       1000-2000\n",
              "3   24026  Female  ...                 0          0-1000\n",
              "4  119299    Male  ...                 1          0-1000\n",
              "\n",
              "[5 rows x 27 columns]"
            ]
          },
          "metadata": {
            "tags": []
          },
          "execution_count": 8
        }
      ]
    },
    {
      "cell_type": "code",
      "metadata": {
        "colab": {
          "base_uri": "https://localhost:8080/",
          "height": 296
        },
        "id": "CTRrUDoMueo-",
        "outputId": "b1a78f9d-96c3-4281-a8c2-0b0e8246ef10"
      },
      "source": [
        "sns.countplot(y='gender', data=df1)"
      ],
      "execution_count": 9,
      "outputs": [
        {
          "output_type": "execute_result",
          "data": {
            "text/plain": [
              "<matplotlib.axes._subplots.AxesSubplot at 0x7f2744185f10>"
            ]
          },
          "metadata": {
            "tags": []
          },
          "execution_count": 9
        },
        {
          "output_type": "display_data",
          "data": {
            "image/png": "[encoded data removed]",
            "text/plain": [
              "<Figure size 432x288 with 1 Axes>"
            ]
          },
          "metadata": {
            "tags": [],
            "needs_background": "light"
          }
        }
      ]
    },
    {
      "cell_type": "code",
      "metadata": {
        "colab": {
          "base_uri": "https://localhost:8080/",
          "height": 296
        },
        "id": "TYuS0QmavCwV",
        "outputId": "4cf411b7-2a2c-4c6b-8d9c-8ed9ffa433b2"
      },
      "source": [
        "sns.countplot(y='age_group', data=df1)"
      ],
      "execution_count": 10,
      "outputs": [
        {
          "output_type": "execute_result",
          "data": {
            "text/plain": [
              "<matplotlib.axes._subplots.AxesSubplot at 0x7f274409ac10>"
            ]
          },
          "metadata": {
            "tags": []
          },
          "execution_count": 10
        },
        {
          "output_type": "display_data",
          "data": {
            "image/png": "[encoded data removed]",
            "text/plain": [
              "<Figure size 432x288 with 1 Axes>"
            ]
          },
          "metadata": {
            "tags": [],
            "needs_background": "light"
          }
        }
      ]
    },
    {
      "cell_type": "code",
      "metadata": {
        "colab": {
          "base_uri": "https://localhost:8080/",
          "height": 296
        },
        "id": "OnVht19Y2GcZ",
        "outputId": "2569dff0-882b-449e-e0b0-2b2eb2ecc17c"
      },
      "source": [
        "sns.countplot(y='customer_type', data=df1)"
      ],
      "execution_count": 11,
      "outputs": [
        {
          "output_type": "execute_result",
          "data": {
            "text/plain": [
              "<matplotlib.axes._subplots.AxesSubplot at 0x7f2743ba50d0>"
            ]
          },
          "metadata": {
            "tags": []
          },
          "execution_count": 11
        },
        {
          "output_type": "display_data",
          "data": {
            "image/png": "[encoded data removed]",
            "text/plain": [
              "<Figure size 432x288 with 1 Axes>"
            ]
          },
          "metadata": {
            "tags": [],
            "needs_background": "light"
          }
        }
      ]
    },
    {
      "cell_type": "code",
      "metadata": {
        "colab": {
          "base_uri": "https://localhost:8080/",
          "height": 386
        },
        "id": "qJn56ezv2VU3",
        "outputId": "c9538074-d815-4403-a45d-14c624972ec4"
      },
      "source": [
        "sns.displot(df1, x=\"flight_distance\", kind=\"kde\")"
      ],
      "execution_count": 12,
      "outputs": [
        {
          "output_type": "execute_result",
          "data": {
            "text/plain": [
              "<seaborn.axisgrid.FacetGrid at 0x7f2743b45310>"
            ]
          },
          "metadata": {
            "tags": []
          },
          "execution_count": 12
        },
        {
          "output_type": "display_data",
          "data": {
            "image/png": "[encoded data removed]",
            "text/plain": [
              "<Figure size 360x360 with 1 Axes>"
            ]
          },
          "metadata": {
            "tags": [],
            "needs_background": "light"
          }
        }
      ]
    },
    {
      "cell_type": "markdown",
      "metadata": {
        "id": "Q8Xx-jlm37Jb"
      },
      "source": [
        "\"Satisfied\" is less than \"neutral or dissatisfied\". \n",
        "Why is that?"
      ]
    },
    {
      "cell_type": "code",
      "metadata": {
        "colab": {
          "base_uri": "https://localhost:8080/",
          "height": 296
        },
        "id": "AjfDuA4x3FqA",
        "outputId": "5d055cc9-2b46-4af5-da19-7e5a880c0c00"
      },
      "source": [
        "sns.countplot(y='satisfaction', data=df1)"
      ],
      "execution_count": 13,
      "outputs": [
        {
          "output_type": "execute_result",
          "data": {
            "text/plain": [
              "<matplotlib.axes._subplots.AxesSubplot at 0x7f2743ba5410>"
            ]
          },
          "metadata": {
            "tags": []
          },
          "execution_count": 13
        },
        {
          "output_type": "display_data",
          "data": {
            "image/png": "[encoded data removed]",
            "text/plain": [
              "<Figure size 432x288 with 1 Axes>"
            ]
          },
          "metadata": {
            "tags": [],
            "needs_background": "light"
          }
        }
      ]
    },
    {
      "cell_type": "code",
      "metadata": {
        "colab": {
          "base_uri": "https://localhost:8080/",
          "height": 232
        },
        "id": "ZFNarpMd5vUk",
        "outputId": "f14d7a14-f21d-4611-c055-16c654b25a9a"
      },
      "source": [
        "# # Loyal customer and satisfied / unsatisfied?\n",
        "df1.pivot_table('satisfaction_bool', index='distance_range',\n",
        "                    columns='customer_type')"
      ],
      "execution_count": 14,
      "outputs": [
        {
          "output_type": "execute_result",
          "data": {
            "text/html": [
              "<div>\n",
              "<style scoped>\n",
              "    .dataframe tbody tr th:only-of-type {\n",
              "        vertical-align: middle;\n",
              "    }\n",
              "\n",
              "    .dataframe tbody tr th {\n",
              "        vertical-align: top;\n",
              "    }\n",
              "\n",
              "    .dataframe thead th {\n",
              "        text-align: right;\n",
              "    }\n",
              "</style>\n",
              "<table border=\"1\" class=\"dataframe\">\n",
              "  <thead>\n",
              "    <tr style=\"text-align: right;\">\n",
              "      <th>customer_type</th>\n",
              "      <th>Loyal Customer</th>\n",
              "      <th>disloyal Customer</th>\n",
              "    </tr>\n",
              "    <tr>\n",
              "      <th>distance_range</th>\n",
              "      <th></th>\n",
              "      <th></th>\n",
              "    </tr>\n",
              "  </thead>\n",
              "  <tbody>\n",
              "    <tr>\n",
              "      <th>0-1000</th>\n",
              "      <td>0.362293</td>\n",
              "      <td>0.227207</td>\n",
              "    </tr>\n",
              "    <tr>\n",
              "      <th>1000-2000</th>\n",
              "      <td>0.497442</td>\n",
              "      <td>0.282975</td>\n",
              "    </tr>\n",
              "    <tr>\n",
              "      <th>2000-3000</th>\n",
              "      <td>0.667459</td>\n",
              "      <td>0.157495</td>\n",
              "    </tr>\n",
              "    <tr>\n",
              "      <th>3000-4000</th>\n",
              "      <td>0.776449</td>\n",
              "      <td>0.250000</td>\n",
              "    </tr>\n",
              "    <tr>\n",
              "      <th>4000-5000</th>\n",
              "      <td>0.576923</td>\n",
              "      <td>0.333333</td>\n",
              "    </tr>\n",
              "  </tbody>\n",
              "</table>\n",
              "</div>"
            ],
            "text/plain": [
              "customer_type   Loyal Customer  disloyal Customer\n",
              "distance_range                                   \n",
              "0-1000                0.362293           0.227207\n",
              "1000-2000             0.497442           0.282975\n",
              "2000-3000             0.667459           0.157495\n",
              "3000-4000             0.776449           0.250000\n",
              "4000-5000             0.576923           0.333333"
            ]
          },
          "metadata": {
            "tags": []
          },
          "execution_count": 14
        }
      ]
    },
    {
      "cell_type": "code",
      "metadata": {
        "colab": {
          "base_uri": "https://localhost:8080/",
          "height": 298
        },
        "id": "bYWigHsJDY58",
        "outputId": "047dd7ed-09b6-4c27-85d5-2b90afb6f1f9"
      },
      "source": [
        "sns.countplot(x='satisfaction', hue='age_group', data=df1)"
      ],
      "execution_count": 15,
      "outputs": [
        {
          "output_type": "execute_result",
          "data": {
            "text/plain": [
              "<matplotlib.axes._subplots.AxesSubplot at 0x7f27440a4c90>"
            ]
          },
          "metadata": {
            "tags": []
          },
          "execution_count": 15
        },
        {
          "output_type": "display_data",
          "data": {
            "image/png": "[encoded data removed]",
            "text/plain": [
              "<Figure size 432x288 with 1 Axes>"
            ]
          },
          "metadata": {
            "tags": [],
            "needs_background": "light"
          }
        }
      ]
    },
    {
      "cell_type": "code",
      "metadata": {
        "id": "Wh6cj_9cI1qU",
        "colab": {
          "base_uri": "https://localhost:8080/",
          "height": 296
        },
        "outputId": "a6be26de-e417-432d-92b5-848210c6dac8"
      },
      "source": [
        "sns.countplot(x='satisfaction', hue='customer_type', data=df1)"
      ],
      "execution_count": 16,
      "outputs": [
        {
          "output_type": "execute_result",
          "data": {
            "text/plain": [
              "<matplotlib.axes._subplots.AxesSubplot at 0x7f273874cb50>"
            ]
          },
          "metadata": {
            "tags": []
          },
          "execution_count": 16
        },
        {
          "output_type": "display_data",
          "data": {
            "image/png": "[encoded data removed]",
            "text/plain": [
              "<Figure size 432x288 with 1 Axes>"
            ]
          },
          "metadata": {
            "tags": [],
            "needs_background": "light"
          }
        }
      ]
    },
    {
      "cell_type": "code",
      "metadata": {
        "id": "KTnu2cdHI5Gj",
        "colab": {
          "base_uri": "https://localhost:8080/",
          "height": 296
        },
        "outputId": "fcb85162-3a5d-4ae1-b465-23bb58a700b9"
      },
      "source": [
        "sns.countplot(x='satisfaction', hue='type_of_travel', data=df1)"
      ],
      "execution_count": 17,
      "outputs": [
        {
          "output_type": "execute_result",
          "data": {
            "text/plain": [
              "<matplotlib.axes._subplots.AxesSubplot at 0x7f27386bf990>"
            ]
          },
          "metadata": {
            "tags": []
          },
          "execution_count": 17
        },
        {
          "output_type": "display_data",
          "data": {
            "image/png": "[encoded data removed]",
            "text/plain": [
              "<Figure size 432x288 with 1 Axes>"
            ]
          },
          "metadata": {
            "tags": [],
            "needs_background": "light"
          }
        }
      ]
    },
    {
      "cell_type": "code",
      "metadata": {
        "id": "7dIVKJ4AJAmq",
        "colab": {
          "base_uri": "https://localhost:8080/",
          "height": 296
        },
        "outputId": "e4cd650c-46ce-462c-fe41-8303b27db556"
      },
      "source": [
        "sns.countplot(x='satisfaction', hue='class', data=df1)"
      ],
      "execution_count": 18,
      "outputs": [
        {
          "output_type": "execute_result",
          "data": {
            "text/plain": [
              "<matplotlib.axes._subplots.AxesSubplot at 0x7f273863c190>"
            ]
          },
          "metadata": {
            "tags": []
          },
          "execution_count": 18
        },
        {
          "output_type": "display_data",
          "data": {
            "image/png": "[encoded data removed]",
            "text/plain": [
              "<Figure size 432x288 with 1 Axes>"
            ]
          },
          "metadata": {
            "tags": [],
            "needs_background": "light"
          }
        }
      ]
    },
    {
      "cell_type": "code",
      "metadata": {
        "id": "NbSBAhRiJQ4Y",
        "colab": {
          "base_uri": "https://localhost:8080/",
          "height": 297
        },
        "outputId": "3fe5a539-aa7c-4ab6-fbcf-c9c31fab48a9"
      },
      "source": [
        "sns.countplot(x='inflight_wifi_service', data=df1)"
      ],
      "execution_count": 19,
      "outputs": [
        {
          "output_type": "execute_result",
          "data": {
            "text/plain": [
              "<matplotlib.axes._subplots.AxesSubplot at 0x7f273863add0>"
            ]
          },
          "metadata": {
            "tags": []
          },
          "execution_count": 19
        },
        {
          "output_type": "display_data",
          "data": {
            "image/png": "[encoded data removed]",
            "text/plain": [
              "<Figure size 432x288 with 1 Axes>"
            ]
          },
          "metadata": {
            "tags": [],
            "needs_background": "light"
          }
        }
      ]
    },
    {
      "cell_type": "code",
      "metadata": {
        "id": "6ClEW4KeMyyg",
        "colab": {
          "base_uri": "https://localhost:8080/",
          "height": 297
        },
        "outputId": "36ba8c34-02c1-4f25-82bf-e444d438703b"
      },
      "source": [
        "sns.countplot(x='departure_arrivel_convinent', data=df1)"
      ],
      "execution_count": 20,
      "outputs": [
        {
          "output_type": "execute_result",
          "data": {
            "text/plain": [
              "<matplotlib.axes._subplots.AxesSubplot at 0x7f273851d350>"
            ]
          },
          "metadata": {
            "tags": []
          },
          "execution_count": 20
        },
        {
          "output_type": "display_data",
          "data": {
            "image/png": "[encoded data removed]",
            "text/plain": [
              "<Figure size 432x288 with 1 Axes>"
            ]
          },
          "metadata": {
            "tags": [],
            "needs_background": "light"
          }
        }
      ]
    },
    {
      "cell_type": "code",
      "metadata": {
        "id": "UEfLQ14lM2dd",
        "colab": {
          "base_uri": "https://localhost:8080/",
          "height": 297
        },
        "outputId": "5afa235f-3ae6-416e-8b51-d76cd5b5b899"
      },
      "source": [
        "sns.countplot(x='ease_of_online_booking', data=df1)"
      ],
      "execution_count": 21,
      "outputs": [
        {
          "output_type": "execute_result",
          "data": {
            "text/plain": [
              "<matplotlib.axes._subplots.AxesSubplot at 0x7f27384a19d0>"
            ]
          },
          "metadata": {
            "tags": []
          },
          "execution_count": 21
        },
        {
          "output_type": "display_data",
          "data": {
            "image/png": "[encoded data removed]",
            "text/plain": [
              "<Figure size 432x288 with 1 Axes>"
            ]
          },
          "metadata": {
            "tags": [],
            "needs_background": "light"
          }
        }
      ]
    },
    {
      "cell_type": "code",
      "metadata": {
        "id": "d4dEiGBCM8Gs",
        "colab": {
          "base_uri": "https://localhost:8080/",
          "height": 302
        },
        "outputId": "04704be8-9060-4dd2-be4f-9b58735b8674"
      },
      "source": [
        "sns.countplot(x='gate_location', data=df1)"
      ],
      "execution_count": 22,
      "outputs": [
        {
          "output_type": "execute_result",
          "data": {
            "text/plain": [
              "<matplotlib.axes._subplots.AxesSubplot at 0x7f273851dd10>"
            ]
          },
          "metadata": {
            "tags": []
          },
          "execution_count": 22
        },
        {
          "output_type": "display_data",
          "data": {
            "image/png": "[encoded data removed]",
            "text/plain": [
              "<Figure size 432x288 with 1 Axes>"
            ]
          },
          "metadata": {
            "tags": [],
            "needs_background": "light"
          }
        }
      ]
    },
    {
      "cell_type": "code",
      "metadata": {
        "id": "5mDN6KryM91k",
        "colab": {
          "base_uri": "https://localhost:8080/",
          "height": 297
        },
        "outputId": "8af49ec1-19c5-4c18-c207-e883df8901b9"
      },
      "source": [
        "sns.countplot(x='food_and_drink', data=df1)"
      ],
      "execution_count": 23,
      "outputs": [
        {
          "output_type": "execute_result",
          "data": {
            "text/plain": [
              "<matplotlib.axes._subplots.AxesSubplot at 0x7f27384025d0>"
            ]
          },
          "metadata": {
            "tags": []
          },
          "execution_count": 23
        },
        {
          "output_type": "display_data",
          "data": {
            "image/png": "[encoded data removed]",
            "text/plain": [
              "<Figure size 432x288 with 1 Axes>"
            ]
          },
          "metadata": {
            "tags": [],
            "needs_background": "light"
          }
        }
      ]
    },
    {
      "cell_type": "code",
      "metadata": {
        "id": "-GRZg687NGzb",
        "colab": {
          "base_uri": "https://localhost:8080/",
          "height": 191
        },
        "outputId": "8fb6d2bb-d41b-4c05-cb94-4bfcd5649dac"
      },
      "source": [
        "df1.groupby('class').mean()"
      ],
      "execution_count": 24,
      "outputs": [
        {
          "output_type": "execute_result",
          "data": {
            "text/html": [
              "<div>\n",
              "<style scoped>\n",
              "    .dataframe tbody tr th:only-of-type {\n",
              "        vertical-align: middle;\n",
              "    }\n",
              "\n",
              "    .dataframe tbody tr th {\n",
              "        vertical-align: top;\n",
              "    }\n",
              "\n",
              "    .dataframe thead th {\n",
              "        text-align: right;\n",
              "    }\n",
              "</style>\n",
              "<table border=\"1\" class=\"dataframe\">\n",
              "  <thead>\n",
              "    <tr style=\"text-align: right;\">\n",
              "      <th></th>\n",
              "      <th>id</th>\n",
              "      <th>age</th>\n",
              "      <th>flight_distance</th>\n",
              "      <th>inflight_wifi_service</th>\n",
              "      <th>departure_arrivel_convinent</th>\n",
              "      <th>ease_of_online_booking</th>\n",
              "      <th>gate_location</th>\n",
              "      <th>food_and_drink</th>\n",
              "      <th>online_boarding</th>\n",
              "      <th>seat_comfort</th>\n",
              "      <th>inflight_entertainment</th>\n",
              "      <th>onboard_service</th>\n",
              "      <th>legroom_service</th>\n",
              "      <th>baggage_handling</th>\n",
              "      <th>checkin_service</th>\n",
              "      <th>inflight_service</th>\n",
              "      <th>cleanliness</th>\n",
              "      <th>departure_dealy_minutes</th>\n",
              "      <th>arrival_daly_minutes</th>\n",
              "      <th>satisfaction_bool</th>\n",
              "    </tr>\n",
              "    <tr>\n",
              "      <th>class</th>\n",
              "      <th></th>\n",
              "      <th></th>\n",
              "      <th></th>\n",
              "      <th></th>\n",
              "      <th></th>\n",
              "      <th></th>\n",
              "      <th></th>\n",
              "      <th></th>\n",
              "      <th></th>\n",
              "      <th></th>\n",
              "      <th></th>\n",
              "      <th></th>\n",
              "      <th></th>\n",
              "      <th></th>\n",
              "      <th></th>\n",
              "      <th></th>\n",
              "      <th></th>\n",
              "      <th></th>\n",
              "      <th></th>\n",
              "      <th></th>\n",
              "    </tr>\n",
              "  </thead>\n",
              "  <tbody>\n",
              "    <tr>\n",
              "      <th>Business</th>\n",
              "      <td>69023.783248</td>\n",
              "      <td>41.574328</td>\n",
              "      <td>1675.976925</td>\n",
              "      <td>2.775315</td>\n",
              "      <td>2.905910</td>\n",
              "      <td>2.913964</td>\n",
              "      <td>2.982926</td>\n",
              "      <td>3.323165</td>\n",
              "      <td>3.716541</td>\n",
              "      <td>3.760858</td>\n",
              "      <td>3.635437</td>\n",
              "      <td>3.679472</td>\n",
              "      <td>3.644498</td>\n",
              "      <td>3.842907</td>\n",
              "      <td>3.519178</td>\n",
              "      <td>3.844579</td>\n",
              "      <td>3.477600</td>\n",
              "      <td>14.398067</td>\n",
              "      <td>14.577272</td>\n",
              "      <td>0.694251</td>\n",
              "    </tr>\n",
              "    <tr>\n",
              "      <th>Eco</th>\n",
              "      <td>61606.757364</td>\n",
              "      <td>37.164253</td>\n",
              "      <td>743.439748</td>\n",
              "      <td>2.675067</td>\n",
              "      <td>3.199123</td>\n",
              "      <td>2.605241</td>\n",
              "      <td>2.971954</td>\n",
              "      <td>3.086277</td>\n",
              "      <td>2.812985</td>\n",
              "      <td>3.138838</td>\n",
              "      <td>3.098256</td>\n",
              "      <td>3.120355</td>\n",
              "      <td>3.085720</td>\n",
              "      <td>3.450551</td>\n",
              "      <td>3.122002</td>\n",
              "      <td>3.463921</td>\n",
              "      <td>3.108097</td>\n",
              "      <td>15.160509</td>\n",
              "      <td>15.672183</td>\n",
              "      <td>0.186138</td>\n",
              "    </tr>\n",
              "    <tr>\n",
              "      <th>Eco Plus</th>\n",
              "      <td>58448.238591</td>\n",
              "      <td>38.654524</td>\n",
              "      <td>747.125567</td>\n",
              "      <td>2.767948</td>\n",
              "      <td>3.217507</td>\n",
              "      <td>2.661996</td>\n",
              "      <td>2.967574</td>\n",
              "      <td>3.122631</td>\n",
              "      <td>2.889245</td>\n",
              "      <td>3.183747</td>\n",
              "      <td>3.141713</td>\n",
              "      <td>3.047638</td>\n",
              "      <td>3.061382</td>\n",
              "      <td>3.363758</td>\n",
              "      <td>3.017214</td>\n",
              "      <td>3.388444</td>\n",
              "      <td>3.130771</td>\n",
              "      <td>15.431545</td>\n",
              "      <td>16.088645</td>\n",
              "      <td>0.246064</td>\n",
              "    </tr>\n",
              "  </tbody>\n",
              "</table>\n",
              "</div>"
            ],
            "text/plain": [
              "                    id        age  ...  arrival_daly_minutes  satisfaction_bool\n",
              "class                              ...                                         \n",
              "Business  69023.783248  41.574328  ...             14.577272           0.694251\n",
              "Eco       61606.757364  37.164253  ...             15.672183           0.186138\n",
              "Eco Plus  58448.238591  38.654524  ...             16.088645           0.246064\n",
              "\n",
              "[3 rows x 20 columns]"
            ]
          },
          "metadata": {
            "tags": []
          },
          "execution_count": 24
        }
      ]
    },
    {
      "cell_type": "code",
      "metadata": {
        "id": "_4WbiagYOBZt",
        "colab": {
          "base_uri": "https://localhost:8080/"
        },
        "outputId": "419056db-ed62-4ecf-ee30-bebbc1be5a14"
      },
      "source": [
        "df1['satisfaction_bool'].mean()"
      ],
      "execution_count": 25,
      "outputs": [
        {
          "output_type": "execute_result",
          "data": {
            "text/plain": [
              "0.43333269171542965"
            ]
          },
          "metadata": {
            "tags": []
          },
          "execution_count": 25
        }
      ]
    },
    {
      "cell_type": "code",
      "metadata": {
        "id": "7S0ub8eyP0QJ",
        "colab": {
          "base_uri": "https://localhost:8080/",
          "height": 283
        },
        "outputId": "3f1e88e6-70a8-4289-fea1-fab4d862baf6"
      },
      "source": [
        "df1.groupby('age_group').mean()"
      ],
      "execution_count": 26,
      "outputs": [
        {
          "output_type": "execute_result",
          "data": {
            "text/html": [
              "<div>\n",
              "<style scoped>\n",
              "    .dataframe tbody tr th:only-of-type {\n",
              "        vertical-align: middle;\n",
              "    }\n",
              "\n",
              "    .dataframe tbody tr th {\n",
              "        vertical-align: top;\n",
              "    }\n",
              "\n",
              "    .dataframe thead th {\n",
              "        text-align: right;\n",
              "    }\n",
              "</style>\n",
              "<table border=\"1\" class=\"dataframe\">\n",
              "  <thead>\n",
              "    <tr style=\"text-align: right;\">\n",
              "      <th></th>\n",
              "      <th>id</th>\n",
              "      <th>age</th>\n",
              "      <th>flight_distance</th>\n",
              "      <th>inflight_wifi_service</th>\n",
              "      <th>departure_arrivel_convinent</th>\n",
              "      <th>ease_of_online_booking</th>\n",
              "      <th>gate_location</th>\n",
              "      <th>food_and_drink</th>\n",
              "      <th>online_boarding</th>\n",
              "      <th>seat_comfort</th>\n",
              "      <th>inflight_entertainment</th>\n",
              "      <th>onboard_service</th>\n",
              "      <th>legroom_service</th>\n",
              "      <th>baggage_handling</th>\n",
              "      <th>checkin_service</th>\n",
              "      <th>inflight_service</th>\n",
              "      <th>cleanliness</th>\n",
              "      <th>departure_dealy_minutes</th>\n",
              "      <th>arrival_daly_minutes</th>\n",
              "      <th>satisfaction_bool</th>\n",
              "    </tr>\n",
              "    <tr>\n",
              "      <th>age_group</th>\n",
              "      <th></th>\n",
              "      <th></th>\n",
              "      <th></th>\n",
              "      <th></th>\n",
              "      <th></th>\n",
              "      <th></th>\n",
              "      <th></th>\n",
              "      <th></th>\n",
              "      <th></th>\n",
              "      <th></th>\n",
              "      <th></th>\n",
              "      <th></th>\n",
              "      <th></th>\n",
              "      <th></th>\n",
              "      <th></th>\n",
              "      <th></th>\n",
              "      <th></th>\n",
              "      <th></th>\n",
              "      <th></th>\n",
              "      <th></th>\n",
              "    </tr>\n",
              "  </thead>\n",
              "  <tbody>\n",
              "    <tr>\n",
              "      <th>0-18</th>\n",
              "      <td>64195.241105</td>\n",
              "      <td>13.054552</td>\n",
              "      <td>924.703334</td>\n",
              "      <td>2.590190</td>\n",
              "      <td>3.329779</td>\n",
              "      <td>2.591424</td>\n",
              "      <td>2.971714</td>\n",
              "      <td>3.042205</td>\n",
              "      <td>2.626221</td>\n",
              "      <td>3.006174</td>\n",
              "      <td>3.070939</td>\n",
              "      <td>3.205074</td>\n",
              "      <td>3.206533</td>\n",
              "      <td>3.675272</td>\n",
              "      <td>3.200584</td>\n",
              "      <td>3.693232</td>\n",
              "      <td>3.058256</td>\n",
              "      <td>15.383545</td>\n",
              "      <td>15.941309</td>\n",
              "      <td>0.172747</td>\n",
              "    </tr>\n",
              "    <tr>\n",
              "      <th>18-30</th>\n",
              "      <td>64027.475176</td>\n",
              "      <td>24.856801</td>\n",
              "      <td>1041.808495</td>\n",
              "      <td>2.701862</td>\n",
              "      <td>2.846822</td>\n",
              "      <td>2.734527</td>\n",
              "      <td>2.969054</td>\n",
              "      <td>3.188653</td>\n",
              "      <td>2.902927</td>\n",
              "      <td>3.147769</td>\n",
              "      <td>3.196243</td>\n",
              "      <td>3.242830</td>\n",
              "      <td>3.208068</td>\n",
              "      <td>3.679847</td>\n",
              "      <td>3.235575</td>\n",
              "      <td>3.686095</td>\n",
              "      <td>3.203455</td>\n",
              "      <td>15.147392</td>\n",
              "      <td>15.526407</td>\n",
              "      <td>0.354118</td>\n",
              "    </tr>\n",
              "    <tr>\n",
              "      <th>30-40</th>\n",
              "      <td>63254.681554</td>\n",
              "      <td>36.040749</td>\n",
              "      <td>1185.621610</td>\n",
              "      <td>2.745413</td>\n",
              "      <td>3.013064</td>\n",
              "      <td>2.751733</td>\n",
              "      <td>2.988869</td>\n",
              "      <td>3.201622</td>\n",
              "      <td>3.171485</td>\n",
              "      <td>3.396312</td>\n",
              "      <td>3.368344</td>\n",
              "      <td>3.368486</td>\n",
              "      <td>3.370514</td>\n",
              "      <td>3.631797</td>\n",
              "      <td>3.260529</td>\n",
              "      <td>3.643541</td>\n",
              "      <td>3.267179</td>\n",
              "      <td>15.002405</td>\n",
              "      <td>15.502295</td>\n",
              "      <td>0.433146</td>\n",
              "    </tr>\n",
              "    <tr>\n",
              "      <th>40-50</th>\n",
              "      <td>66194.255399</td>\n",
              "      <td>45.378292</td>\n",
              "      <td>1375.983275</td>\n",
              "      <td>2.812233</td>\n",
              "      <td>3.079271</td>\n",
              "      <td>2.841674</td>\n",
              "      <td>2.990991</td>\n",
              "      <td>3.269581</td>\n",
              "      <td>3.614509</td>\n",
              "      <td>3.714729</td>\n",
              "      <td>3.554205</td>\n",
              "      <td>3.547136</td>\n",
              "      <td>3.521660</td>\n",
              "      <td>3.659382</td>\n",
              "      <td>3.408293</td>\n",
              "      <td>3.668563</td>\n",
              "      <td>3.424717</td>\n",
              "      <td>14.803612</td>\n",
              "      <td>15.045649</td>\n",
              "      <td>0.580025</td>\n",
              "    </tr>\n",
              "    <tr>\n",
              "      <th>50-60</th>\n",
              "      <td>66766.494079</td>\n",
              "      <td>55.595781</td>\n",
              "      <td>1356.037103</td>\n",
              "      <td>2.765997</td>\n",
              "      <td>3.119797</td>\n",
              "      <td>2.805642</td>\n",
              "      <td>2.973977</td>\n",
              "      <td>3.252859</td>\n",
              "      <td>3.645743</td>\n",
              "      <td>3.744091</td>\n",
              "      <td>3.539568</td>\n",
              "      <td>3.542008</td>\n",
              "      <td>3.501194</td>\n",
              "      <td>3.640915</td>\n",
              "      <td>3.416264</td>\n",
              "      <td>3.639898</td>\n",
              "      <td>3.412757</td>\n",
              "      <td>14.177891</td>\n",
              "      <td>14.458970</td>\n",
              "      <td>0.558831</td>\n",
              "    </tr>\n",
              "    <tr>\n",
              "      <th>60&gt;</th>\n",
              "      <td>64580.229420</td>\n",
              "      <td>66.742716</td>\n",
              "      <td>956.861669</td>\n",
              "      <td>2.580198</td>\n",
              "      <td>3.354597</td>\n",
              "      <td>2.642574</td>\n",
              "      <td>2.935644</td>\n",
              "      <td>3.088119</td>\n",
              "      <td>3.150354</td>\n",
              "      <td>3.346818</td>\n",
              "      <td>3.087553</td>\n",
              "      <td>3.133098</td>\n",
              "      <td>2.979491</td>\n",
              "      <td>3.299576</td>\n",
              "      <td>3.145120</td>\n",
              "      <td>3.319661</td>\n",
              "      <td>3.105092</td>\n",
              "      <td>14.234795</td>\n",
              "      <td>14.514123</td>\n",
              "      <td>0.198868</td>\n",
              "    </tr>\n",
              "  </tbody>\n",
              "</table>\n",
              "</div>"
            ],
            "text/plain": [
              "                     id        age  ...  arrival_daly_minutes  satisfaction_bool\n",
              "age_group                           ...                                         \n",
              "0-18       64195.241105  13.054552  ...             15.941309           0.172747\n",
              "18-30      64027.475176  24.856801  ...             15.526407           0.354118\n",
              "30-40      63254.681554  36.040749  ...             15.502295           0.433146\n",
              "40-50      66194.255399  45.378292  ...             15.045649           0.580025\n",
              "50-60      66766.494079  55.595781  ...             14.458970           0.558831\n",
              "60>        64580.229420  66.742716  ...             14.514123           0.198868\n",
              "\n",
              "[6 rows x 20 columns]"
            ]
          },
          "metadata": {
            "tags": []
          },
          "execution_count": 26
        }
      ]
    },
    {
      "cell_type": "code",
      "metadata": {
        "id": "PO8vDGshRbne",
        "colab": {
          "base_uri": "https://localhost:8080/",
          "height": 272
        },
        "outputId": "d7481e9a-5870-4887-81a6-98cb9d11c2d9"
      },
      "source": [
        "col = df1.loc[: , \"inflight_wifi_service\":\"cleanliness\"]\n",
        "df1['satisfaction_mean'] = col.mean(axis=1)\n",
        "df1.head()"
      ],
      "execution_count": 27,
      "outputs": [
        {
          "output_type": "execute_result",
          "data": {
            "text/html": [
              "<div>\n",
              "<style scoped>\n",
              "    .dataframe tbody tr th:only-of-type {\n",
              "        vertical-align: middle;\n",
              "    }\n",
              "\n",
              "    .dataframe tbody tr th {\n",
              "        vertical-align: top;\n",
              "    }\n",
              "\n",
              "    .dataframe thead th {\n",
              "        text-align: right;\n",
              "    }\n",
              "</style>\n",
              "<table border=\"1\" class=\"dataframe\">\n",
              "  <thead>\n",
              "    <tr style=\"text-align: right;\">\n",
              "      <th></th>\n",
              "      <th>id</th>\n",
              "      <th>gender</th>\n",
              "      <th>customer_type</th>\n",
              "      <th>age</th>\n",
              "      <th>type_of_travel</th>\n",
              "      <th>class</th>\n",
              "      <th>flight_distance</th>\n",
              "      <th>inflight_wifi_service</th>\n",
              "      <th>departure_arrivel_convinent</th>\n",
              "      <th>ease_of_online_booking</th>\n",
              "      <th>gate_location</th>\n",
              "      <th>food_and_drink</th>\n",
              "      <th>online_boarding</th>\n",
              "      <th>seat_comfort</th>\n",
              "      <th>inflight_entertainment</th>\n",
              "      <th>onboard_service</th>\n",
              "      <th>legroom_service</th>\n",
              "      <th>baggage_handling</th>\n",
              "      <th>checkin_service</th>\n",
              "      <th>inflight_service</th>\n",
              "      <th>cleanliness</th>\n",
              "      <th>departure_dealy_minutes</th>\n",
              "      <th>arrival_daly_minutes</th>\n",
              "      <th>satisfaction</th>\n",
              "      <th>age_group</th>\n",
              "      <th>satisfaction_bool</th>\n",
              "      <th>distance_range</th>\n",
              "      <th>satisfaction_mean</th>\n",
              "    </tr>\n",
              "  </thead>\n",
              "  <tbody>\n",
              "    <tr>\n",
              "      <th>0</th>\n",
              "      <td>70172</td>\n",
              "      <td>Male</td>\n",
              "      <td>Loyal Customer</td>\n",
              "      <td>13</td>\n",
              "      <td>Personal Travel</td>\n",
              "      <td>Eco Plus</td>\n",
              "      <td>460</td>\n",
              "      <td>3</td>\n",
              "      <td>4</td>\n",
              "      <td>3</td>\n",
              "      <td>1</td>\n",
              "      <td>5</td>\n",
              "      <td>3</td>\n",
              "      <td>5</td>\n",
              "      <td>5</td>\n",
              "      <td>4</td>\n",
              "      <td>3</td>\n",
              "      <td>4</td>\n",
              "      <td>4</td>\n",
              "      <td>5</td>\n",
              "      <td>5</td>\n",
              "      <td>25</td>\n",
              "      <td>18.0</td>\n",
              "      <td>neutral or dissatisfied</td>\n",
              "      <td>0-18</td>\n",
              "      <td>0</td>\n",
              "      <td>0-1000</td>\n",
              "      <td>3.857143</td>\n",
              "    </tr>\n",
              "    <tr>\n",
              "      <th>1</th>\n",
              "      <td>5047</td>\n",
              "      <td>Male</td>\n",
              "      <td>disloyal Customer</td>\n",
              "      <td>25</td>\n",
              "      <td>Business travel</td>\n",
              "      <td>Business</td>\n",
              "      <td>235</td>\n",
              "      <td>3</td>\n",
              "      <td>2</td>\n",
              "      <td>3</td>\n",
              "      <td>3</td>\n",
              "      <td>1</td>\n",
              "      <td>3</td>\n",
              "      <td>1</td>\n",
              "      <td>1</td>\n",
              "      <td>1</td>\n",
              "      <td>5</td>\n",
              "      <td>3</td>\n",
              "      <td>1</td>\n",
              "      <td>4</td>\n",
              "      <td>1</td>\n",
              "      <td>1</td>\n",
              "      <td>6.0</td>\n",
              "      <td>neutral or dissatisfied</td>\n",
              "      <td>18-30</td>\n",
              "      <td>0</td>\n",
              "      <td>0-1000</td>\n",
              "      <td>2.285714</td>\n",
              "    </tr>\n",
              "    <tr>\n",
              "      <th>2</th>\n",
              "      <td>110028</td>\n",
              "      <td>Female</td>\n",
              "      <td>Loyal Customer</td>\n",
              "      <td>26</td>\n",
              "      <td>Business travel</td>\n",
              "      <td>Business</td>\n",
              "      <td>1142</td>\n",
              "      <td>2</td>\n",
              "      <td>2</td>\n",
              "      <td>2</td>\n",
              "      <td>2</td>\n",
              "      <td>5</td>\n",
              "      <td>5</td>\n",
              "      <td>5</td>\n",
              "      <td>5</td>\n",
              "      <td>4</td>\n",
              "      <td>3</td>\n",
              "      <td>4</td>\n",
              "      <td>4</td>\n",
              "      <td>4</td>\n",
              "      <td>5</td>\n",
              "      <td>0</td>\n",
              "      <td>0.0</td>\n",
              "      <td>satisfied</td>\n",
              "      <td>18-30</td>\n",
              "      <td>1</td>\n",
              "      <td>1000-2000</td>\n",
              "      <td>3.714286</td>\n",
              "    </tr>\n",
              "    <tr>\n",
              "      <th>3</th>\n",
              "      <td>24026</td>\n",
              "      <td>Female</td>\n",
              "      <td>Loyal Customer</td>\n",
              "      <td>25</td>\n",
              "      <td>Business travel</td>\n",
              "      <td>Business</td>\n",
              "      <td>562</td>\n",
              "      <td>2</td>\n",
              "      <td>5</td>\n",
              "      <td>5</td>\n",
              "      <td>5</td>\n",
              "      <td>2</td>\n",
              "      <td>2</td>\n",
              "      <td>2</td>\n",
              "      <td>2</td>\n",
              "      <td>2</td>\n",
              "      <td>5</td>\n",
              "      <td>3</td>\n",
              "      <td>1</td>\n",
              "      <td>4</td>\n",
              "      <td>2</td>\n",
              "      <td>11</td>\n",
              "      <td>9.0</td>\n",
              "      <td>neutral or dissatisfied</td>\n",
              "      <td>18-30</td>\n",
              "      <td>0</td>\n",
              "      <td>0-1000</td>\n",
              "      <td>3.000000</td>\n",
              "    </tr>\n",
              "    <tr>\n",
              "      <th>4</th>\n",
              "      <td>119299</td>\n",
              "      <td>Male</td>\n",
              "      <td>Loyal Customer</td>\n",
              "      <td>61</td>\n",
              "      <td>Business travel</td>\n",
              "      <td>Business</td>\n",
              "      <td>214</td>\n",
              "      <td>3</td>\n",
              "      <td>3</td>\n",
              "      <td>3</td>\n",
              "      <td>3</td>\n",
              "      <td>4</td>\n",
              "      <td>5</td>\n",
              "      <td>5</td>\n",
              "      <td>3</td>\n",
              "      <td>3</td>\n",
              "      <td>4</td>\n",
              "      <td>4</td>\n",
              "      <td>3</td>\n",
              "      <td>3</td>\n",
              "      <td>3</td>\n",
              "      <td>0</td>\n",
              "      <td>0.0</td>\n",
              "      <td>satisfied</td>\n",
              "      <td>50-60</td>\n",
              "      <td>1</td>\n",
              "      <td>0-1000</td>\n",
              "      <td>3.500000</td>\n",
              "    </tr>\n",
              "  </tbody>\n",
              "</table>\n",
              "</div>"
            ],
            "text/plain": [
              "       id  gender  ... distance_range  satisfaction_mean\n",
              "0   70172    Male  ...         0-1000           3.857143\n",
              "1    5047    Male  ...         0-1000           2.285714\n",
              "2  110028  Female  ...      1000-2000           3.714286\n",
              "3   24026  Female  ...         0-1000           3.000000\n",
              "4  119299    Male  ...         0-1000           3.500000\n",
              "\n",
              "[5 rows x 28 columns]"
            ]
          },
          "metadata": {
            "tags": []
          },
          "execution_count": 27
        }
      ]
    },
    {
      "cell_type": "code",
      "metadata": {
        "id": "EmscV2XXRp0B",
        "colab": {
          "base_uri": "https://localhost:8080/"
        },
        "outputId": "f323dc60-457d-43da-b1d4-877f7c925bcf"
      },
      "source": [
        "df1['satisfaction_mean'].mean()"
      ],
      "execution_count": 28,
      "outputs": [
        {
          "output_type": "execute_result",
          "data": {
            "text/plain": [
              "3.2407242674556813"
            ]
          },
          "metadata": {
            "tags": []
          },
          "execution_count": 28
        }
      ]
    },
    {
      "cell_type": "code",
      "metadata": {
        "id": "0VD2vjktSkIJ",
        "colab": {
          "base_uri": "https://localhost:8080/"
        },
        "outputId": "41ae1841-d68d-45e9-f9c4-615c9a1209e2"
      },
      "source": [
        "df1.groupby('class')['satisfaction_mean'].mean()"
      ],
      "execution_count": 29,
      "outputs": [
        {
          "output_type": "execute_result",
          "data": {
            "text/plain": [
              "class\n",
              "Business    3.430168\n",
              "Eco         3.067028\n",
              "Eco Plus    3.068684\n",
              "Name: satisfaction_mean, dtype: float64"
            ]
          },
          "metadata": {
            "tags": []
          },
          "execution_count": 29
        }
      ]
    },
    {
      "cell_type": "code",
      "metadata": {
        "id": "m7O9KjDISuah",
        "colab": {
          "base_uri": "https://localhost:8080/"
        },
        "outputId": "083fd929-9748-4a18-caf7-cc63f053685e"
      },
      "source": [
        "df1.groupby('gender')['satisfaction_mean'].mean()"
      ],
      "execution_count": 30,
      "outputs": [
        {
          "output_type": "execute_result",
          "data": {
            "text/plain": [
              "gender\n",
              "Female    3.231958\n",
              "Male      3.249756\n",
              "Name: satisfaction_mean, dtype: float64"
            ]
          },
          "metadata": {
            "tags": []
          },
          "execution_count": 30
        }
      ]
    },
    {
      "cell_type": "code",
      "metadata": {
        "id": "Zb4VuenASxXH",
        "colab": {
          "base_uri": "https://localhost:8080/"
        },
        "outputId": "17bdad63-0806-4342-d61b-7713113facd5"
      },
      "source": [
        "df1.groupby('age_group')['satisfaction_mean'].mean()"
      ],
      "execution_count": 31,
      "outputs": [
        {
          "output_type": "execute_result",
          "data": {
            "text/plain": [
              "age_group\n",
              "0-18     3.090542\n",
              "18-30    3.138838\n",
              "30-40    3.227064\n",
              "40-50    3.364782\n",
              "50-60    3.357194\n",
              "60>      3.083421\n",
              "Name: satisfaction_mean, dtype: float64"
            ]
          },
          "metadata": {
            "tags": []
          },
          "execution_count": 31
        }
      ]
    },
    {
      "cell_type": "code",
      "metadata": {
        "id": "qVe07cVUS49n",
        "colab": {
          "base_uri": "https://localhost:8080/"
        },
        "outputId": "15df12df-08e8-406e-d06e-b23e728c4576"
      },
      "source": [
        "df1.groupby('distance_range')['satisfaction_mean'].mean()"
      ],
      "execution_count": 42,
      "outputs": [
        {
          "output_type": "execute_result",
          "data": {
            "text/plain": [
              "distance_range\n",
              "0-1000       3.163247\n",
              "1000-2000    3.280392\n",
              "2000-3000    3.381171\n",
              "3000-4000    3.474604\n",
              "4000-5000    3.206897\n",
              "Name: satisfaction_mean, dtype: float64"
            ]
          },
          "metadata": {
            "tags": []
          },
          "execution_count": 42
        }
      ]
    },
    {
      "cell_type": "code",
      "metadata": {
        "id": "Ft7OeQRwgzzC",
        "outputId": "b819a0e4-c01a-4be4-d2d5-6c2f111fc66f",
        "colab": {
          "base_uri": "https://localhost:8080/",
          "height": 191
        }
      },
      "source": [
        "df1.groupby('class').mean()"
      ],
      "execution_count": 70,
      "outputs": [
        {
          "output_type": "execute_result",
          "data": {
            "text/html": [
              "<div>\n",
              "<style scoped>\n",
              "    .dataframe tbody tr th:only-of-type {\n",
              "        vertical-align: middle;\n",
              "    }\n",
              "\n",
              "    .dataframe tbody tr th {\n",
              "        vertical-align: top;\n",
              "    }\n",
              "\n",
              "    .dataframe thead th {\n",
              "        text-align: right;\n",
              "    }\n",
              "</style>\n",
              "<table border=\"1\" class=\"dataframe\">\n",
              "  <thead>\n",
              "    <tr style=\"text-align: right;\">\n",
              "      <th></th>\n",
              "      <th>id</th>\n",
              "      <th>age</th>\n",
              "      <th>flight_distance</th>\n",
              "      <th>inflight_wifi_service</th>\n",
              "      <th>departure_arrivel_convinent</th>\n",
              "      <th>ease_of_online_booking</th>\n",
              "      <th>gate_location</th>\n",
              "      <th>food_and_drink</th>\n",
              "      <th>online_boarding</th>\n",
              "      <th>seat_comfort</th>\n",
              "      <th>inflight_entertainment</th>\n",
              "      <th>onboard_service</th>\n",
              "      <th>legroom_service</th>\n",
              "      <th>baggage_handling</th>\n",
              "      <th>checkin_service</th>\n",
              "      <th>inflight_service</th>\n",
              "      <th>cleanliness</th>\n",
              "      <th>departure_dealy_minutes</th>\n",
              "      <th>arrival_daly_minutes</th>\n",
              "      <th>satisfaction_bool</th>\n",
              "      <th>satisfaction_mean</th>\n",
              "    </tr>\n",
              "    <tr>\n",
              "      <th>class</th>\n",
              "      <th></th>\n",
              "      <th></th>\n",
              "      <th></th>\n",
              "      <th></th>\n",
              "      <th></th>\n",
              "      <th></th>\n",
              "      <th></th>\n",
              "      <th></th>\n",
              "      <th></th>\n",
              "      <th></th>\n",
              "      <th></th>\n",
              "      <th></th>\n",
              "      <th></th>\n",
              "      <th></th>\n",
              "      <th></th>\n",
              "      <th></th>\n",
              "      <th></th>\n",
              "      <th></th>\n",
              "      <th></th>\n",
              "      <th></th>\n",
              "      <th></th>\n",
              "    </tr>\n",
              "  </thead>\n",
              "  <tbody>\n",
              "    <tr>\n",
              "      <th>Business</th>\n",
              "      <td>69023.783248</td>\n",
              "      <td>41.574328</td>\n",
              "      <td>1675.976925</td>\n",
              "      <td>2.775315</td>\n",
              "      <td>2.905910</td>\n",
              "      <td>2.913964</td>\n",
              "      <td>2.982926</td>\n",
              "      <td>3.323165</td>\n",
              "      <td>3.716541</td>\n",
              "      <td>3.760858</td>\n",
              "      <td>3.635437</td>\n",
              "      <td>3.679472</td>\n",
              "      <td>3.644498</td>\n",
              "      <td>3.842907</td>\n",
              "      <td>3.519178</td>\n",
              "      <td>3.844579</td>\n",
              "      <td>3.477600</td>\n",
              "      <td>14.398067</td>\n",
              "      <td>14.577272</td>\n",
              "      <td>0.694251</td>\n",
              "      <td>3.430168</td>\n",
              "    </tr>\n",
              "    <tr>\n",
              "      <th>Eco</th>\n",
              "      <td>61606.757364</td>\n",
              "      <td>37.164253</td>\n",
              "      <td>743.439748</td>\n",
              "      <td>2.675067</td>\n",
              "      <td>3.199123</td>\n",
              "      <td>2.605241</td>\n",
              "      <td>2.971954</td>\n",
              "      <td>3.086277</td>\n",
              "      <td>2.812985</td>\n",
              "      <td>3.138838</td>\n",
              "      <td>3.098256</td>\n",
              "      <td>3.120355</td>\n",
              "      <td>3.085720</td>\n",
              "      <td>3.450551</td>\n",
              "      <td>3.122002</td>\n",
              "      <td>3.463921</td>\n",
              "      <td>3.108097</td>\n",
              "      <td>15.160509</td>\n",
              "      <td>15.672183</td>\n",
              "      <td>0.186138</td>\n",
              "      <td>3.067028</td>\n",
              "    </tr>\n",
              "    <tr>\n",
              "      <th>Eco Plus</th>\n",
              "      <td>58448.238591</td>\n",
              "      <td>38.654524</td>\n",
              "      <td>747.125567</td>\n",
              "      <td>2.767948</td>\n",
              "      <td>3.217507</td>\n",
              "      <td>2.661996</td>\n",
              "      <td>2.967574</td>\n",
              "      <td>3.122631</td>\n",
              "      <td>2.889245</td>\n",
              "      <td>3.183747</td>\n",
              "      <td>3.141713</td>\n",
              "      <td>3.047638</td>\n",
              "      <td>3.061382</td>\n",
              "      <td>3.363758</td>\n",
              "      <td>3.017214</td>\n",
              "      <td>3.388444</td>\n",
              "      <td>3.130771</td>\n",
              "      <td>15.431545</td>\n",
              "      <td>16.088645</td>\n",
              "      <td>0.246064</td>\n",
              "      <td>3.068684</td>\n",
              "    </tr>\n",
              "  </tbody>\n",
              "</table>\n",
              "</div>"
            ],
            "text/plain": [
              "                    id        age  ...  satisfaction_bool  satisfaction_mean\n",
              "class                              ...                                      \n",
              "Business  69023.783248  41.574328  ...           0.694251           3.430168\n",
              "Eco       61606.757364  37.164253  ...           0.186138           3.067028\n",
              "Eco Plus  58448.238591  38.654524  ...           0.246064           3.068684\n",
              "\n",
              "[3 rows x 21 columns]"
            ]
          },
          "metadata": {
            "tags": []
          },
          "execution_count": 70
        }
      ]
    },
    {
      "cell_type": "code",
      "metadata": {
        "id": "3Tmyq_mTiaaz",
        "outputId": "fa3a521a-1d13-42e5-8956-31a54388039b",
        "colab": {
          "base_uri": "https://localhost:8080/",
          "height": 132
        }
      },
      "source": [
        "fig, axes = plt.subplots(1, 2, sharey=True, figsize=(15, 5))\n",
        "axes[0] = sns.swarmplot(ax=axes[0], x=df1.inflight_wifi_service, y=df1.class)\n",
        "axes[0].set_xlabel(\"GDP in Trillions of U.S. Dollars\")\n",
        "axes[1] = sns.swarmplot(ax=axes[1], x=df1.inflight_wifi_service, y=df1.class)\n",
        "axes[1].set_xlabel(\"Life expectancy at birth (years)\");"
      ],
      "execution_count": 72,
      "outputs": [
        {
          "output_type": "error",
          "ename": "SyntaxError",
          "evalue": "ignored",
          "traceback": [
            "\u001b[0;36m  File \u001b[0;32m\"<ipython-input-72-8030852deb74>\"\u001b[0;36m, line \u001b[0;32m2\u001b[0m\n\u001b[0;31m    axes[0] = sns.swarmplot(ax=axes[0], x=df1.inflight_wifi_service, y=df1.class)\u001b[0m\n\u001b[0m                                                                               ^\u001b[0m\n\u001b[0;31mSyntaxError\u001b[0m\u001b[0;31m:\u001b[0m invalid syntax\n"
          ]
        }
      ]
    }
  ]
}